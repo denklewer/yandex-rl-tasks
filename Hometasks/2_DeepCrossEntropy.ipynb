{
 "cells": [
  {
   "cell_type": "code",
   "execution_count": 1,
   "metadata": {
    "collapsed": false
   },
   "outputs": [
    {
     "data": {
      "text/plain": [
       "array([-1.2098312e-03,  1.3997850e+00, -1.2256950e-01, -4.9489510e-01,\n        1.4088009e-03,  2.7763834e-02,  0.0000000e+00,  0.0000000e+00],\n      dtype=float32)"
      ]
     },
     "execution_count": 1,
     "metadata": {},
     "output_type": "execute_result"
    }
   ],
   "source": [
    "import matplotlib.pyplot as plt\n",
    "import gym\n",
    "from time import time\n",
    "import numpy as np\n",
    "env = gym.make('LunarLander-v2')\n",
    "env.reset()\n"
   ]
  },
  {
   "cell_type": "code",
   "execution_count": 2,
   "metadata": {},
   "outputs": [
    {
     "name": "stdout",
     "output_type": "stream",
     "text": [
      "4\n"
     ]
    }
   ],
   "source": [
    "n_actions = env.action_space.n\n",
    "\n",
    "print(n_actions)"
   ]
  },
  {
   "cell_type": "code",
   "execution_count": 3,
   "metadata": {},
   "outputs": [
    {
     "name": "stderr",
     "output_type": "stream",
     "text": [
      "D:\\Tools\\Python\\Anaconda\\lib\\site-packages\\sklearn\\neural_network\\multilayer_perceptron.py:562: ConvergenceWarning: Stochastic Optimizer: Maximum iterations (1) reached and the optimization hasn't converged yet.\n  % self.max_iter, ConvergenceWarning)\n"
     ]
    },
    {
     "data": {
      "text/plain": [
       "MLPClassifier(activation='tanh', alpha=0.0001, batch_size='auto', beta_1=0.9,\n       beta_2=0.999, early_stopping=False, epsilon=1e-08,\n       hidden_layer_sizes=(10, 10), learning_rate='constant',\n       learning_rate_init=0.001, max_iter=1, momentum=0.9,\n       n_iter_no_change=10, nesterovs_momentum=True, power_t=0.5,\n       random_state=None, shuffle=True, solver='adam', tol=0.0001,\n       validation_fraction=0.1, verbose=False, warm_start=True)"
      ]
     },
     "execution_count": 3,
     "metadata": {},
     "output_type": "execute_result"
    }
   ],
   "source": [
    "#create agent\n",
    "\n",
    "from sklearn.neural_network import MLPClassifier\n",
    "\n",
    "agent = MLPClassifier(hidden_layer_sizes=(10,10),\n",
    "                      activation='tanh',\n",
    "                      warm_start=True, #keep progress between .fit() calls\n",
    "                      max_iter=1 #make only 1 iteration on each .fit()\n",
    "                      )\n",
    "#initialize agent to the dimension of state an amount of actions\n",
    "agent.fit([env.reset()]*n_actions, range(n_actions))\n"
   ]
  },
  {
   "cell_type": "code",
   "execution_count": 4,
   "metadata": {},
   "outputs": [],
   "source": [
    "\n",
    "def generate_session(t_max=10000):\n",
    "    \"\"\"\n",
    "    Play game until end or for t_max ticks\n",
    "    :param t_max: max ticks \n",
    "    :return:  list of states, list of actions and sum of rewards\n",
    "    \"\"\"\n",
    "    states, actions = [], []\n",
    "    total_reward = 0.\n",
    "\n",
    "    s = env.reset()\n",
    "\n",
    "    for t in range(t_max):\n",
    "        # predict array of action probabilities\n",
    "\n",
    "        probs = agent.predict_proba([s])[0]\n",
    "\n",
    "        a = np.random.choice(n_actions, p=probs)\n",
    "        new_s, r, done, info = env.step(a)\n",
    "\n",
    "        states.append(s)\n",
    "        actions.append(a)\n",
    "        total_reward += r\n",
    "\n",
    "        s = new_s\n",
    "        if done: break\n",
    "\n",
    "    return states, actions, total_reward"
   ]
  },
  {
   "cell_type": "code",
   "execution_count": 5,
   "metadata": {
    "collapsed": false
   },
   "outputs": [
    {
     "name": "stdout",
     "output_type": "stream",
     "text": [
      "0) mean reward = -365.53891\tthreshold = -350.1\n"
     ]
    },
    {
     "name": "stdout",
     "output_type": "stream",
     "text": [
      "1) mean reward = -300.41152\tthreshold = -226.7\n"
     ]
    },
    {
     "name": "stdout",
     "output_type": "stream",
     "text": [
      "2) mean reward = -332.83047\tthreshold = -288.6\n"
     ]
    },
    {
     "name": "stdout",
     "output_type": "stream",
     "text": [
      "3) mean reward = -312.84225\tthreshold = -253.2\n"
     ]
    },
    {
     "name": "stdout",
     "output_type": "stream",
     "text": [
      "4) mean reward = -308.51201\tthreshold = -246.1\n"
     ]
    },
    {
     "name": "stdout",
     "output_type": "stream",
     "text": [
      "5) mean reward = -275.91639\tthreshold = -230.7\n"
     ]
    },
    {
     "name": "stdout",
     "output_type": "stream",
     "text": [
      "6) mean reward = -263.89857\tthreshold = -213.8\n"
     ]
    },
    {
     "name": "stdout",
     "output_type": "stream",
     "text": [
      "7) mean reward = -255.94623\tthreshold = -199.8\n"
     ]
    },
    {
     "name": "stdout",
     "output_type": "stream",
     "text": [
      "8) mean reward = -282.38903\tthreshold = -208.7\n"
     ]
    },
    {
     "name": "stdout",
     "output_type": "stream",
     "text": [
      "9) mean reward = -263.72741\tthreshold = -214.2\n"
     ]
    },
    {
     "name": "stdout",
     "output_type": "stream",
     "text": [
      "10) mean reward = -234.45279\tthreshold = -178.3\n"
     ]
    },
    {
     "name": "stdout",
     "output_type": "stream",
     "text": [
      "11) mean reward = -217.28058\tthreshold = -172.6\n"
     ]
    },
    {
     "name": "stdout",
     "output_type": "stream",
     "text": [
      "12) mean reward = -225.21964\tthreshold = -172.0\n"
     ]
    },
    {
     "name": "stdout",
     "output_type": "stream",
     "text": [
      "13) mean reward = -231.06432\tthreshold = -196.2\n"
     ]
    },
    {
     "name": "stdout",
     "output_type": "stream",
     "text": [
      "14) mean reward = -183.04293\tthreshold = -139.2\n"
     ]
    },
    {
     "name": "stdout",
     "output_type": "stream",
     "text": [
      "15) mean reward = -183.11796\tthreshold = -131.6\n"
     ]
    },
    {
     "name": "stdout",
     "output_type": "stream",
     "text": [
      "16) mean reward = -183.10087\tthreshold = -140.8\n"
     ]
    },
    {
     "name": "stdout",
     "output_type": "stream",
     "text": [
      "17) mean reward = -151.45343\tthreshold = -128.7\n"
     ]
    },
    {
     "name": "stdout",
     "output_type": "stream",
     "text": [
      "18) mean reward = -165.49852\tthreshold = -124.7\n"
     ]
    },
    {
     "name": "stdout",
     "output_type": "stream",
     "text": [
      "19) mean reward = -149.06186\tthreshold = -114.8\n"
     ]
    },
    {
     "name": "stdout",
     "output_type": "stream",
     "text": [
      "20) mean reward = -156.21839\tthreshold = -116.3\n"
     ]
    },
    {
     "name": "stdout",
     "output_type": "stream",
     "text": [
      "21) mean reward = -146.06477\tthreshold = -113.4\n"
     ]
    },
    {
     "name": "stdout",
     "output_type": "stream",
     "text": [
      "22) mean reward = -140.34312\tthreshold = -105.3\n"
     ]
    },
    {
     "name": "stdout",
     "output_type": "stream",
     "text": [
      "23) mean reward = -134.15946\tthreshold = -107.1\n"
     ]
    },
    {
     "name": "stdout",
     "output_type": "stream",
     "text": [
      "24) mean reward = -136.95184\tthreshold = -103.5\n"
     ]
    },
    {
     "name": "stdout",
     "output_type": "stream",
     "text": [
      "25) mean reward = -130.96890\tthreshold = -102.7\n"
     ]
    },
    {
     "name": "stdout",
     "output_type": "stream",
     "text": [
      "26) mean reward = -120.26772\tthreshold = -101.4\n"
     ]
    },
    {
     "name": "stdout",
     "output_type": "stream",
     "text": [
      "27) mean reward = -133.21307\tthreshold = -91.6\n"
     ]
    },
    {
     "name": "stdout",
     "output_type": "stream",
     "text": [
      "28) mean reward = -128.57217\tthreshold = -100.2\n"
     ]
    },
    {
     "name": "stdout",
     "output_type": "stream",
     "text": [
      "29) mean reward = -122.30720\tthreshold = -94.6\n"
     ]
    },
    {
     "name": "stdout",
     "output_type": "stream",
     "text": [
      "30) mean reward = -139.21501\tthreshold = -98.4\n"
     ]
    },
    {
     "name": "stdout",
     "output_type": "stream",
     "text": [
      "31) mean reward = -131.28644\tthreshold = -108.1\n"
     ]
    },
    {
     "name": "stdout",
     "output_type": "stream",
     "text": [
      "32) mean reward = -118.54117\tthreshold = -97.9\n"
     ]
    },
    {
     "name": "stdout",
     "output_type": "stream",
     "text": [
      "33) mean reward = -120.70141\tthreshold = -94.8\n"
     ]
    },
    {
     "name": "stdout",
     "output_type": "stream",
     "text": [
      "34) mean reward = -130.35216\tthreshold = -96.8\n"
     ]
    },
    {
     "name": "stdout",
     "output_type": "stream",
     "text": [
      "35) mean reward = -119.54657\tthreshold = -95.7\n"
     ]
    },
    {
     "name": "stdout",
     "output_type": "stream",
     "text": [
      "36) mean reward = -131.45287\tthreshold = -95.9\n"
     ]
    },
    {
     "name": "stdout",
     "output_type": "stream",
     "text": [
      "37) mean reward = -117.41784\tthreshold = -97.1\n"
     ]
    },
    {
     "name": "stdout",
     "output_type": "stream",
     "text": [
      "38) mean reward = -133.37395\tthreshold = -92.3\n"
     ]
    },
    {
     "name": "stdout",
     "output_type": "stream",
     "text": [
      "39) mean reward = -107.08184\tthreshold = -86.5\n"
     ]
    },
    {
     "name": "stdout",
     "output_type": "stream",
     "text": [
      "40) mean reward = -114.05081\tthreshold = -91.5\n"
     ]
    },
    {
     "name": "stdout",
     "output_type": "stream",
     "text": [
      "41) mean reward = -120.88719\tthreshold = -88.7\n"
     ]
    },
    {
     "name": "stdout",
     "output_type": "stream",
     "text": [
      "42) mean reward = -109.06765\tthreshold = -85.1\n"
     ]
    },
    {
     "name": "stdout",
     "output_type": "stream",
     "text": [
      "43) mean reward = -110.76816\tthreshold = -85.5\n"
     ]
    },
    {
     "name": "stdout",
     "output_type": "stream",
     "text": [
      "44) mean reward = -107.77012\tthreshold = -94.5\n"
     ]
    },
    {
     "name": "stdout",
     "output_type": "stream",
     "text": [
      "45) mean reward = -115.20118\tthreshold = -90.2\n"
     ]
    },
    {
     "name": "stdout",
     "output_type": "stream",
     "text": [
      "46) mean reward = -108.35437\tthreshold = -85.0\n"
     ]
    },
    {
     "name": "stdout",
     "output_type": "stream",
     "text": [
      "47) mean reward = -116.78829\tthreshold = -83.0\n"
     ]
    },
    {
     "name": "stdout",
     "output_type": "stream",
     "text": [
      "48) mean reward = -122.80394\tthreshold = -99.5\n"
     ]
    },
    {
     "name": "stdout",
     "output_type": "stream",
     "text": [
      "49) mean reward = -118.93179\tthreshold = -93.2\n"
     ]
    },
    {
     "name": "stdout",
     "output_type": "stream",
     "text": [
      "50) mean reward = -114.84280\tthreshold = -86.3\n"
     ]
    },
    {
     "name": "stdout",
     "output_type": "stream",
     "text": [
      "51) mean reward = -109.59998\tthreshold = -76.4\n"
     ]
    },
    {
     "name": "stdout",
     "output_type": "stream",
     "text": [
      "52) mean reward = -96.89926\tthreshold = -86.8\n"
     ]
    },
    {
     "name": "stdout",
     "output_type": "stream",
     "text": [
      "53) mean reward = -103.36927\tthreshold = -78.8\n"
     ]
    },
    {
     "name": "stdout",
     "output_type": "stream",
     "text": [
      "54) mean reward = -92.12815\tthreshold = -72.8\n"
     ]
    },
    {
     "name": "stdout",
     "output_type": "stream",
     "text": [
      "55) mean reward = -101.58574\tthreshold = -76.9\n"
     ]
    },
    {
     "name": "stdout",
     "output_type": "stream",
     "text": [
      "56) mean reward = -108.82926\tthreshold = -76.1\n"
     ]
    },
    {
     "name": "stdout",
     "output_type": "stream",
     "text": [
      "57) mean reward = -100.82230\tthreshold = -75.5\n"
     ]
    },
    {
     "name": "stdout",
     "output_type": "stream",
     "text": [
      "58) mean reward = -111.20534\tthreshold = -90.0\n"
     ]
    },
    {
     "name": "stdout",
     "output_type": "stream",
     "text": [
      "59) mean reward = -103.29057\tthreshold = -72.6\n"
     ]
    },
    {
     "name": "stdout",
     "output_type": "stream",
     "text": [
      "60) mean reward = -114.69301\tthreshold = -69.0\n"
     ]
    },
    {
     "name": "stdout",
     "output_type": "stream",
     "text": [
      "61) mean reward = -88.63135\tthreshold = -55.8\n"
     ]
    },
    {
     "name": "stdout",
     "output_type": "stream",
     "text": [
      "62) mean reward = -120.13118\tthreshold = -86.6\n"
     ]
    },
    {
     "name": "stdout",
     "output_type": "stream",
     "text": [
      "63) mean reward = -101.26171\tthreshold = -69.3\n"
     ]
    },
    {
     "name": "stdout",
     "output_type": "stream",
     "text": [
      "64) mean reward = -92.75602\tthreshold = -65.2\n"
     ]
    },
    {
     "name": "stdout",
     "output_type": "stream",
     "text": [
      "65) mean reward = -104.83207\tthreshold = -59.2\n"
     ]
    },
    {
     "name": "stdout",
     "output_type": "stream",
     "text": [
      "66) mean reward = -110.08185\tthreshold = -71.8\n"
     ]
    },
    {
     "name": "stdout",
     "output_type": "stream",
     "text": [
      "67) mean reward = -96.29981\tthreshold = -66.6\n"
     ]
    },
    {
     "name": "stdout",
     "output_type": "stream",
     "text": [
      "68) mean reward = -89.54476\tthreshold = -56.4\n"
     ]
    },
    {
     "name": "stdout",
     "output_type": "stream",
     "text": [
      "69) mean reward = -91.39508\tthreshold = -61.1\n"
     ]
    },
    {
     "name": "stdout",
     "output_type": "stream",
     "text": [
      "70) mean reward = -97.12135\tthreshold = -48.5\n"
     ]
    },
    {
     "name": "stdout",
     "output_type": "stream",
     "text": [
      "71) mean reward = -92.63969\tthreshold = -60.6\n"
     ]
    },
    {
     "name": "stdout",
     "output_type": "stream",
     "text": [
      "72) mean reward = -87.83487\tthreshold = -68.3\n"
     ]
    },
    {
     "name": "stdout",
     "output_type": "stream",
     "text": [
      "73) mean reward = -110.32034\tthreshold = -65.5\n"
     ]
    },
    {
     "name": "stdout",
     "output_type": "stream",
     "text": [
      "74) mean reward = -80.65923\tthreshold = -53.1\n"
     ]
    },
    {
     "name": "stdout",
     "output_type": "stream",
     "text": [
      "75) mean reward = -77.79882\tthreshold = -41.6\n"
     ]
    },
    {
     "name": "stdout",
     "output_type": "stream",
     "text": [
      "76) mean reward = -75.26728\tthreshold = -54.1\n"
     ]
    },
    {
     "name": "stdout",
     "output_type": "stream",
     "text": [
      "77) mean reward = -91.71328\tthreshold = -51.8\n"
     ]
    },
    {
     "name": "stdout",
     "output_type": "stream",
     "text": [
      "78) mean reward = -74.87390\tthreshold = -44.3\n"
     ]
    },
    {
     "name": "stdout",
     "output_type": "stream",
     "text": [
      "79) mean reward = -75.12984\tthreshold = -36.2\n"
     ]
    },
    {
     "name": "stdout",
     "output_type": "stream",
     "text": [
      "80) mean reward = -72.13343\tthreshold = -39.1\n"
     ]
    },
    {
     "name": "stdout",
     "output_type": "stream",
     "text": [
      "81) mean reward = -85.99519\tthreshold = -44.5\n"
     ]
    },
    {
     "name": "stdout",
     "output_type": "stream",
     "text": [
      "82) mean reward = -66.34836\tthreshold = -40.6\n"
     ]
    },
    {
     "name": "stdout",
     "output_type": "stream",
     "text": [
      "83) mean reward = -73.59014\tthreshold = -37.2\n"
     ]
    },
    {
     "name": "stdout",
     "output_type": "stream",
     "text": [
      "84) mean reward = -63.37014\tthreshold = -27.7\n"
     ]
    },
    {
     "name": "stdout",
     "output_type": "stream",
     "text": [
      "85) mean reward = -64.60953\tthreshold = -24.9\n"
     ]
    },
    {
     "name": "stdout",
     "output_type": "stream",
     "text": [
      "86) mean reward = -70.13549\tthreshold = -41.2\n"
     ]
    },
    {
     "name": "stdout",
     "output_type": "stream",
     "text": [
      "87) mean reward = -65.67920\tthreshold = -29.8\n"
     ]
    },
    {
     "name": "stdout",
     "output_type": "stream",
     "text": [
      "88) mean reward = -65.61520\tthreshold = -29.0\n"
     ]
    },
    {
     "name": "stdout",
     "output_type": "stream",
     "text": [
      "89) mean reward = -76.55546\tthreshold = -35.6\n"
     ]
    },
    {
     "name": "stdout",
     "output_type": "stream",
     "text": [
      "90) mean reward = -65.39061\tthreshold = -30.5\n"
     ]
    },
    {
     "name": "stdout",
     "output_type": "stream",
     "text": [
      "91) mean reward = -67.09199\tthreshold = -26.5\n"
     ]
    },
    {
     "name": "stdout",
     "output_type": "stream",
     "text": [
      "92) mean reward = -76.71939\tthreshold = -35.3\n"
     ]
    },
    {
     "name": "stdout",
     "output_type": "stream",
     "text": [
      "93) mean reward = -61.04824\tthreshold = -40.4\n"
     ]
    },
    {
     "name": "stdout",
     "output_type": "stream",
     "text": [
      "94) mean reward = -61.16211\tthreshold = -30.4\n"
     ]
    },
    {
     "name": "stdout",
     "output_type": "stream",
     "text": [
      "95) mean reward = -64.14312\tthreshold = -38.2\n"
     ]
    },
    {
     "name": "stdout",
     "output_type": "stream",
     "text": [
      "96) mean reward = -56.28519\tthreshold = -29.8\n"
     ]
    },
    {
     "name": "stdout",
     "output_type": "stream",
     "text": [
      "97) mean reward = -69.43291\tthreshold = -26.4\n"
     ]
    },
    {
     "name": "stdout",
     "output_type": "stream",
     "text": [
      "98) mean reward = -47.37025\tthreshold = -6.4\n"
     ]
    },
    {
     "name": "stdout",
     "output_type": "stream",
     "text": [
      "99) mean reward = -45.76944\tthreshold = -22.8\n"
     ]
    },
    {
     "name": "stdout",
     "output_type": "stream",
     "text": [
      "100) mean reward = -46.59813\tthreshold = -13.2\n"
     ]
    },
    {
     "name": "stdout",
     "output_type": "stream",
     "text": [
      "101) mean reward = -47.64674\tthreshold = -15.4\n"
     ]
    },
    {
     "name": "stdout",
     "output_type": "stream",
     "text": [
      "102) mean reward = -48.99160\tthreshold = -18.6\n"
     ]
    },
    {
     "name": "stdout",
     "output_type": "stream",
     "text": [
      "103) mean reward = -71.16099\tthreshold = -17.1\n"
     ]
    },
    {
     "name": "stdout",
     "output_type": "stream",
     "text": [
      "104) mean reward = -69.28716\tthreshold = -26.0\n"
     ]
    },
    {
     "name": "stdout",
     "output_type": "stream",
     "text": [
      "105) mean reward = -51.58620\tthreshold = -20.2\n"
     ]
    },
    {
     "name": "stdout",
     "output_type": "stream",
     "text": [
      "106) mean reward = -49.26463\tthreshold = -13.2\n"
     ]
    },
    {
     "name": "stdout",
     "output_type": "stream",
     "text": [
      "107) mean reward = -35.38569\tthreshold = -11.6\n"
     ]
    },
    {
     "name": "stdout",
     "output_type": "stream",
     "text": [
      "108) mean reward = -39.70958\tthreshold = -10.0\n"
     ]
    },
    {
     "name": "stdout",
     "output_type": "stream",
     "text": [
      "109) mean reward = -52.26444\tthreshold = -11.3\n"
     ]
    },
    {
     "name": "stdout",
     "output_type": "stream",
     "text": [
      "110) mean reward = -65.07892\tthreshold = -11.6\n"
     ]
    },
    {
     "name": "stdout",
     "output_type": "stream",
     "text": [
      "111) mean reward = -61.90849\tthreshold = -21.3\n"
     ]
    },
    {
     "name": "stdout",
     "output_type": "stream",
     "text": [
      "112) mean reward = -38.51762\tthreshold = -3.2\n"
     ]
    },
    {
     "name": "stdout",
     "output_type": "stream",
     "text": [
      "113) mean reward = -37.87147\tthreshold = -10.5\n"
     ]
    },
    {
     "name": "stdout",
     "output_type": "stream",
     "text": [
      "114) mean reward = -31.23808\tthreshold = -1.5\n"
     ]
    },
    {
     "name": "stdout",
     "output_type": "stream",
     "text": [
      "115) mean reward = -26.80153\tthreshold = -2.5\n"
     ]
    },
    {
     "name": "stdout",
     "output_type": "stream",
     "text": [
      "116) mean reward = -37.32410\tthreshold = -15.7\n"
     ]
    },
    {
     "name": "stdout",
     "output_type": "stream",
     "text": [
      "117) mean reward = -35.82402\tthreshold = -0.2\n"
     ]
    },
    {
     "name": "stdout",
     "output_type": "stream",
     "text": [
      "118) mean reward = -36.94766\tthreshold = -7.3\n"
     ]
    },
    {
     "name": "stdout",
     "output_type": "stream",
     "text": [
      "119) mean reward = -24.72802\tthreshold = 5.1\n"
     ]
    },
    {
     "name": "stdout",
     "output_type": "stream",
     "text": [
      "120) mean reward = -19.27389\tthreshold = -0.8\n"
     ]
    },
    {
     "name": "stdout",
     "output_type": "stream",
     "text": [
      "121) mean reward = -26.98865\tthreshold = 6.5\n"
     ]
    },
    {
     "name": "stdout",
     "output_type": "stream",
     "text": [
      "122) mean reward = -42.54330\tthreshold = -12.7\n"
     ]
    },
    {
     "name": "stdout",
     "output_type": "stream",
     "text": [
      "123) mean reward = -32.56626\tthreshold = 2.2\n"
     ]
    },
    {
     "name": "stdout",
     "output_type": "stream",
     "text": [
      "124) mean reward = -19.19017\tthreshold = -1.3\n"
     ]
    },
    {
     "name": "stdout",
     "output_type": "stream",
     "text": [
      "125) mean reward = -30.36962\tthreshold = -6.5\n"
     ]
    },
    {
     "name": "stdout",
     "output_type": "stream",
     "text": [
      "126) mean reward = -32.85636\tthreshold = -6.7\n"
     ]
    },
    {
     "name": "stdout",
     "output_type": "stream",
     "text": [
      "127) mean reward = -19.57245\tthreshold = 3.3\n"
     ]
    },
    {
     "name": "stdout",
     "output_type": "stream",
     "text": [
      "128) mean reward = -23.53708\tthreshold = 0.1\n"
     ]
    },
    {
     "name": "stdout",
     "output_type": "stream",
     "text": [
      "129) mean reward = -21.05620\tthreshold = 10.6\n"
     ]
    },
    {
     "name": "stdout",
     "output_type": "stream",
     "text": [
      "130) mean reward = -18.20349\tthreshold = 6.9\n"
     ]
    },
    {
     "name": "stdout",
     "output_type": "stream",
     "text": [
      "131) mean reward = -17.01208\tthreshold = 3.6\n"
     ]
    },
    {
     "name": "stdout",
     "output_type": "stream",
     "text": [
      "132) mean reward = -19.27987\tthreshold = -0.5\n"
     ]
    },
    {
     "name": "stdout",
     "output_type": "stream",
     "text": [
      "133) mean reward = -12.35668\tthreshold = 10.0\n"
     ]
    },
    {
     "name": "stdout",
     "output_type": "stream",
     "text": [
      "134) mean reward = -13.95870\tthreshold = 13.3\n"
     ]
    },
    {
     "name": "stdout",
     "output_type": "stream",
     "text": [
      "135) mean reward = -16.76358\tthreshold = 9.4\n"
     ]
    },
    {
     "name": "stdout",
     "output_type": "stream",
     "text": [
      "136) mean reward = -39.00549\tthreshold = -0.0\n"
     ]
    },
    {
     "name": "stdout",
     "output_type": "stream",
     "text": [
      "137) mean reward = -2.39197\tthreshold = 23.6\n"
     ]
    },
    {
     "name": "stdout",
     "output_type": "stream",
     "text": [
      "138) mean reward = -8.76246\tthreshold = 19.7\n"
     ]
    },
    {
     "name": "stdout",
     "output_type": "stream",
     "text": [
      "139) mean reward = -7.03605\tthreshold = 8.6\n"
     ]
    },
    {
     "name": "stdout",
     "output_type": "stream",
     "text": [
      "140) mean reward = -2.21354\tthreshold = 19.2\n"
     ]
    },
    {
     "name": "stdout",
     "output_type": "stream",
     "text": [
      "141) mean reward = 2.70407\tthreshold = 14.8\n"
     ]
    },
    {
     "name": "stdout",
     "output_type": "stream",
     "text": [
      "142) mean reward = 1.26446\tthreshold = 13.8\n"
     ]
    },
    {
     "name": "stdout",
     "output_type": "stream",
     "text": [
      "143) mean reward = -2.53185\tthreshold = 12.8\n"
     ]
    },
    {
     "name": "stdout",
     "output_type": "stream",
     "text": [
      "144) mean reward = -2.58770\tthreshold = 20.3\n"
     ]
    },
    {
     "name": "stdout",
     "output_type": "stream",
     "text": [
      "145) mean reward = -14.22193\tthreshold = 12.9\n"
     ]
    },
    {
     "name": "stdout",
     "output_type": "stream",
     "text": [
      "146) mean reward = -2.31214\tthreshold = 16.4\n"
     ]
    },
    {
     "name": "stdout",
     "output_type": "stream",
     "text": [
      "147) mean reward = -4.78450\tthreshold = 12.1\n"
     ]
    },
    {
     "name": "stdout",
     "output_type": "stream",
     "text": [
      "148) mean reward = 7.16592\tthreshold = 16.1\n"
     ]
    },
    {
     "name": "stdout",
     "output_type": "stream",
     "text": [
      "149) mean reward = 10.47930\tthreshold = 18.6\n"
     ]
    },
    {
     "name": "stdout",
     "output_type": "stream",
     "text": [
      "150) mean reward = 4.50800\tthreshold = 15.2\n"
     ]
    },
    {
     "name": "stdout",
     "output_type": "stream",
     "text": [
      "151) mean reward = 9.87474\tthreshold = 26.2\n"
     ]
    },
    {
     "name": "stdout",
     "output_type": "stream",
     "text": [
      "152) mean reward = -1.82366\tthreshold = 15.7\n"
     ]
    },
    {
     "name": "stdout",
     "output_type": "stream",
     "text": [
      "153) mean reward = -5.38315\tthreshold = 21.7\n"
     ]
    },
    {
     "name": "stdout",
     "output_type": "stream",
     "text": [
      "154) mean reward = 13.07054\tthreshold = 27.2\n"
     ]
    },
    {
     "name": "stdout",
     "output_type": "stream",
     "text": [
      "155) mean reward = 17.74878\tthreshold = 31.8\n"
     ]
    },
    {
     "name": "stdout",
     "output_type": "stream",
     "text": [
      "156) mean reward = 7.81309\tthreshold = 26.6\n"
     ]
    },
    {
     "name": "stdout",
     "output_type": "stream",
     "text": [
      "157) mean reward = 6.77033\tthreshold = 27.4\n"
     ]
    },
    {
     "name": "stdout",
     "output_type": "stream",
     "text": [
      "158) mean reward = 5.36335\tthreshold = 23.4\n"
     ]
    },
    {
     "name": "stdout",
     "output_type": "stream",
     "text": [
      "159) mean reward = 9.18092\tthreshold = 30.1\n"
     ]
    },
    {
     "name": "stdout",
     "output_type": "stream",
     "text": [
      "160) mean reward = -10.92677\tthreshold = 25.6\n"
     ]
    },
    {
     "name": "stdout",
     "output_type": "stream",
     "text": [
      "161) mean reward = 5.12152\tthreshold = 25.2\n"
     ]
    },
    {
     "name": "stdout",
     "output_type": "stream",
     "text": [
      "162) mean reward = 3.63495\tthreshold = 26.7\n"
     ]
    },
    {
     "name": "stdout",
     "output_type": "stream",
     "text": [
      "163) mean reward = 3.49535\tthreshold = 20.0\n"
     ]
    },
    {
     "name": "stdout",
     "output_type": "stream",
     "text": [
      "164) mean reward = 4.94508\tthreshold = 29.2\n"
     ]
    },
    {
     "name": "stdout",
     "output_type": "stream",
     "text": [
      "165) mean reward = 5.54345\tthreshold = 34.9\n"
     ]
    },
    {
     "name": "stdout",
     "output_type": "stream",
     "text": [
      "166) mean reward = -1.54680\tthreshold = 20.6\n"
     ]
    },
    {
     "name": "stdout",
     "output_type": "stream",
     "text": [
      "167) mean reward = 6.71125\tthreshold = 32.7\n"
     ]
    },
    {
     "name": "stdout",
     "output_type": "stream",
     "text": [
      "168) mean reward = 14.50303\tthreshold = 30.3\n"
     ]
    },
    {
     "name": "stdout",
     "output_type": "stream",
     "text": [
      "169) mean reward = 21.18658\tthreshold = 34.1\n"
     ]
    },
    {
     "name": "stdout",
     "output_type": "stream",
     "text": [
      "170) mean reward = 16.67016\tthreshold = 31.6\n"
     ]
    },
    {
     "name": "stdout",
     "output_type": "stream",
     "text": [
      "171) mean reward = 19.65370\tthreshold = 33.4\n"
     ]
    },
    {
     "name": "stdout",
     "output_type": "stream",
     "text": [
      "172) mean reward = 12.95394\tthreshold = 27.6\n"
     ]
    },
    {
     "name": "stdout",
     "output_type": "stream",
     "text": [
      "173) mean reward = 19.81576\tthreshold = 40.4\n"
     ]
    },
    {
     "name": "stdout",
     "output_type": "stream",
     "text": [
      "174) mean reward = 15.90551\tthreshold = 37.6\n"
     ]
    },
    {
     "name": "stdout",
     "output_type": "stream",
     "text": [
      "175) mean reward = 24.28213\tthreshold = 42.7\n"
     ]
    },
    {
     "name": "stdout",
     "output_type": "stream",
     "text": [
      "176) mean reward = 9.60292\tthreshold = 28.2\n"
     ]
    },
    {
     "name": "stdout",
     "output_type": "stream",
     "text": [
      "177) mean reward = 28.94330\tthreshold = 39.2\n"
     ]
    },
    {
     "name": "stdout",
     "output_type": "stream",
     "text": [
      "178) mean reward = 12.83948\tthreshold = 32.5\n"
     ]
    },
    {
     "name": "stdout",
     "output_type": "stream",
     "text": [
      "179) mean reward = 24.99665\tthreshold = 42.0\n"
     ]
    },
    {
     "name": "stdout",
     "output_type": "stream",
     "text": [
      "180) mean reward = 21.12112\tthreshold = 32.6\n"
     ]
    },
    {
     "name": "stdout",
     "output_type": "stream",
     "text": [
      "181) mean reward = 14.46970\tthreshold = 31.1\n"
     ]
    },
    {
     "name": "stdout",
     "output_type": "stream",
     "text": [
      "182) mean reward = 17.59595\tthreshold = 34.3\n"
     ]
    },
    {
     "name": "stdout",
     "output_type": "stream",
     "text": [
      "183) mean reward = 12.52311\tthreshold = 31.9\n"
     ]
    },
    {
     "name": "stdout",
     "output_type": "stream",
     "text": [
      "184) mean reward = 21.89743\tthreshold = 37.5\n"
     ]
    },
    {
     "name": "stdout",
     "output_type": "stream",
     "text": [
      "185) mean reward = 18.49258\tthreshold = 34.7\n"
     ]
    },
    {
     "name": "stdout",
     "output_type": "stream",
     "text": [
      "186) mean reward = 21.95755\tthreshold = 42.4\n"
     ]
    },
    {
     "name": "stdout",
     "output_type": "stream",
     "text": [
      "187) mean reward = 22.67336\tthreshold = 32.6\n"
     ]
    },
    {
     "name": "stdout",
     "output_type": "stream",
     "text": [
      "188) mean reward = 23.51577\tthreshold = 40.9\n"
     ]
    },
    {
     "name": "stdout",
     "output_type": "stream",
     "text": [
      "189) mean reward = 29.53844\tthreshold = 45.8\n"
     ]
    },
    {
     "name": "stdout",
     "output_type": "stream",
     "text": [
      "190) mean reward = 22.90056\tthreshold = 36.6\n"
     ]
    },
    {
     "name": "stdout",
     "output_type": "stream",
     "text": [
      "191) mean reward = 23.55472\tthreshold = 37.9\n"
     ]
    },
    {
     "name": "stdout",
     "output_type": "stream",
     "text": [
      "192) mean reward = 17.58156\tthreshold = 36.2\n"
     ]
    },
    {
     "name": "stdout",
     "output_type": "stream",
     "text": [
      "193) mean reward = 22.83213\tthreshold = 40.0\n"
     ]
    },
    {
     "name": "stdout",
     "output_type": "stream",
     "text": [
      "194) mean reward = 25.28360\tthreshold = 42.8\n"
     ]
    },
    {
     "name": "stdout",
     "output_type": "stream",
     "text": [
      "195) mean reward = 25.89052\tthreshold = 57.6\n"
     ]
    },
    {
     "name": "stdout",
     "output_type": "stream",
     "text": [
      "196) mean reward = 27.45861\tthreshold = 47.1\n"
     ]
    },
    {
     "name": "stdout",
     "output_type": "stream",
     "text": [
      "197) mean reward = 11.62650\tthreshold = 33.7\n"
     ]
    },
    {
     "name": "stdout",
     "output_type": "stream",
     "text": [
      "198) mean reward = 29.51805\tthreshold = 48.9\n"
     ]
    },
    {
     "name": "stdout",
     "output_type": "stream",
     "text": [
      "199) mean reward = 32.63710\tthreshold = 49.4\n"
     ]
    }
   ],
   "source": [
    "n_sessions = 50\n",
    "percentile = 70\n",
    "log = []\n",
    "\n",
    "for i in range(200):\n",
    "    # generate new sessions\n",
    "    sessions = [generate_session() for __ in range(n_sessions)]\n",
    "\n",
    "    batch_states, batch_actions, batch_rewards = map(np.array, zip(*sessions))\n",
    "    \n",
    "    threshold = np.percentile(batch_rewards, percentile)\n",
    "\n",
    "    elite_states = batch_states[batch_rewards >= threshold]\n",
    "    elite_actions = batch_actions[batch_rewards >= threshold]\n",
    "    \n",
    "    #elite_states: a list of states from top games\n",
    "    #elite_actions: a list of actions from top games\n",
    "\n",
    "    elite_states, elite_actions = map(np.concatenate, [elite_states, elite_actions])\n",
    "    \n",
    "    agent.fit(elite_states, elite_actions)\n",
    "    print(\"%i) mean reward = %.5f\\tthreshold = %.1f\" % (i, np.mean(batch_rewards), threshold))\n",
    "\n",
    "   # show_progress(rewards_batch, log, reward_range=[0, np.max(rewards_batch)])\n",
    "\n",
    "    if np.mean(batch_rewards) > 190:\n",
    "        print(\"You Win! You may stop training now via KeyboardInterrupt.\")"
   ]
  },
  {
   "cell_type": "code",
   "execution_count": 7,
   "metadata": {},
   "outputs": [],
   "source": [
    "# record several sessions\n",
    "import gym.wrappers\n",
    "directory = './videos/' + str(time())\n",
    "env = gym.wrappers.Monitor(gym.make(\"LunarLander-v2\"), directory)\n",
    "\n",
    "sessions = [generate_session() for _ in range(5)]\n",
    "env.close()"
   ]
  },
  {
   "cell_type": "code",
   "execution_count": 8,
   "metadata": {},
   "outputs": [
    {
     "data": {
      "text/html": [
       "\n",
       "<video width=\"640\" height=\"480\" controls>\n",
       "  <source src=\"./videos/1552124824.797129/openaigym.video.1.9076.video000001.mp4\" type=\"video/mp4\">\n",
       "</video>\n"
      ],
      "text/plain": [
       "\n",
       "<video width=\"640\" height=\"480\" controls>\n",
       "  <source src=\"./videos/1552124824.797129/openaigym.video.1.9076.video000001.mp4\" type=\"video/mp4\">\n",
       "</video>\n"
      ]
     },
     "execution_count": 8,
     "metadata": {},
     "output_type": "execute_result"
    }
   ],
   "source": [
    "# show video\n",
    "from IPython.display import HTML\n",
    "import os\n",
    "\n",
    "video_names = list(\n",
    "    filter(lambda s: s.endswith(\".mp4\"), os.listdir(directory)))\n",
    "\n",
    "HTML(\"\"\"\n",
    "<video width=\"640\" height=\"480\" controls>\n",
    "  <source src=\"{}\" type=\"video/mp4\">\n",
    "</video>\n",
    "\"\"\".format(directory + \"/\" + video_names[-1]))  # this may or may not be _last_ video. Try other indices"
   ]
  },
  {
   "cell_type": "code",
   "execution_count": null,
   "metadata": {},
   "outputs": [],
   "source": []
  }
 ],
 "metadata": {
  "kernelspec": {
   "display_name": "Python 2",
   "language": "python",
   "name": "python2"
  },
  "language_info": {
   "codemirror_mode": {
    "name": "ipython",
    "version": 2
   },
   "file_extension": ".py",
   "mimetype": "text/x-python",
   "name": "python",
   "nbconvert_exporter": "python",
   "pygments_lexer": "ipython2",
   "version": "2.7.6"
  }
 },
 "nbformat": 4,
 "nbformat_minor": 0
}

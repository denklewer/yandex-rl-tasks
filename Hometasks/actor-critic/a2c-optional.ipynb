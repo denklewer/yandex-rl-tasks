{
  "nbformat": 4,
  "nbformat_minor": 0,
  "metadata": {
    "colab": {
      "name": "a2c-optional.ipynb",
      "version": "0.3.2",
      "provenance": []
    },
    "kernelspec": {
      "name": "python3",
      "display_name": "Python 3"
    },
    "accelerator": "GPU"
  },
  "cells": [
    {
      "metadata": {
        "id": "SCqLFwFDYTxD",
        "colab_type": "code",
        "outputId": "0dd3c10e-c395-40b3-9028-acba45f0bbc1",
        "colab": {
          "base_uri": "https://localhost:8080/",
          "height": 36
        }
      },
      "cell_type": "code",
      "source": [
        "# in google colab uncomment this\n",
        "\n",
        "import os\n",
        "\n",
        "os.system('apt-get install -y xvfb')\n",
        "os.system('wget https://raw.githubusercontent.com/yandexdataschool/Practical_DL/fall18/xvfb -O ../xvfb')\n",
        "os.system('apt-get install -y python-opengl ffmpeg')\n",
        "os.system('pip install pyglet==1.2.4')\n",
        "\n",
        "os.system('python -m pip install -U pygame --user')\n",
        "\n",
        "print('setup complete')\n",
        "\n",
        "# XVFB will be launched if you run on a server\n",
        "import os\n",
        "if type(os.environ.get(\"DISPLAY\")) is not str or len(os.environ.get(\"DISPLAY\")) == 0:\n",
        "    !bash ../xvfb start\n",
        "    %env DISPLAY = : 1"
      ],
      "execution_count": 146,
      "outputs": [
        {
          "output_type": "stream",
          "text": [
            "setup complete\n"
          ],
          "name": "stdout"
        }
      ]
    },
    {
      "metadata": {
        "id": "bcBQ9mi8Ys7p",
        "colab_type": "code",
        "outputId": "34c004b1-3bfe-420a-ee3b-d0b4b859f453",
        "colab": {
          "base_uri": "https://localhost:8080/",
          "height": 147
        }
      },
      "cell_type": "code",
      "source": [
        "import sys\n",
        "!rm -r yandex-rl-tasks\n",
        "!git clone https://github.com/denklewer/yandex-rl-tasks.git\n",
        "sys.path.append(os.path.join(\"\", 'yandex-rl-tasks')) # To find local version of the library\n"
      ],
      "execution_count": 147,
      "outputs": [
        {
          "output_type": "stream",
          "text": [
            "Cloning into 'yandex-rl-tasks'...\n",
            "remote: Enumerating objects: 197, done.\u001b[K\n",
            "remote: Counting objects: 100% (197/197), done.\u001b[K\n",
            "remote: Compressing objects: 100% (146/146), done.\u001b[K\n",
            "remote: Total 197 (delta 106), reused 118 (delta 50), pack-reused 0\n",
            "Receiving objects: 100% (197/197), 9.86 MiB | 18.17 MiB/s, done.\n",
            "Resolving deltas: 100% (106/106), done.\n"
          ],
          "name": "stdout"
        }
      ]
    },
    {
      "metadata": {
        "id": "b9tZucxMYTxT",
        "colab_type": "text"
      },
      "cell_type": "markdown",
      "source": [
        "# Implementing Advantage-Actor Critic (A2C)"
      ]
    },
    {
      "metadata": {
        "id": "jt5u_VR-YTxU",
        "colab_type": "text"
      },
      "cell_type": "markdown",
      "source": [
        "In this notebook you will implement Advantage Actor Critic algorithm that trains on a batch of Atari 2600 environments running in parallel. \n",
        "\n",
        "Firstly, we will use environment wrappers implemented in file `atari_wrappers.py`. These wrappers preprocess observations (resize, grayscal, take max between frames, skip frames and stack them together) and rewards. Some of the wrappers help to reset the environment and pass `done` flag equal to `True` when agent dies.\n",
        "File `env_batch.py` includes implementation of `ParallelEnvBatch` class that allows to run multiple environments in parallel. To create an environment we can use `nature_dqn_env` function. Note that if you are using \n",
        "PyTorch and not using `tensorboardX` you will need to implement a wrapper that will log **raw** total rewards that the *unwrapped* environment returns and redefine the implemention of `nature_dqn_env` function here. \n",
        "\n"
      ]
    },
    {
      "metadata": {
        "id": "-XCnwHE1YTxW",
        "colab_type": "code",
        "outputId": "4565fe1d-7fb8-4464-b360-74f178a788d4",
        "colab": {
          "base_uri": "https://localhost:8080/",
          "height": 36
        }
      },
      "cell_type": "code",
      "source": [
        "import numpy as np\n",
        "from util.atari_wrappers_a2c import nature_dqn_env\n",
        "\n",
        "\n",
        "\n",
        "env = nature_dqn_env(\"SpaceInvadersNoFrameskip-v4\",summaries=False, nenvs=8)\n",
        "obs = env.reset()\n",
        "print(\"obs.shape\" , obs.shape)\n",
        "assert obs.dtype == np.uint8\n",
        "n_actions = env.action_space.n"
      ],
      "execution_count": 148,
      "outputs": [
        {
          "output_type": "stream",
          "text": [
            "obs.shape (8, 84, 84, 4)\n"
          ],
          "name": "stdout"
        }
      ]
    },
    {
      "metadata": {
        "id": "CgrVNuyemDEN",
        "colab_type": "text"
      },
      "cell_type": "markdown",
      "source": [
        ""
      ]
    },
    {
      "metadata": {
        "id": "bfNalCsDmdoN",
        "colab_type": "code",
        "outputId": "a598d5ea-cf73-4461-9224-b619b650ec32",
        "colab": {
          "base_uri": "https://localhost:8080/",
          "height": 167
        }
      },
      "cell_type": "code",
      "source": [
        "import matplotlib.pyplot as plt\n",
        "%matplotlib inline\n",
        "\n",
        "plt.title(\"Agent observation (4 frames top to bottom)\")\n",
        "print(obs.shape)\n",
        "\n",
        "plt.imshow( obs[0].reshape(84, -1), cmap='gray')\n",
        "plt.show()"
      ],
      "execution_count": 149,
      "outputs": [
        {
          "output_type": "stream",
          "text": [
            "(8, 84, 84, 4)\n"
          ],
          "name": "stdout"
        },
        {
          "output_type": "display_data",
          "data": {
            "image/png": "[encoded data removed]",
            "text/plain": [
              "<Figure size 432x288 with 1 Axes>"
            ]
          },
          "metadata": {
            "tags": []
          }
        }
      ]
    },
    {
      "metadata": {
        "id": "sMjm8KABYTxi",
        "colab_type": "text"
      },
      "cell_type": "markdown",
      "source": [
        "Next, we will need to implement a model that predicts logits and values. It is suggested that you use the same model as in [Nature DQN paper](https://web.stanford.edu/class/psych209/Readings/MnihEtAlHassibis15NatureControlDeepRL.pdf) with a modification that instead of having a single output layer, it will have two output layers taking as input the output of the last hidden layer. **Note** that this model is different from the model you used in homework where you implemented DQN. You can use your favorite deep learning framework here. We suggest that you use orthogonal initialization with parameter $\\sqrt{2}$ for kernels and initialize biases with zeros. "
      ]
    },
    {
      "metadata": {
        "id": "UXVpltjxYTxn",
        "colab_type": "code",
        "colab": {}
      },
      "cell_type": "code",
      "source": [
        "import torch\n",
        "import torch.nn as nn\n",
        "import torch.nn.functional as F\n",
        "device = torch.device('cuda' if torch.cuda.is_available() else 'cpu')\n",
        "# those who have a GPU but feel unfair to use it can uncomment:\n",
        "# device = torch.device('cpu')"
      ],
      "execution_count": 0,
      "outputs": []
    },
    {
      "metadata": {
        "id": "75QH1eGkYTxt",
        "colab_type": "code",
        "colab": {}
      },
      "cell_type": "code",
      "source": [
        "def conv2d_size_out(size, kernel_size=3, stride=2):\n",
        "    \"\"\"\n",
        "    common use case:\n",
        "    cur_layer_img_w = conv2d_size_out(cur_layer_img_w, kernel_size, stride)\n",
        "    cur_layer_img_h = conv2d_size_out(cur_layer_img_h, kernel_size, stride)\n",
        "    to understand the shape for dense layer's input\n",
        "    \"\"\"\n",
        "    return (size - (kernel_size - 1) - 1) // stride + 1\n",
        "\n",
        "\n",
        "class Flatten(nn.Module):\n",
        "    def __init__(self):\n",
        "        super().__init__()\n",
        "        \n",
        "    def forward(self, x):\n",
        "        return x.view(x.size(0), -1)\n",
        "      \n",
        "      \n",
        "def to_one_hot(y_tensor, ndims):\n",
        "    \"\"\" helper: take an integer vector and convert it to 1-hot matrix. \"\"\"\n",
        "    y_tensor = torch.LongTensor(y_tensor).view(-1,1)\n",
        "    y_one_hot = torch.zeros(\n",
        "        y_tensor.size()[0], ndims).scatter_(1, y_tensor, 1)\n",
        "    return y_one_hot.cuda()"
      ],
      "execution_count": 0,
      "outputs": []
    },
    {
      "metadata": {
        "id": "RCwqVuGAYTx0",
        "colab_type": "code",
        "colab": {}
      },
      "cell_type": "code",
      "source": [
        "import math\n",
        "def weights_init(m):\n",
        "    if type(m) == nn.Linear or type(m) == nn.Conv2d:\n",
        "        nn.init.orthogonal(m.weight.data, math.sqrt(2.0))\n",
        "        if m.bias is not None:\n",
        "            m.bias.data.fill_(0)\n",
        "\n",
        "class Agent(nn.Module):\n",
        "    def __init__(self, name, state_shape, n_actions, reuse=False):\n",
        "        \"\"\"A simple actor-critic agent\"\"\"\n",
        "        super(Agent, self).__init__()\n",
        "\n",
        "        # Prepare neural network architecture\n",
        "        # Your code here: prepare any necessary layers, variables, etc.\n",
        "        self.n_actions = n_actions\n",
        "        self.state_shape = state_shape\n",
        "        print(state_shape)\n",
        "        n_env, h, w, c = state_shape\n",
        "\n",
        "        self.common = nn.Sequential(\n",
        "            nn.Conv2d(c, 32, kernel_size=3, stride=2),\n",
        "            nn.ReLU(),\n",
        "            nn.Conv2d(32, 32, kernel_size=3, stride=2),\n",
        "            nn.ReLU(),\n",
        "            nn.Conv2d(32, 32, kernel_size=3, stride=2),\n",
        "            nn.ReLU(),\n",
        "            Flatten()\n",
        "        )\n",
        "\n",
        "        convw = conv2d_size_out(conv2d_size_out(conv2d_size_out(w)))\n",
        "        convh = conv2d_size_out(conv2d_size_out(conv2d_size_out(h)))\n",
        "        linear_input_size = convw * convh * 32\n",
        "        # we want to flatten given images to verctor for dense layers.\n",
        "        print(\"linear input size = \", linear_input_size)\n",
        "        self.fc = nn.Sequential(\n",
        "            nn.Linear(linear_input_size, 128),\n",
        "            nn.ReLU()\n",
        "        )\n",
        "\n",
        "        self.Vs = nn.Linear(128, 1)\n",
        "        self.logits = nn.Linear(128, n_actions)\n",
        "\n",
        "        self.common.apply(weights_init)\n",
        "        self.fc.apply(weights_init)\n",
        "        self.Vs.apply(weights_init)\n",
        "        self.logits.apply(weights_init)\n",
        "\n",
        "    def forward(self, state_t):\n",
        "        \"\"\"\n",
        "        Takes agent's previous step and observation, \n",
        "        returns next state and whatever it needs to learn (tf tensors)\n",
        "        \"\"\"\n",
        "        # Apply neural network\n",
        "        ### Your code here: apply agent's neural network to get policy logits and state values.\n",
        "        state_t = torch.tensor(state_t, device=device, dtype=torch.float);\n",
        "        state_t = state_t.permute(0,3,1,2)\n",
        "        state_t = self.common(state_t)\n",
        "        state_t = self.fc(state_t)\n",
        "        logits = self.logits(state_t)\n",
        "        state_value = self.Vs(state_t)[:, 0]\n",
        "        return logits, state_value\n"
      ],
      "execution_count": 0,
      "outputs": []
    },
    {
      "metadata": {
        "id": "wrH73pqsYTx4",
        "colab_type": "text"
      },
      "cell_type": "markdown",
      "source": [
        "You will also need to define and use a policy that wraps the model. While the model computes logits for all actions, the policy will sample actions and also compute their log probabilities.  `policy.act` should return a dictionary of all the arrays that are needed to interact with an environment and train the model.\n",
        " Note that actions must be an `np.ndarray` while the other\n",
        "tensors need to have the type determined by your deep learning framework. "
      ]
    },
    {
      "metadata": {
        "id": "TOs9BqXAYTx7",
        "colab_type": "text"
      },
      "cell_type": "markdown",
      "source": [
        ""
      ]
    },
    {
      "metadata": {
        "id": "b52Yy0ywYTx-",
        "colab_type": "code",
        "colab": {}
      },
      "cell_type": "code",
      "source": [
        "class Policy:\n",
        "    def __init__(self, model):\n",
        "        self.model = model\n",
        "    def sample_actions(self, logits):\n",
        "        \"\"\"pick actions given numeric agent outputs (np arrays)\"\"\"\n",
        "        policy =  F.softmax(logits, dim=1).detach().cpu().numpy()\n",
        "        actions = np.array([np.random.choice(len(p), p=p) for p in policy])\n",
        "        return actions\n",
        "\n",
        "    def logprobs(self, logits, actions):\n",
        "        log_probs = F.log_softmax(logits, dim=1)\n",
        "        action_log_probs =  torch.sum(log_probs * to_one_hot(actions, env.action_space.n), dim=-1)\n",
        "        return action_log_probs\n",
        "    \n",
        "    def act(self, inputs):\n",
        "        agent_outputs = model.forward(inputs)\n",
        "        logits, state_values = agent_outputs\n",
        "        actions = self.sample_actions(logits)\n",
        "        action_log_probs = self.logprobs(logits, actions) \n",
        "        return {\n",
        "            'actions': actions,\n",
        "            'logits': logits,\n",
        "            'log_probs': action_log_probs,\n",
        "            'values': state_values\n",
        "        }\n",
        "    # Should return a dict containing keys ['actions', 'logits', 'log_probs', 'values']."
      ],
      "execution_count": 0,
      "outputs": []
    },
    {
      "metadata": {
        "id": "n2Jl6tSaYTyI",
        "colab_type": "text"
      },
      "cell_type": "markdown",
      "source": [
        "Next will pass the environment and policy to a runner that collects partial trajectories from the environment. \n",
        "The class that does is is already implemented for you."
      ]
    },
    {
      "metadata": {
        "id": "HzNAtTg-YTyM",
        "colab_type": "code",
        "colab": {}
      },
      "cell_type": "code",
      "source": [
        "from util.runners import EnvRunner"
      ],
      "execution_count": 0,
      "outputs": []
    },
    {
      "metadata": {
        "id": "GnK_huJ5YTyY",
        "colab_type": "text"
      },
      "cell_type": "markdown",
      "source": [
        "This runner interacts with the environment for a given number of steps and returns a dictionary containing\n",
        "keys \n",
        "\n",
        "* 'observations' \n",
        "* 'rewards' \n",
        "* 'resets'\n",
        "* 'actions'\n",
        "* all other keys that you defined in `Policy`\n",
        "\n",
        "under each of these keys there is a python `list` of interactions with the environment of specified length $T$ &mdash; the size of partial trajectory. "
      ]
    },
    {
      "metadata": {
        "id": "s5jaVgJNYTya",
        "colab_type": "text"
      },
      "cell_type": "markdown",
      "source": [
        "To train the part of the model that predicts state values you will need to compute the value targets. \n",
        "Any callable could be passed to `EnvRunner` to be applied to each partial trajectory after it is collected. \n",
        "Thus, we can implement and use `ComputeValueTargets` callable. \n",
        "The formula for the value targets is simple:\n",
        "\n",
        "$$\n",
        "\\hat v(s_t) = \\sum_{t'=0}^{T - 1}\\gamma^{t'}r_{t+t'} + \\gamma^T \\hat{v}(s_{t+T}),\n",
        "$$\n",
        "\n",
        "In implementation, however, do not forget to use \n",
        "`trajectory['resets']` flags to check if you need to add the value targets at the next step when \n",
        "computing value targets for the current step. You can access `trajectory['state']['latest_observation']`\n",
        "to get last observations in partial trajectory &mdash; $s_{t+T}$."
      ]
    },
    {
      "metadata": {
        "id": "Q7rz2T2uYTyh",
        "colab_type": "code",
        "colab": {}
      },
      "cell_type": "code",
      "source": [
        "import collections\n",
        "class ComputeValueTargets:\n",
        "  def __init__(self, gamma=0.99):\n",
        "    self.gamma = gamma\n",
        "      \n",
        "  def __call__(self, trajectory):\n",
        "    # This method should modify trajectory inplace by adding \n",
        "    # an item with key 'value_targets' to it.\n",
        "    n_env = len(trajectory['resets'][0]);\n",
        "    T = len(trajectory['resets'])\n",
        "    result_arr = collections.defaultdict(list);\n",
        "    result_list = []\n",
        " \n",
        "    for i in range(n_env):\n",
        "      rewards = [trajectory['rewards'][k][i] for k in range(T)]\n",
        "      resets = [trajectory['resets'][k][i] for k in range(T)]\n",
        "      value_targets = [0 if trajectory['resets'][-1][i] else trajectory['values'][-1][i]]\n",
        "      for reward, done in list(zip(rewards, resets))[-2::-1]:\n",
        "        if not done:\n",
        "          value_targets.append(reward + self.gamma * value_targets[-1])\n",
        "        else:\n",
        "          value_targets.append(0)\n",
        "          \n",
        "      result_list.append(value_targets[::-1])\n",
        "    #transpose result_list\n",
        "    result_list = list(map(list, zip(*result_list)))\n",
        "    trajectory['value_targets'] = result_list\n",
        "    return trajectory\n",
        "    "
      ],
      "execution_count": 0,
      "outputs": []
    },
    {
      "metadata": {
        "id": "uzJyEsnhlcTx",
        "colab_type": "code",
        "colab": {}
      },
      "cell_type": "code",
      "source": [
        "import collections\n",
        "def printTrajectory(p_trajectory):\n",
        "    for key,values in p_trajectory.items():\n",
        "      print(key)\n",
        "      if key != \"observations\" and key != \"state\":\n",
        "        print(values)\n",
        "#       for i, timed_value in enumerate(values):\n",
        "#         print(\"time- \", i, \":\", timed_value)\n",
        "    \n",
        "    \n",
        "\n",
        "def testComputeValueTargets():\n",
        "  test_trajectory = collections.defaultdict(list);\n",
        "  n_env = 8\n",
        "  T = 10\n",
        "  values = [[1 for i in range(n_env)] for t in range(T)]\n",
        "  rewards = [[1 for i in range(n_env)] for t in range(T)]\n",
        "  resets = [[False for i in range(n_env)] for t in range(T)]\n",
        "  resets[4][0] = True\n",
        "  resets[9][1] = True\n",
        "  resets[3][2] = True\n",
        "  resets[9][2] = True\n",
        "  resets[4][3] = True\n",
        "  resets[6][3] = True\n",
        "  resets[8][3] = True\n",
        "\n",
        "  test_trajectory['rewards'] = rewards\n",
        "  test_trajectory['values'] = values\n",
        "  test_trajectory['resets'] = resets\n",
        "  \n",
        "  printTrajectory(test_trajectory)\n",
        " \n",
        "  \n",
        "  return ComputeValueTargets().__call__(test_trajectory)"
      ],
      "execution_count": 0,
      "outputs": []
    },
    {
      "metadata": {
        "id": "6snrsrnonSYA",
        "colab_type": "code",
        "colab": {
          "base_uri": "https://localhost:8080/",
          "height": 316
        },
        "outputId": "ca3f9bd2-e07e-4331-e647-54f8650fb112"
      },
      "cell_type": "code",
      "source": [
        "print(\"result\")\n",
        "\n",
        "printTrajectory(testComputeValueTargets())"
      ],
      "execution_count": 157,
      "outputs": [
        {
          "output_type": "stream",
          "text": [
            "result\n",
            "rewards\n",
            "[[1, 1, 1, 1, 1, 1, 1, 1], [1, 1, 1, 1, 1, 1, 1, 1], [1, 1, 1, 1, 1, 1, 1, 1], [1, 1, 1, 1, 1, 1, 1, 1], [1, 1, 1, 1, 1, 1, 1, 1], [1, 1, 1, 1, 1, 1, 1, 1], [1, 1, 1, 1, 1, 1, 1, 1], [1, 1, 1, 1, 1, 1, 1, 1], [1, 1, 1, 1, 1, 1, 1, 1], [1, 1, 1, 1, 1, 1, 1, 1]]\n",
            "values\n",
            "[[1, 1, 1, 1, 1, 1, 1, 1], [1, 1, 1, 1, 1, 1, 1, 1], [1, 1, 1, 1, 1, 1, 1, 1], [1, 1, 1, 1, 1, 1, 1, 1], [1, 1, 1, 1, 1, 1, 1, 1], [1, 1, 1, 1, 1, 1, 1, 1], [1, 1, 1, 1, 1, 1, 1, 1], [1, 1, 1, 1, 1, 1, 1, 1], [1, 1, 1, 1, 1, 1, 1, 1], [1, 1, 1, 1, 1, 1, 1, 1]]\n",
            "resets\n",
            "[[False, False, False, False, False, False, False, False], [False, False, False, False, False, False, False, False], [False, False, False, False, False, False, False, False], [False, False, True, False, False, False, False, False], [True, False, False, True, False, False, False, False], [False, False, False, False, False, False, False, False], [False, False, False, True, False, False, False, False], [False, False, False, False, False, False, False, False], [False, False, False, True, False, False, False, False], [False, True, True, False, False, False, False, False]]\n",
            "rewards\n",
            "[[1, 1, 1, 1, 1, 1, 1, 1], [1, 1, 1, 1, 1, 1, 1, 1], [1, 1, 1, 1, 1, 1, 1, 1], [1, 1, 1, 1, 1, 1, 1, 1], [1, 1, 1, 1, 1, 1, 1, 1], [1, 1, 1, 1, 1, 1, 1, 1], [1, 1, 1, 1, 1, 1, 1, 1], [1, 1, 1, 1, 1, 1, 1, 1], [1, 1, 1, 1, 1, 1, 1, 1], [1, 1, 1, 1, 1, 1, 1, 1]]\n",
            "values\n",
            "[[1, 1, 1, 1, 1, 1, 1, 1], [1, 1, 1, 1, 1, 1, 1, 1], [1, 1, 1, 1, 1, 1, 1, 1], [1, 1, 1, 1, 1, 1, 1, 1], [1, 1, 1, 1, 1, 1, 1, 1], [1, 1, 1, 1, 1, 1, 1, 1], [1, 1, 1, 1, 1, 1, 1, 1], [1, 1, 1, 1, 1, 1, 1, 1], [1, 1, 1, 1, 1, 1, 1, 1], [1, 1, 1, 1, 1, 1, 1, 1]]\n",
            "resets\n",
            "[[False, False, False, False, False, False, False, False], [False, False, False, False, False, False, False, False], [False, False, False, False, False, False, False, False], [False, False, True, False, False, False, False, False], [True, False, False, True, False, False, False, False], [False, False, False, False, False, False, False, False], [False, False, False, True, False, False, False, False], [False, False, False, False, False, False, False, False], [False, False, False, True, False, False, False, False], [False, True, True, False, False, False, False, False]]\n",
            "value_targets\n",
            "[[3.9403989999999998, 8.64827525163591, 2.9701, 3.9403989999999998, 9.561792499119552, 9.561792499119552, 9.561792499119552, 9.561792499119552], [2.9701, 7.72553055720799, 1.99, 2.9701, 8.64827525163591, 8.64827525163591, 8.64827525163591, 8.64827525163591], [1.99, 6.793465209301, 1.0, 1.99, 7.72553055720799, 7.72553055720799, 7.72553055720799, 7.72553055720799], [1.0, 5.8519850599, 0, 1.0, 6.793465209301, 6.793465209301, 6.793465209301, 6.793465209301], [0, 4.90099501, 4.90099501, 0, 5.8519850599, 5.8519850599, 5.8519850599, 5.8519850599], [4.90099501, 3.9403989999999998, 3.9403989999999998, 1.0, 4.90099501, 4.90099501, 4.90099501, 4.90099501], [3.9403989999999998, 2.9701, 2.9701, 0, 3.9403989999999998, 3.9403989999999998, 3.9403989999999998, 3.9403989999999998], [2.9701, 1.99, 1.99, 1.0, 2.9701, 2.9701, 2.9701, 2.9701], [1.99, 1.0, 1.0, 0, 1.99, 1.99, 1.99, 1.99], [1, 0, 0, 1, 1, 1, 1, 1]]\n"
          ],
          "name": "stdout"
        }
      ]
    },
    {
      "metadata": {
        "id": "Cs-Zi4HFYTyv",
        "colab_type": "text"
      },
      "cell_type": "markdown",
      "source": [
        "After computing value targets we will transform lists of interactions into tensors\n",
        "with the first dimension `batch_size` which is equal to `T * nenvs`, i.e. you essentially need\n",
        "to flatten the first two dimensions. "
      ]
    },
    {
      "metadata": {
        "id": "UOWND0TvYTyv",
        "colab_type": "code",
        "colab": {}
      },
      "cell_type": "code",
      "source": [
        "class MergeTimeBatch:\n",
        "  \"\"\" Merges first two axes typically representing time and env batch. \"\"\"\n",
        "  def __call__(self, trajectory):\n",
        "    # Modify trajectory inplace.\n",
        "#     for key, stack in trajectory.items():\n",
        "#         trajectory[key] = stack.reshape(-1, *stack.shape[2:])\n",
        "\n",
        "\n",
        "    return trajectory\n",
        "        "
      ],
      "execution_count": 0,
      "outputs": []
    },
    {
      "metadata": {
        "id": "ww71Co8UYTy2",
        "colab_type": "code",
        "outputId": "9d95199f-13a6-49eb-ca14-1083772cf40d",
        "colab": {
          "base_uri": "https://localhost:8080/",
          "height": 91
        }
      },
      "cell_type": "code",
      "source": [
        "model = Agent(\"Agent\", obs.shape, n_actions).to(device)\n",
        "policy = Policy(model)\n",
        "runner = EnvRunner(env, policy, nsteps=5,\n",
        "                   transforms=[ComputeValueTargets(),\n",
        "                               MergeTimeBatch()])\n",
        "eval_runner =EnvRunner(env, policy, nsteps=30)"
      ],
      "execution_count": 159,
      "outputs": [
        {
          "output_type": "stream",
          "text": [
            "(8, 84, 84, 4)\n",
            "linear input size =  2592\n"
          ],
          "name": "stdout"
        },
        {
          "output_type": "stream",
          "text": [
            "/usr/local/lib/python3.6/dist-packages/ipykernel_launcher.py:4: UserWarning: nn.init.orthogonal is now deprecated in favor of nn.init.orthogonal_.\n",
            "  after removing the cwd from sys.path.\n"
          ],
          "name": "stderr"
        }
      ]
    },
    {
      "metadata": {
        "id": "uZzCfR-Nldfp",
        "colab_type": "code",
        "colab": {}
      },
      "cell_type": "code",
      "source": [
        "def evaluate(agent, env, n_games=1):\n",
        "    \"\"\"Plays an a game from start till done, returns per-game rewards \"\"\"\n",
        "\n",
        "    game_rewards = []\n",
        "    for _ in range(n_games):\n",
        "        state = env.reset()\n",
        "        \n",
        "        total_reward = 0\n",
        "        \n",
        "        trajectory = eval_runner.get_next()\n",
        "#         while True:\n",
        "#             action = agent.sample_actions(agent.step([state]))[0]\n",
        "#             state, reward, done, info = env.step(action)\n",
        "#             total_reward += reward\n",
        "#             if done: break\n",
        "                \n",
        "#         game_rewards.append(total_reward)\n",
        "        game_rewards = trajectory['rewards']\n",
        "        \n",
        "    return np.sum(game_rewards, axis=0)"
      ],
      "execution_count": 0,
      "outputs": []
    },
    {
      "metadata": {
        "id": "yOks3ViaobSw",
        "colab_type": "code",
        "colab": {}
      },
      "cell_type": "code",
      "source": [
        "summa = evaluate(model, env)"
      ],
      "execution_count": 0,
      "outputs": []
    },
    {
      "metadata": {
        "id": "rcmDjDDVYTy-",
        "colab_type": "text"
      },
      "cell_type": "markdown",
      "source": [
        "Now is the time to implement the advantage actor critic algorithm itself. You can look into your lecture,\n",
        "[Mnih et al. 2016](https://arxiv.org/abs/1602.01783) paper, and [lecture](https://www.youtube.com/watch?v=Tol_jw5hWnI&list=PLkFD6_40KJIxJMR-j5A1mkxK26gh_qg37&index=20) by Sergey Levine."
      ]
    },
    {
      "metadata": {
        "id": "UXwn94u6YTzA",
        "colab_type": "code",
        "colab": {}
      },
      "cell_type": "code",
      "source": [
        "class A2C:\n",
        "  def __init__(self,\n",
        "               policy,\n",
        "               optimizer,\n",
        "               value_loss_coef=0.25,\n",
        "               entropy_coef=0.01,\n",
        "               max_grad_norm=0.5):\n",
        "    self.policy = policy\n",
        "    self.optimizer = optimizer\n",
        "    self.value_loss_coef = value_loss_coef\n",
        "    self.entropy_coef = entropy_coef\n",
        "    self.max_grad_norm = max_grad_norm\n",
        "    \n",
        "  def policy_loss(self, trajectory):\n",
        "    # You will need to compute advantages here.\n",
        "    advantages = trajectory['value_targets'] - trajectory['values']\n",
        "    return - torch.mean(trajectory['log_probs'] * advantages.detach())\n",
        "    \n",
        "    \n",
        "  def value_loss(self, trajectory):\n",
        "\n",
        "    advantages = trajectory['value_targets'] - trajectory['values']\n",
        "    value_loss = advantages.pow(2).mean()\n",
        "    return value_loss\n",
        "    \n",
        "  def loss(self, trajectory):\n",
        "    value_loss = self.value_loss(trajectory)\n",
        "    action_loss = self.policy_loss(trajectory)\n",
        "    \n",
        "    probs = F.softmax(trajectory['logits'], dim=-1) \n",
        "    logprobs = F.log_softmax(trajectory['logits'], dim=-1)\n",
        "\n",
        "    #TODO: entropy clarification\n",
        "    dist_entropy = -(probs * logprobs).sum(-1).sum(-1).mean()\n",
        "    return value_loss, action_loss, dist_entropy\n",
        "      \n",
        "  def step(self, trajectory):\n",
        "    trajectory['values'] = torch.stack(trajectory['values'])\n",
        "    trajectory['log_probs'] = torch.stack(trajectory['log_probs'])\n",
        "    trajectory['logits'] = torch.stack(trajectory['logits'])\n",
        "    trajectory['observations'] = torch.tensor(trajectory['observations'], device=device, dtype=torch.float)    \n",
        "    trajectory['rewards'] = torch.tensor(trajectory['rewards'], device=device, dtype=torch.float)\n",
        "    trajectory['value_targets'] = torch.tensor(trajectory['value_targets'],  device=device, dtype=torch.float)\n",
        "    \n",
        "    value_loss, action_loss, dist_entropy = self.loss(trajectory)\n",
        "    (value_loss * self.value_loss_coef + action_loss - dist_entropy * self.entropy_coef).backward()\n",
        "    grad_norm = nn.utils.clip_grad_norm_(model.parameters(), self.max_grad_norm)\n",
        "\n",
        "    self.optimizer.step()\n",
        "    self.optimizer.zero_grad() \n",
        "    return value_loss,action_loss, dist_entropy, grad_norm"
      ],
      "execution_count": 0,
      "outputs": []
    },
    {
      "metadata": {
        "id": "04YZ0ysGYTzH",
        "colab_type": "text"
      },
      "cell_type": "markdown",
      "source": [
        "Now you can train your model. With reasonable hyperparameters training on a single GTX1080 for 10 million steps across all batched environments (which translates to about 5 hours of wall clock time)\n",
        "it should be possible to achieve *average raw reward over last 100 episodes* (the average is taken over 100 last \n",
        "episodes in each environment in the batch) of about 600. You should plot this quantity with respect to \n",
        "`runner.step_var` &mdash; the number of interactions with all environments. It is highly \n",
        "encouraged to also provide plots of the following quantities (these are useful for debugging as well):\n",
        "\n",
        "* [Coefficient of Determination](https://en.wikipedia.org/wiki/Coefficient_of_determination) between \n",
        "value targets and value predictions\n",
        "* Entropy of the policy $\\pi$\n",
        "* Value loss\n",
        "* Policy loss\n",
        "* Value targets\n",
        "* Value predictions\n",
        "* Gradient norm\n",
        "* Advantages\n",
        "* A2C loss\n",
        "\n",
        "For optimization we suggest you use RMSProp with learning rate starting from 7e-4 and linearly decayed to 0, smoothing constant (alpha in PyTorch and decay in TensorFlow) equal to 0.99 and epsilon equal to 1e-5."
      ]
    },
    {
      "metadata": {
        "id": "WxUBDGGtYTzK",
        "colab_type": "code",
        "colab": {
          "base_uri": "https://localhost:8080/",
          "height": 1250
        },
        "outputId": "8b616f55-aaac-463a-a271-acbaf0870278"
      },
      "cell_type": "code",
      "source": [
        "from IPython.display import clear_output\n",
        "from tqdm import trange\n",
        "def adjust_lr(optimizer, epoch):\n",
        "    lr = init_lr * (0.1 ** (epoch // 20))\n",
        "    for param_group in optimizer.param_groups:\n",
        "        param_group['lr'] = lr\n",
        "optimizer = torch.optim.RMSprop(model.parameters(), lr=7e-2, alpha=0.99, eps=1e-5)\n",
        "a2c = A2C(policy,\n",
        "          optimizer,\n",
        "          value_loss_coef=0.25,\n",
        "          entropy_coef=0.01,\n",
        "          max_grad_norm=0.5)\n",
        "\n",
        "loss_freq = 500\n",
        "rewards_freq = 2500\n",
        "entropy_freq = 500\n",
        "rewards_history = []\n",
        "entropy_history = []\n",
        "loss_act_history = []\n",
        "loss_cri_history = []\n",
        "grad_norm_history = []\n",
        "\n",
        "for step in trange(100000): \n",
        "    trajectory = runner.get_next()\n",
        "\n",
        "    value_loss,action_loss, dist_entropy, grad_norm =  a2c.step(trajectory)\n",
        "\n",
        "    if step % loss_freq == 0:\n",
        "        loss_act_history.append(action_loss.data.cpu().item())\n",
        "        loss_cri_history.append(value_loss.data.cpu().item())\n",
        "        grad_norm_history.append(grad_norm)\n",
        "\n",
        "    if step % entropy_freq == 0: \n",
        "      entropy_history.append(np.mean(dist_entropy.data.cpu().numpy()))\n",
        "      if step % rewards_freq == 0:\n",
        "        rewards = evaluate(model, env)\n",
        "        rewards_history.append(rewards.mean())\n",
        "        if rewards_history[-1] >= 50:\n",
        "          print(\"Your agent has earned the yellow belt\" % color)\n",
        "\n",
        "          clear_output(True)\n",
        "        \n",
        "        fig,((ax1, ax2), (ax3, ax4), (ax5, ax6)) = plt.subplots(3, 2,figsize=[8,8])\n",
        "        ax1.plot(rewards_history ,label='rewards')\n",
        "        ax1.set_title(\"Session rewards\")\n",
        "        ax1.legend()\n",
        "        ax1.grid()\n",
        "        \n",
        "        ax2.plot(entropy_history ,label='entropy')\n",
        "        ax2.set_title(\"Policy entropy\")       \n",
        "        ax2.legend()\n",
        "        ax2.grid()\n",
        "        \n",
        "        ax3.plot(grad_norm_history ,label='grad_norm')\n",
        "        ax3.set_title(\"Gradient norm\") \n",
        "        ax3.legend()\n",
        "        ax3.grid()\n",
        "        \n",
        "        ax4.plot(loss_act_history ,label='loss')\n",
        "        ax4.set_title(\"Loss actor function\")   \n",
        "        ax4.legend()\n",
        "        ax4.grid()\n",
        "        \n",
        "        ax5.plot(loss_cri_history ,label='loss')\n",
        "        ax5.set_title(\"Loss critic function\")   \n",
        "        ax5.legend()\n",
        "        ax5.grid()\n",
        "\n",
        "        \n",
        "        plt.show()\n",
        "        "
      ],
      "execution_count": 169,
      "outputs": [
        {
          "output_type": "stream",
          "text": [
            "\n",
            "  0%|          | 0/100000 [00:00<?, ?it/s]\u001b[A"
          ],
          "name": "stderr"
        },
        {
          "output_type": "display_data",
          "data": {
            "image/png": "[encoded data removed]",
            "text/plain": [
              "<Figure size 576x576 with 6 Axes>"
            ]
          },
          "metadata": {
            "tags": []
          }
        },
        {
          "output_type": "stream",
          "text": [
            "\n",
            "  0%|          | 1/100000 [00:01<50:04:02,  1.80s/it]\u001b[A\n",
            "  0%|          | 2/100000 [00:02<39:28:28,  1.42s/it]\u001b[A\n",
            "  0%|          | 3/100000 [00:02<31:51:13,  1.15s/it]\u001b[A\n",
            "  0%|          | 4/100000 [00:03<26:40:02,  1.04it/s]\u001b[A\n",
            "  0%|          | 5/100000 [00:03<22:52:12,  1.21it/s]\u001b[A\n",
            "  0%|          | 6/100000 [00:04<20:22:04,  1.36it/s]\u001b[A\n",
            "  0%|          | 7/100000 [00:04<18:26:24,  1.51it/s]\u001b[A\n",
            "  0%|          | 8/100000 [00:05<17:01:37,  1.63it/s]\u001b[A\n",
            "  0%|          | 9/100000 [00:05<15:35:10,  1.78it/s]\u001b[A\n",
            "  0%|          | 10/100000 [00:06<14:37:47,  1.90it/s]\u001b[A\n",
            "  0%|          | 11/100000 [00:06<13:54:25,  2.00it/s]\u001b[A\n",
            "  0%|          | 12/100000 [00:07<13:28:44,  2.06it/s]\u001b[A\n",
            "  0%|          | 13/100000 [00:07<13:05:37,  2.12it/s]\u001b[A\n",
            "  0%|          | 14/100000 [00:08<12:49:20,  2.17it/s]\u001b[A\n",
            "  0%|          | 15/100000 [00:08<12:44:25,  2.18it/s]\u001b[A\n",
            "  0%|          | 16/100000 [00:08<12:35:28,  2.21it/s]\u001b[A\n",
            "  0%|          | 17/100000 [00:09<12:26:30,  2.23it/s]\u001b[A\n",
            "  0%|          | 18/100000 [00:09<12:29:35,  2.22it/s]\u001b[A"
          ],
          "name": "stderr"
        },
        {
          "output_type": "error",
          "ename": "KeyboardInterrupt",
          "evalue": "ignored",
          "traceback": [
            "\u001b[0;31m---------------------------------------------------------------------------\u001b[0m",
            "\u001b[0;31mKeyboardInterrupt\u001b[0m                         Traceback (most recent call last)",
            "\u001b[0;32m<ipython-input-169-f39dcbdefa4a>\u001b[0m in \u001b[0;36m<module>\u001b[0;34m()\u001b[0m\n\u001b[1;32m     24\u001b[0m     \u001b[0mtrajectory\u001b[0m \u001b[0;34m=\u001b[0m \u001b[0mrunner\u001b[0m\u001b[0;34m.\u001b[0m\u001b[0mget_next\u001b[0m\u001b[0;34m(\u001b[0m\u001b[0;34m)\u001b[0m\u001b[0;34m\u001b[0m\u001b[0;34m\u001b[0m\u001b[0m\n\u001b[1;32m     25\u001b[0m \u001b[0;34m\u001b[0m\u001b[0m\n\u001b[0;32m---> 26\u001b[0;31m     \u001b[0mvalue_loss\u001b[0m\u001b[0;34m,\u001b[0m\u001b[0maction_loss\u001b[0m\u001b[0;34m,\u001b[0m \u001b[0mdist_entropy\u001b[0m\u001b[0;34m,\u001b[0m \u001b[0mgrad_norm\u001b[0m \u001b[0;34m=\u001b[0m  \u001b[0ma2c\u001b[0m\u001b[0;34m.\u001b[0m\u001b[0mstep\u001b[0m\u001b[0;34m(\u001b[0m\u001b[0mtrajectory\u001b[0m\u001b[0;34m)\u001b[0m\u001b[0;34m\u001b[0m\u001b[0;34m\u001b[0m\u001b[0m\n\u001b[0m\u001b[1;32m     27\u001b[0m \u001b[0;34m\u001b[0m\u001b[0m\n\u001b[1;32m     28\u001b[0m     \u001b[0;32mif\u001b[0m \u001b[0mstep\u001b[0m \u001b[0;34m%\u001b[0m \u001b[0mloss_freq\u001b[0m \u001b[0;34m==\u001b[0m \u001b[0;36m0\u001b[0m\u001b[0;34m:\u001b[0m\u001b[0;34m\u001b[0m\u001b[0;34m\u001b[0m\u001b[0m\n",
            "\u001b[0;32m<ipython-input-168-568994e04c01>\u001b[0m in \u001b[0;36mstep\u001b[0;34m(self, trajectory)\u001b[0m\n\u001b[1;32m     39\u001b[0m     \u001b[0mtrajectory\u001b[0m\u001b[0;34m[\u001b[0m\u001b[0;34m'log_probs'\u001b[0m\u001b[0;34m]\u001b[0m \u001b[0;34m=\u001b[0m \u001b[0mtorch\u001b[0m\u001b[0;34m.\u001b[0m\u001b[0mstack\u001b[0m\u001b[0;34m(\u001b[0m\u001b[0mtrajectory\u001b[0m\u001b[0;34m[\u001b[0m\u001b[0;34m'log_probs'\u001b[0m\u001b[0;34m]\u001b[0m\u001b[0;34m)\u001b[0m\u001b[0;34m\u001b[0m\u001b[0;34m\u001b[0m\u001b[0m\n\u001b[1;32m     40\u001b[0m     \u001b[0mtrajectory\u001b[0m\u001b[0;34m[\u001b[0m\u001b[0;34m'logits'\u001b[0m\u001b[0;34m]\u001b[0m \u001b[0;34m=\u001b[0m \u001b[0mtorch\u001b[0m\u001b[0;34m.\u001b[0m\u001b[0mstack\u001b[0m\u001b[0;34m(\u001b[0m\u001b[0mtrajectory\u001b[0m\u001b[0;34m[\u001b[0m\u001b[0;34m'logits'\u001b[0m\u001b[0;34m]\u001b[0m\u001b[0;34m)\u001b[0m\u001b[0;34m\u001b[0m\u001b[0;34m\u001b[0m\u001b[0m\n\u001b[0;32m---> 41\u001b[0;31m     \u001b[0mtrajectory\u001b[0m\u001b[0;34m[\u001b[0m\u001b[0;34m'observations'\u001b[0m\u001b[0;34m]\u001b[0m \u001b[0;34m=\u001b[0m \u001b[0mtorch\u001b[0m\u001b[0;34m.\u001b[0m\u001b[0mtensor\u001b[0m\u001b[0;34m(\u001b[0m\u001b[0mtrajectory\u001b[0m\u001b[0;34m[\u001b[0m\u001b[0;34m'observations'\u001b[0m\u001b[0;34m]\u001b[0m\u001b[0;34m,\u001b[0m \u001b[0mdevice\u001b[0m\u001b[0;34m=\u001b[0m\u001b[0mdevice\u001b[0m\u001b[0;34m,\u001b[0m \u001b[0mdtype\u001b[0m\u001b[0;34m=\u001b[0m\u001b[0mtorch\u001b[0m\u001b[0;34m.\u001b[0m\u001b[0mfloat\u001b[0m\u001b[0;34m)\u001b[0m\u001b[0;34m\u001b[0m\u001b[0;34m\u001b[0m\u001b[0m\n\u001b[0m\u001b[1;32m     42\u001b[0m     \u001b[0mtrajectory\u001b[0m\u001b[0;34m[\u001b[0m\u001b[0;34m'rewards'\u001b[0m\u001b[0;34m]\u001b[0m \u001b[0;34m=\u001b[0m \u001b[0mtorch\u001b[0m\u001b[0;34m.\u001b[0m\u001b[0mtensor\u001b[0m\u001b[0;34m(\u001b[0m\u001b[0mtrajectory\u001b[0m\u001b[0;34m[\u001b[0m\u001b[0;34m'rewards'\u001b[0m\u001b[0;34m]\u001b[0m\u001b[0;34m,\u001b[0m \u001b[0mdevice\u001b[0m\u001b[0;34m=\u001b[0m\u001b[0mdevice\u001b[0m\u001b[0;34m,\u001b[0m \u001b[0mdtype\u001b[0m\u001b[0;34m=\u001b[0m\u001b[0mtorch\u001b[0m\u001b[0;34m.\u001b[0m\u001b[0mfloat\u001b[0m\u001b[0;34m)\u001b[0m\u001b[0;34m\u001b[0m\u001b[0;34m\u001b[0m\u001b[0m\n\u001b[1;32m     43\u001b[0m     \u001b[0mtrajectory\u001b[0m\u001b[0;34m[\u001b[0m\u001b[0;34m'value_targets'\u001b[0m\u001b[0;34m]\u001b[0m \u001b[0;34m=\u001b[0m \u001b[0mtorch\u001b[0m\u001b[0;34m.\u001b[0m\u001b[0mtensor\u001b[0m\u001b[0;34m(\u001b[0m\u001b[0mtrajectory\u001b[0m\u001b[0;34m[\u001b[0m\u001b[0;34m'value_targets'\u001b[0m\u001b[0;34m]\u001b[0m\u001b[0;34m,\u001b[0m  \u001b[0mdevice\u001b[0m\u001b[0;34m=\u001b[0m\u001b[0mdevice\u001b[0m\u001b[0;34m,\u001b[0m \u001b[0mdtype\u001b[0m\u001b[0;34m=\u001b[0m\u001b[0mtorch\u001b[0m\u001b[0;34m.\u001b[0m\u001b[0mfloat\u001b[0m\u001b[0;34m)\u001b[0m\u001b[0;34m\u001b[0m\u001b[0;34m\u001b[0m\u001b[0m\n",
            "\u001b[0;31mKeyboardInterrupt\u001b[0m: "
          ]
        }
      ]
    },
    {
      "metadata": {
        "id": "prhBJMzTj1R0",
        "colab_type": "code",
        "colab": {}
      },
      "cell_type": "code",
      "source": [
        ""
      ],
      "execution_count": 0,
      "outputs": []
    }
  ]
}
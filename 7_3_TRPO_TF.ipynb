{
  "nbformat": 4,
  "nbformat_minor": 0,
  "metadata": {
    "colab": {
      "name": "7_3_TRPO_TF.ipynb",
      "version": "0.3.2",
      "provenance": []
    },
    "language_info": {
      "codemirror_mode": {
        "name": "ipython",
        "version": 3
      },
      "file_extension": ".py",
      "mimetype": "text/x-python",
      "name": "python",
      "nbconvert_exporter": "python",
      "pygments_lexer": "ipython3",
      "version": "3.6.2"
    },
    "kernelspec": {
      "name": "python3",
      "display_name": "Python 3"
    },
    "accelerator": "GPU"
  },
  "cells": [
    {
      "cell_type": "code",
      "metadata": {
        "id": "eUwrWBxIEGT_",
        "colab_type": "code",
        "colab": {
          "base_uri": "https://localhost:8080/",
          "height": 53
        },
        "outputId": "b9787a8f-9fe6-4553-d426-4027814f489b"
      },
      "source": [
        "# # in google colab uncomment this\n",
        "\n",
        "import os\n",
        "\n",
        "os.system('apt-get install -y xvfb')\n",
        "os.system('wget https://raw.githubusercontent.com/yandexdataschool/Practical_DL/fall18/xvfb -O ../xvfb')\n",
        "os.system('apt-get install -y python-opengl ffmpeg')\n",
        "os.system('pip install pyglet==1.2.4')\n",
        "\n",
        "# launch XVFB if you run on a server\n",
        "import os\n",
        "if type(os.environ.get(\"DISPLAY\")) is not str or len(os.environ.get(\"DISPLAY\")) == 0:\n",
        "    !bash ../xvfb start\n",
        "    %env DISPLAY = : 1"
      ],
      "execution_count": 1,
      "outputs": [
        {
          "output_type": "stream",
          "text": [
            "Starting virtual X frame buffer: Xvfb.\n",
            "env: DISPLAY=: 1\n"
          ],
          "name": "stdout"
        }
      ]
    },
    {
      "cell_type": "markdown",
      "metadata": {
        "id": "9XgoNxq0EGUR",
        "colab_type": "text"
      },
      "source": [
        "### Let's make a TRPO!\n",
        "\n",
        "In this notebook we will write the code of the one Trust Region Policy Optimization.\n",
        "As usually, it contains a few different parts which we are going to reproduce.\n",
        "\n"
      ]
    },
    {
      "cell_type": "code",
      "metadata": {
        "id": "bBNgf5s8EGUU",
        "colab_type": "code",
        "colab": {}
      },
      "source": [
        "import numpy as np\n",
        "import tensorflow as tf"
      ],
      "execution_count": 0,
      "outputs": []
    },
    {
      "cell_type": "code",
      "metadata": {
        "collapsed": true,
        "id": "lsVSlNjYEGUe",
        "colab_type": "code",
        "colab": {
          "base_uri": "https://localhost:8080/",
          "height": 53
        },
        "outputId": "23d41679-c270-4b16-9a30-e529923aa5ae"
      },
      "source": [
        "import gym\n",
        "\n",
        "env = gym.make(\"Acrobot-v1\")\n",
        "env.reset()\n",
        "observation_shape = env.observation_space.shape\n",
        "n_actions = env.action_space.n\n",
        "print(\"Observation Space\", env.observation_space)\n",
        "print(\"Action Space\", env.action_space)"
      ],
      "execution_count": 3,
      "outputs": [
        {
          "output_type": "stream",
          "text": [
            "Observation Space Box(6,)\n",
            "Action Space Discrete(3)\n"
          ],
          "name": "stdout"
        }
      ]
    },
    {
      "cell_type": "code",
      "metadata": {
        "collapsed": true,
        "id": "7VUzWFQHEGUz",
        "colab_type": "code",
        "colab": {
          "base_uri": "https://localhost:8080/",
          "height": 287
        },
        "outputId": "3998209c-054a-4364-be1f-1c7d62fceb4e"
      },
      "source": [
        "import matplotlib.pyplot as plt\n",
        "%matplotlib inline\n",
        "plt.imshow(env.render('rgb_array'))"
      ],
      "execution_count": 4,
      "outputs": [
        {
          "output_type": "execute_result",
          "data": {
            "text/plain": [
              "<matplotlib.image.AxesImage at 0x7fee7bc3d390>"
            ]
          },
          "metadata": {
            "tags": []
          },
          "execution_count": 4
        },
        {
          "output_type": "display_data",
          "data": {
            "image/png": "[encoded data removed]",
            "text/plain": [
              "<Figure size 432x288 with 1 Axes>"
            ]
          },
          "metadata": {
            "tags": []
          }
        }
      ]
    },
    {
      "cell_type": "markdown",
      "metadata": {
        "id": "uyCQlVo2EGU9",
        "colab_type": "text"
      },
      "source": [
        "### Step 1: Defining a network\n",
        "\n",
        "With all it's complexity, at it's core TRPO is yet another policy gradient method. \n",
        "\n",
        "This essentially means we're actually training a stochastic policy $ \\pi_\\theta(a|s) $. \n",
        "\n",
        "And yes, it's gonna be a neural network. So let's start by defining one."
      ]
    },
    {
      "cell_type": "code",
      "metadata": {
        "collapsed": true,
        "id": "9pPGepy3EGVA",
        "colab_type": "code",
        "colab": {}
      },
      "source": [
        "# input tensors\n",
        "observations_ph = tf.placeholder(\n",
        "    shape=(None, observation_shape[0]), dtype=tf.float32)\n",
        "# Actions that we made\n",
        "actions_ph = tf.placeholder(shape=(None,), dtype=tf.int32)\n",
        "# \"G = r + gamma*r' + gamma^2*r'' + ...\"\n",
        "cummulative_returns_ph = tf.placeholder(shape=(None,), dtype=tf.float32)\n",
        "# Action probabilities from previous iteration\n",
        "old_probs_ph = tf.placeholder(shape=(None, n_actions), dtype=tf.float32)\n",
        "\n",
        "all_inputs = [observations_ph, actions_ph,\n",
        "              cummulative_returns_ph, old_probs_ph]"
      ],
      "execution_count": 0,
      "outputs": []
    },
    {
      "cell_type": "code",
      "metadata": {
        "id": "NbYlE4vkrstA",
        "colab_type": "code",
        "colab": {}
      },
      "source": [
        ""
      ],
      "execution_count": 0,
      "outputs": []
    },
    {
      "cell_type": "code",
      "metadata": {
        "id": "ciXnYXFuEGVJ",
        "colab_type": "code",
        "colab": {
          "base_uri": "https://localhost:8080/",
          "height": 92
        },
        "outputId": "131f34f9-c448-4b68-f196-8f8303d79617"
      },
      "source": [
        "def denselayer(name, x, out_dim, nonlinearity=None):\n",
        "    with tf.variable_scope(name):\n",
        "        if nonlinearity is None:\n",
        "            nonlinearity = tf.identity\n",
        "\n",
        "        x_shape = x.get_shape().as_list()\n",
        "\n",
        "        w = tf.get_variable('w', shape=[x_shape[1], out_dim])\n",
        "        b = tf.get_variable(\n",
        "            'b', shape=[out_dim], initializer=tf.constant_initializer(0))\n",
        "        o = nonlinearity(tf.matmul(x, w) + b)\n",
        "\n",
        "        return o\n",
        "\n",
        "\n",
        "sess = tf.InteractiveSession()\n",
        "\n",
        "nn = observations_ph\n",
        "\n",
        "lin1 = denselayer(\"dense1\", nn, 32, nonlinearity=tf.nn.relu);\n",
        "lin2 = denselayer(\"dense2\", lin1, n_actions, nonlinearity=tf.nn.log_softmax)\n",
        "\n",
        "policy_out = lin2;\n",
        "\n",
        "probs_out = tf.exp(policy_out)\n",
        "\n",
        "weights = tf.trainable_variables()\n",
        "sess.run(tf.global_variables_initializer())"
      ],
      "execution_count": 6,
      "outputs": [
        {
          "output_type": "stream",
          "text": [
            "WARNING:tensorflow:From /usr/local/lib/python3.6/dist-packages/tensorflow/python/framework/op_def_library.py:263: colocate_with (from tensorflow.python.framework.ops) is deprecated and will be removed in a future version.\n",
            "Instructions for updating:\n",
            "Colocations handled automatically by placer.\n"
          ],
          "name": "stdout"
        }
      ]
    },
    {
      "cell_type": "markdown",
      "metadata": {
        "id": "QJlCVVV0EGVT",
        "colab_type": "text"
      },
      "source": [
        "### Step 2: Actions and rollouts\n",
        "\n",
        "In this section, we'll define functions that take actions $ a \\sim \\pi_\\theta(a|s) $ and rollouts $ <s_0,a_0,s_1,a_1,s_2,a_2,...s_n,a_n> $."
      ]
    },
    {
      "cell_type": "code",
      "metadata": {
        "id": "vmTba4zTEGVX",
        "colab_type": "code",
        "colab": {}
      },
      "source": [
        "# compile function\n",
        "\n",
        "\n",
        "def act(obs, sample=True):\n",
        "    \"\"\"\n",
        "    Samples action from policy distribution (sample = True) or takes most likely action (sample = False)\n",
        "    :param: obs - single observation vector\n",
        "    :param sample: if True, samples from \\pi, otherwise takes most likely action\n",
        "    :returns: action (single integer) and probabilities for all actions\n",
        "    \"\"\"\n",
        "\n",
        "    probs = sess.run(probs_out, feed_dict={\n",
        "                     observations_ph: obs.reshape((1, -1))})[0]\n",
        "\n",
        "    if sample:\n",
        "        action = int(np.random.choice(n_actions, p=probs))\n",
        "    else:\n",
        "        action = int(np.argmax(probs))\n",
        "\n",
        "    return action, probs"
      ],
      "execution_count": 0,
      "outputs": []
    },
    {
      "cell_type": "code",
      "metadata": {
        "id": "EzCSm0cfEGVk",
        "colab_type": "code",
        "colab": {
          "base_uri": "https://localhost:8080/",
          "height": 73
        },
        "outputId": "95a0e5ac-3dc3-47dc-d2ee-c5b3402fe6a2"
      },
      "source": [
        "# demo\n",
        "print(\"sampled:\", [act(env.reset()) for _ in range(5)])\n",
        "print(\"greedy:\", [act(env.reset(), sample=False) for _ in range(5)])"
      ],
      "execution_count": 8,
      "outputs": [
        {
          "output_type": "stream",
          "text": [
            "sampled: [(1, array([0.3587947 , 0.3344043 , 0.30680108], dtype=float32)), (2, array([0.3628108, 0.3445072, 0.292682 ], dtype=float32)), (0, array([0.35804784, 0.34778565, 0.29416662], dtype=float32)), (0, array([0.35550988, 0.3559219 , 0.28856814], dtype=float32)), (2, array([0.35878506, 0.34603733, 0.29517758], dtype=float32))]\n",
            "greedy: [(0, array([0.36577278, 0.33895612, 0.29527107], dtype=float32)), (0, array([0.35860667, 0.35043097, 0.29096237], dtype=float32)), (0, array([0.35962656, 0.34318644, 0.29718706], dtype=float32)), (0, array([0.35574022, 0.35176015, 0.29249963], dtype=float32)), (0, array([0.35248706, 0.34929296, 0.29821983], dtype=float32))]\n"
          ],
          "name": "stdout"
        }
      ]
    },
    {
      "cell_type": "markdown",
      "metadata": {
        "id": "bxOp7_57EGVz",
        "colab_type": "text"
      },
      "source": [
        "Compute cummulative reward just like you did in vanilla REINFORCE"
      ]
    },
    {
      "cell_type": "code",
      "metadata": {
        "id": "kRTjBJzxEGV1",
        "colab_type": "code",
        "colab": {}
      },
      "source": [
        "import scipy.signal\n",
        "\n",
        "\n",
        "def get_cummulative_returns(r, gamma=1):\n",
        "    \"\"\"\n",
        "    Computes cummulative discounted rewards given immediate rewards\n",
        "    G_i = r_i + gamma*r_{i+1} + gamma^2*r_{i+2} + ...\n",
        "    Also known as R(s,a).\n",
        "    \"\"\"\n",
        "    r = np.array(r)\n",
        "    assert r.ndim >= 1\n",
        "    return scipy.signal.lfilter([1], [1, -gamma], r[::-1], axis=0)[::-1]"
      ],
      "execution_count": 0,
      "outputs": []
    },
    {
      "cell_type": "code",
      "metadata": {
        "id": "nMVh-LevEGV7",
        "colab_type": "code",
        "colab": {
          "base_uri": "https://localhost:8080/",
          "height": 35
        },
        "outputId": "40cccf8c-4969-4cb5-ab66-26f9956c94ba"
      },
      "source": [
        "# simple demo on rewards [0,0,1,0,0,1]\n",
        "get_cummulative_returns([0, 0, 1, 0, 0, 1], gamma=0.9)"
      ],
      "execution_count": 10,
      "outputs": [
        {
          "output_type": "execute_result",
          "data": {
            "text/plain": [
              "array([1.40049, 1.5561 , 1.729  , 0.81   , 0.9    , 1.     ])"
            ]
          },
          "metadata": {
            "tags": []
          },
          "execution_count": 10
        }
      ]
    },
    {
      "cell_type": "markdown",
      "metadata": {
        "id": "-_ULjgZrEGWB",
        "colab_type": "text"
      },
      "source": [
        "**Rollout**"
      ]
    },
    {
      "cell_type": "code",
      "metadata": {
        "id": "QEecckt8EGWD",
        "colab_type": "code",
        "colab": {}
      },
      "source": [
        "def rollout(env, act, max_pathlength=2500, n_timesteps=50000):\n",
        "    \"\"\"\n",
        "    Generate rollouts for training.\n",
        "    :param: env - environment in which we will make actions to generate rollouts.\n",
        "    :param: act - the function that can return policy and action given observation.\n",
        "    :param: max_pathlength - maximum size of one path that we generate.\n",
        "    :param: n_timesteps - total sum of sizes of all pathes we generate.\n",
        "    \"\"\"\n",
        "    paths = []\n",
        "\n",
        "    total_timesteps = 0\n",
        "    while total_timesteps < n_timesteps:\n",
        "        obervations, actions, rewards, action_probs = [], [], [], []\n",
        "        obervation = env.reset()\n",
        "        for _ in range(max_pathlength):\n",
        "            action, policy = act(obervation)\n",
        "            obervations.append(obervation)\n",
        "            actions.append(action)\n",
        "            action_probs.append(policy)\n",
        "            obervation, reward, done, _ = env.step(action)\n",
        "            rewards.append(reward)\n",
        "            total_timesteps += 1\n",
        "            if done or total_timesteps == n_timesteps:\n",
        "                path = {\"observations\": np.array(obervations),\n",
        "                        \"policy\": np.array(action_probs),\n",
        "                        \"actions\": np.array(actions),\n",
        "                        \"rewards\": np.array(rewards),\n",
        "                        \"cumulative_returns\": get_cummulative_returns(rewards),\n",
        "                        }\n",
        "                paths.append(path)\n",
        "                break\n",
        "    return paths"
      ],
      "execution_count": 0,
      "outputs": []
    },
    {
      "cell_type": "code",
      "metadata": {
        "id": "AoCMmIXBEGWN",
        "colab_type": "code",
        "colab": {
          "base_uri": "https://localhost:8080/",
          "height": 310
        },
        "outputId": "42586574-b843-40cd-d1b7-c6fe1bce5344"
      },
      "source": [
        "paths = rollout(env, act, max_pathlength=5, n_timesteps=100)\n",
        "print(paths[-1])\n",
        "assert (paths[0]['policy'].shape == (5, n_actions))\n",
        "assert (paths[0]['cumulative_returns'].shape == (5,))\n",
        "assert (paths[0]['rewards'].shape == (5,))\n",
        "assert (paths[0]['observations'].shape == (5,)+observation_shape)\n",
        "assert (paths[0]['actions'].shape == (5,))\n",
        "print('It\\'s ok')"
      ],
      "execution_count": 12,
      "outputs": [
        {
          "output_type": "stream",
          "text": [
            "{'observations': array([[ 0.9977498 , -0.06704732,  0.99995026,  0.00997353, -0.03065596,\n",
            "        -0.06815595],\n",
            "       [ 0.99790523, -0.0646928 ,  0.99994417, -0.01056679,  0.05304747,\n",
            "        -0.1332137 ],\n",
            "       [ 0.99889212, -0.04705889,  0.99916775, -0.04078973,  0.11899431,\n",
            "        -0.16111285],\n",
            "       [ 0.99998044, -0.00625484,  0.99443885, -0.10531559,  0.27864731,\n",
            "        -0.46794115],\n",
            "       [ 0.99948184,  0.03218762,  0.98883257, -0.14903068,  0.0970896 ,\n",
            "         0.03976027]]), 'policy': array([[0.3623176 , 0.3440628 , 0.2936196 ],\n",
            "       [0.36654615, 0.34207875, 0.29137507],\n",
            "       [0.36934903, 0.3396182 , 0.29103273],\n",
            "       [0.38436922, 0.36353973, 0.25209105],\n",
            "       [0.3636419 , 0.3310747 , 0.3052833 ]], dtype=float32), 'actions': array([1, 1, 0, 2, 1]), 'rewards': array([-1., -1., -1., -1., -1.]), 'cumulative_returns': array([-5., -4., -3., -2., -1.])}\n",
            "It's ok\n"
          ],
          "name": "stdout"
        }
      ]
    },
    {
      "cell_type": "markdown",
      "metadata": {
        "id": "b7Ht_oU5EGWS",
        "colab_type": "text"
      },
      "source": [
        "### Step 3: loss functions\n",
        "\n",
        "Now let's define the loss functions and constraints for actual TRPO training."
      ]
    },
    {
      "cell_type": "markdown",
      "metadata": {
        "id": "EIOE4E0lEGWT",
        "colab_type": "text"
      },
      "source": [
        "The surrogate reward should be\n",
        "$$J_{surr}= {1 \\over N} \\sum\\limits_{i=0}^N \\frac{\\pi_{\\theta}(s_i, a_i)}{\\pi_{\\theta_{old}}(s_i, a_i)}A_{\\theta_{old}(s_i, a_i)}$$\n",
        "\n",
        "For simplicity, let's use cummulative returns instead of advantage for now:\n",
        "$$J'_{surr}= {1 \\over N} \\sum\\limits_{i=0}^N \\frac{\\pi_{\\theta}(s_i, a_i)}{\\pi_{\\theta_{old}}(s_i, a_i)}G_{\\theta_{old}(s_i, a_i)}$$\n",
        "\n",
        "Or alternatively, minimize the surrogate loss:\n",
        "$$ L_{surr} = - J'_{surr} $$"
      ]
    },
    {
      "cell_type": "code",
      "metadata": {
        "id": "P7OI3o0bEGWZ",
        "colab_type": "code",
        "colab": {}
      },
      "source": [
        "# select probabilities of chosen actions\n",
        "batch_size = tf.shape(observations_ph)[0]\n",
        "probs_all = tf.reshape(probs_out, [-1])\n",
        "probs_for_actions = tf.gather(probs_all, tf.range(\n",
        "    0, batch_size) * n_actions + actions_ph)\n",
        "old_probs_all = tf.reshape(old_probs_ph, [-1])\n",
        "old_probs_for_actions = tf.gather(\n",
        "    old_probs_all, tf.range(0, batch_size) * n_actions + actions_ph)"
      ],
      "execution_count": 0,
      "outputs": []
    },
    {
      "cell_type": "code",
      "metadata": {
        "id": "ZhlT8u_9EGWf",
        "colab_type": "code",
        "colab": {}
      },
      "source": [
        "# Compute surrogate loss: negative importance-sampled policy gradient\n",
        "\n",
        "L_surr = - tf.reduce_mean(cummulative_returns_ph * (probs_for_actions/old_probs_for_actions))"
      ],
      "execution_count": 0,
      "outputs": []
    },
    {
      "cell_type": "code",
      "metadata": {
        "id": "Lu3LTHgCEGWt",
        "colab_type": "code",
        "colab": {
          "base_uri": "https://localhost:8080/",
          "height": 128
        },
        "outputId": "d72f6db5-d06f-46f8-c435-ee93b211f062"
      },
      "source": [
        "# compute and return surrogate policy gradient\n",
        "def var_shape(x):\n",
        "    return [k.value for k in x.get_shape()]\n",
        "\n",
        "\n",
        "def numel(x):\n",
        "    return np.prod(var_shape(x))\n",
        "\n",
        "\n",
        "def flatgrad(loss, var_list):\n",
        "    grads = tf.gradients(loss, var_list)\n",
        "    return tf.concat([tf.reshape(grad, [numel(v)])\n",
        "                      for (v, grad) in zip(var_list, grads)], 0)\n",
        "\n",
        "\n",
        "flat_grad_surr = flatgrad(L_surr, weights)"
      ],
      "execution_count": 15,
      "outputs": [
        {
          "output_type": "stream",
          "text": [
            "WARNING:tensorflow:From /usr/local/lib/python3.6/dist-packages/tensorflow/python/ops/array_grad.py:425: to_int32 (from tensorflow.python.ops.math_ops) is deprecated and will be removed in a future version.\n",
            "Instructions for updating:\n",
            "Use tf.cast instead.\n"
          ],
          "name": "stdout"
        },
        {
          "output_type": "stream",
          "text": [
            "/usr/local/lib/python3.6/dist-packages/tensorflow/python/ops/gradients_impl.py:110: UserWarning: Converting sparse IndexedSlices to a dense Tensor of unknown shape. This may consume a large amount of memory.\n",
            "  \"Converting sparse IndexedSlices to a dense Tensor of unknown shape. \"\n"
          ],
          "name": "stderr"
        }
      ]
    },
    {
      "cell_type": "markdown",
      "metadata": {
        "id": "xwNzWUtAEGW-",
        "colab_type": "text"
      },
      "source": [
        "We can ascend these gradients as long as our $pi_\\theta(a|s)$ satisfies the constraint\n",
        "$$E_{s,\\pi_{\\Theta_{t}}}\\Big[KL(\\pi(\\Theta_{t}, s) \\:||\\:\\pi(\\Theta_{t+1}, s))\\Big]< \\alpha$$\n",
        "\n",
        "\n",
        "where\n",
        "\n",
        "$$KL(p||q) = E _p log({p \\over q})$$"
      ]
    },
    {
      "cell_type": "code",
      "metadata": {
        "id": "12KtgaCBEGXA",
        "colab_type": "code",
        "colab": {
          "base_uri": "https://localhost:8080/",
          "height": 90
        },
        "outputId": "15947ab8-2f5e-4d45-96c2-1828c7816f3f"
      },
      "source": [
        "# Compute Kullback-Leibler divergence (see formula above)\n",
        "# Note: you need to sum KL and entropy over all actions, not just the ones agent took\n",
        "old_log_probs = tf.log(old_probs_ph+1e-10)\n",
        "log_probs_all = policy_out\n",
        "\n",
        "kl = tf.reduce_sum(old_probs_ph * (old_log_probs - log_probs_all))/tf.cast(batch_size, tf.float32)\n",
        "print(\"kl\", kl)\n",
        "# Compute policy entropy\n",
        "print(\"probs_all\", probs_out)\n",
        "print(\"log_probs_all\", log_probs_all)\n",
        "\n",
        "\n",
        "entropy = tf.reduce_sum(-probs_out * log_probs_all) / tf.cast(batch_size, tf.float32)\n",
        "print(\"entropy\",entropy)\n",
        "losses = [L_surr, kl, entropy]"
      ],
      "execution_count": 16,
      "outputs": [
        {
          "output_type": "stream",
          "text": [
            "kl Tensor(\"truediv_1:0\", shape=(), dtype=float32)\n",
            "probs_all Tensor(\"Exp:0\", shape=(?, 3), dtype=float32)\n",
            "log_probs_all Tensor(\"dense2/LogSoftmax:0\", shape=(?, 3), dtype=float32)\n",
            "entropy Tensor(\"truediv_2:0\", shape=(), dtype=float32)\n"
          ],
          "name": "stdout"
        }
      ]
    },
    {
      "cell_type": "markdown",
      "metadata": {
        "id": "xtq2xb62EGXb",
        "colab_type": "text"
      },
      "source": [
        "**Linear search**\n",
        "\n",
        "TRPO in its core involves ascending surrogate policy gradient constrained by KL divergence. \n",
        "\n",
        "In order to enforce this constraint, we're gonna use linesearch. You can find out more about it [here](https://en.wikipedia.org/wiki/Linear_search)"
      ]
    },
    {
      "cell_type": "code",
      "metadata": {
        "id": "8Px_ldYOEGXd",
        "colab_type": "code",
        "colab": {}
      },
      "source": [
        "def linesearch(f, x, fullstep, max_kl):\n",
        "    \"\"\"\n",
        "    Linesearch finds the best parameters of neural networks in the direction of fullstep contrainted by KL divergence.\n",
        "    :param: f - function that returns loss, kl and arbitrary third component.\n",
        "    :param: x - old parameters of neural network.\n",
        "    :param: fullstep - direction in which we make search.\n",
        "    :param: max_kl - constraint of KL divergence.\n",
        "    :returns:\n",
        "    \"\"\"\n",
        "    max_backtracks = 10\n",
        "    loss, _, _ = f(x)\n",
        "    for stepfrac in .5**np.arange(max_backtracks):\n",
        "        xnew = x + stepfrac * fullstep\n",
        "        new_loss, kl, _ = f(xnew)\n",
        "        actual_improve = new_loss - loss\n",
        "        if kl <= max_kl and actual_improve < 0:\n",
        "            x = xnew\n",
        "            loss = new_loss\n",
        "    return x"
      ],
      "execution_count": 0,
      "outputs": []
    },
    {
      "cell_type": "markdown",
      "metadata": {
        "id": "50nwdhFnEGXw",
        "colab_type": "text"
      },
      "source": [
        "### Step 4: training\n",
        "In this section we construct rest parts of our computational graph"
      ]
    },
    {
      "cell_type": "code",
      "metadata": {
        "id": "EksHGVN6EGX2",
        "colab_type": "code",
        "colab": {}
      },
      "source": [
        "def slice_vector(vector, shapes):\n",
        "    \"\"\"\n",
        "    Slices symbolic vector into several symbolic tensors of given shapes.\n",
        "    Auxilary function used to un-flatten gradients, tangents etc.\n",
        "    :param vector: 1-dimensional symbolic vector\n",
        "    :param shapes: list or tuple of shapes (list, tuple or symbolic)\n",
        "    :returns: list of symbolic tensors of given shapes\n",
        "    \"\"\"\n",
        "    assert len(vector.get_shape()) == 1, \"vector must be 1-dimensional\"\n",
        "    start = 0\n",
        "    tensors = []\n",
        "    for shape in shapes:\n",
        "        size = np.prod(shape)\n",
        "        tensor = tf.reshape(vector[start:(start + size)], shape)\n",
        "        tensors.append(tensor)\n",
        "        start += size\n",
        "    return tensors"
      ],
      "execution_count": 0,
      "outputs": []
    },
    {
      "cell_type": "code",
      "metadata": {
        "id": "jsWdcVC3EGYC",
        "colab_type": "code",
        "colab": {}
      },
      "source": [
        "# intermediate grad in conjugate_gradient\n",
        "conjugate_grad_intermediate_vector = tf.placeholder(\n",
        "    dtype=tf.float32, shape=(None,))\n",
        "\n",
        "# slice flat_tangent into chunks for each weight\n",
        "weight_shapes = [sess.run(var).shape for var in weights]\n",
        "tangents = slice_vector(conjugate_grad_intermediate_vector, weight_shapes)\n",
        "\n",
        "# KL divergence where first arg is fixed\n",
        "kl_firstfixed = tf.reduce_sum((tf.stop_gradient(probs_out) * (tf.stop_gradient(\n",
        "    tf.log(probs_out)) - tf.log(probs_out)))) / tf.cast(batch_size, tf.float32)\n",
        "\n",
        "# compute fisher information matrix (used for conjugate gradients and to estimate KL)\n",
        "gradients = tf.gradients(kl_firstfixed, weights)\n",
        "gradient_vector_product = [tf.reduce_sum(\n",
        "    g[0] * t) for (g, t) in zip(gradients, tangents)]\n",
        "\n",
        "fisher_vec_prod = flatgrad(gradient_vector_product, weights)"
      ],
      "execution_count": 0,
      "outputs": []
    },
    {
      "cell_type": "markdown",
      "metadata": {
        "id": "4e4HzTBFEGYM",
        "colab_type": "text"
      },
      "source": [
        "### TRPO helpers\n",
        "\n",
        "Here we define a few helper functions used in the main TRPO loop"
      ]
    },
    {
      "cell_type": "markdown",
      "metadata": {
        "id": "6SR6q7CHEGYO",
        "colab_type": "text"
      },
      "source": [
        "**Conjugate gradients**\n",
        "\n",
        "Since TRPO includes contrainted optimization, we will need to solve Ax=b using conjugate gradients.\n",
        "\n",
        "In general, CG is an algorithm that solves Ax=b where A is positive-defined. A is Hessian matrix so A is positive-defined. You can find out more about them [here](https://en.wikipedia.org/wiki/Conjugate_gradient_method)"
      ]
    },
    {
      "cell_type": "code",
      "metadata": {
        "id": "eR96VRIuEGYR",
        "colab_type": "code",
        "colab": {}
      },
      "source": [
        "from numpy.linalg import inv\n",
        "\n",
        "\n",
        "def conjugate_gradient(f_Ax, b, cg_iters=10, residual_tol=1e-10):\n",
        "    \"\"\"\n",
        "    This method solves system of equation Ax=b using iterative method called conjugate gradients\n",
        "    :f_Ax: function that returns Ax\n",
        "    :b: targets for Ax\n",
        "    :cg_iters: how many iterations this method should do\n",
        "    :residual_tol: epsilon for stability\n",
        "    \"\"\"\n",
        "    p = b.copy()\n",
        "    r = b.copy()\n",
        "    x = np.zeros_like(b)\n",
        "    rdotr = r.dot(r)\n",
        "    for i in range(cg_iters):\n",
        "        z = f_Ax(p)\n",
        "        v = rdotr / (p.dot(z) + 1e-8)\n",
        "        x += v * p\n",
        "        r -= v * z\n",
        "        newrdotr = r.dot(r)\n",
        "        mu = newrdotr / (rdotr + 1e-8)\n",
        "        p = r + mu * p\n",
        "        rdotr = newrdotr\n",
        "        if rdotr < residual_tol:\n",
        "            break\n",
        "    return x"
      ],
      "execution_count": 0,
      "outputs": []
    },
    {
      "cell_type": "code",
      "metadata": {
        "id": "WVIvJenjEGYg",
        "colab_type": "code",
        "colab": {
          "base_uri": "https://localhost:8080/",
          "height": 90
        },
        "outputId": "a26cac10-84a0-49b5-d731-dc09ef6196fa"
      },
      "source": [
        "# This code validates conjugate gradients\n",
        "A = np.random.rand(8, 8)\n",
        "A = np.matmul(np.transpose(A), A)\n",
        "\n",
        "\n",
        "def f_Ax(x):\n",
        "    return np.matmul(A, x.reshape(-1, 1)).reshape(-1)\n",
        "\n",
        "\n",
        "b = np.random.rand(8)\n",
        "\n",
        "w = np.matmul(np.matmul(inv(np.matmul(np.transpose(A), A)),\n",
        "                        np.transpose(A)), b.reshape((-1, 1))).reshape(-1)\n",
        "print(w)\n",
        "print(conjugate_gradient(f_Ax, b))"
      ],
      "execution_count": 21,
      "outputs": [
        {
          "output_type": "stream",
          "text": [
            "[ 10.69860773 -35.20101133  10.50606619  18.91700058  47.27184306\n",
            "  -9.96882635   6.51817091 -35.18767469]\n",
            "[ 10.6972613  -35.20015782  10.50639502  18.91504038  47.27089243\n",
            "  -9.96747788   6.51686235 -35.1868885 ]\n"
          ],
          "name": "stdout"
        }
      ]
    },
    {
      "cell_type": "code",
      "metadata": {
        "id": "bli-ZTcwEGYo",
        "colab_type": "code",
        "colab": {}
      },
      "source": [
        "# Compile a function that exports network weights as a vector\n",
        "flat_weights = tf.concat([tf.reshape(var, [-1]) for var in weights], axis=0)\n",
        "\n",
        "# ... and another function that imports vector back into network weights\n",
        "flat_weights_placeholder = tf.placeholder(tf.float32, shape=(None,))\n",
        "assigns = slice_vector(flat_weights_placeholder, weight_shapes)\n",
        "\n",
        "load_flat_weights = [w.assign(ph) for w, ph in zip(weights, assigns)]"
      ],
      "execution_count": 0,
      "outputs": []
    },
    {
      "cell_type": "code",
      "metadata": {
        "id": "BOi_Z3R-_Jar",
        "colab_type": "code",
        "colab": {}
      },
      "source": [
        ""
      ],
      "execution_count": 0,
      "outputs": []
    },
    {
      "cell_type": "markdown",
      "metadata": {
        "id": "-bAmtKreEGY0",
        "colab_type": "text"
      },
      "source": [
        "##### Step 5: Main TRPO loop\n",
        "\n",
        "Here we will train our network!"
      ]
    },
    {
      "cell_type": "code",
      "metadata": {
        "id": "19DFjbMzEGY5",
        "colab_type": "code",
        "colab": {
          "base_uri": "https://localhost:8080/",
          "height": 1868
        },
        "outputId": "820c4b78-8d1e-4a12-9fb3-1b117de3f210"
      },
      "source": [
        "import time\n",
        "from itertools import count\n",
        "from collections import OrderedDict\n",
        "\n",
        "# this is hyperparameter of TRPO. It controls how big KL divergence may be between old and new policy every step.\n",
        "max_kl = 0.01\n",
        "cg_damping = 0.1  # This parameters regularize addition to\n",
        "numeptotal = 0  # this is number of episodes that we played.\n",
        "\n",
        "start_time = time.time()\n",
        "\n",
        "for i in count(1):\n",
        "\n",
        "    print(\"\\n********** Iteration %i ************\" % i)\n",
        "\n",
        "    # Generating paths.\n",
        "    print(\"Rollout\")\n",
        "    paths = rollout(env, act)\n",
        "    print(\"Made rollout\")\n",
        "\n",
        "    # Updating policy.\n",
        "    observations = np.concatenate([path[\"observations\"] for path in paths])\n",
        "    actions = np.concatenate([path[\"actions\"] for path in paths])\n",
        "    returns = np.concatenate([path[\"cumulative_returns\"] for path in paths])\n",
        "    old_probs = np.concatenate([path[\"policy\"] for path in paths])\n",
        "    inputs_batch = [observations, actions, returns, old_probs]\n",
        "    feed_dict = {observations_ph: observations,\n",
        "                 actions_ph: actions,\n",
        "                 old_probs_ph: old_probs,\n",
        "                 cummulative_returns_ph: returns,\n",
        "                 }\n",
        "    old_weights = sess.run(flat_weights)\n",
        "\n",
        "    def fisher_vector_product(p):\n",
        "        \"\"\"gets intermediate grads (p) and computes fisher*vector \"\"\"\n",
        "        feed_dict[conjugate_grad_intermediate_vector] = p\n",
        "        return sess.run(fisher_vec_prod, feed_dict) + cg_damping * p\n",
        "\n",
        "    flat_grad = sess.run(flat_grad_surr, feed_dict)\n",
        "\n",
        "    stepdir = conjugate_gradient(fisher_vector_product, -flat_grad)\n",
        "    shs = .5 * stepdir.dot(fisher_vector_product(stepdir))\n",
        "    lm = np.sqrt(shs / max_kl)\n",
        "    fullstep = stepdir / lm\n",
        "\n",
        "    # Compute new weights with linesearch in the direction we found with CG\n",
        "\n",
        "    def losses_f(flat_weights):\n",
        "        feed_dict[flat_weights_placeholder] = flat_weights\n",
        "        sess.run(load_flat_weights, feed_dict)\n",
        "        return sess.run(losses, feed_dict)\n",
        "\n",
        "    new_weights = linesearch(losses_f, old_weights, fullstep, max_kl)\n",
        "    feed_dict[flat_weights_placeholder] = new_weights\n",
        "    sess.run(load_flat_weights, feed_dict)\n",
        "\n",
        "    # Report current progress\n",
        "    L_surr, kl, entropy = sess.run(losses, feed_dict)\n",
        "    episode_rewards = np.array([path[\"rewards\"].sum() for path in paths])\n",
        "\n",
        "    stats = OrderedDict()\n",
        "    numeptotal += len(episode_rewards)\n",
        "    stats[\"Total number of episodes\"] = numeptotal\n",
        "    stats[\"Average sum of rewards per episode\"] = episode_rewards.mean()\n",
        "    stats[\"Std of rewards per episode\"] = episode_rewards.std()\n",
        "    stats[\"Entropy\"] = entropy\n",
        "    stats[\"Time elapsed\"] = \"%.2f mins\" % ((time.time() - start_time)/60.)\n",
        "    stats[\"KL between old and new distribution\"] = kl\n",
        "    stats[\"Surrogate loss\"] = L_surr\n",
        "    for k, v in stats.items():\n",
        "        print(k + \": \" + \" \" * (40 - len(k)) + str(v))\n",
        "    i += 1"
      ],
      "execution_count": 23,
      "outputs": [
        {
          "output_type": "stream",
          "text": [
            "\n",
            "********** Iteration 1 ************\n",
            "Rollout\n",
            "Made rollout\n",
            "Total number of episodes:                 262\n",
            "Average sum of rewards per episode:       -189.84732824427482\n",
            "Std of rewards per episode:               56.47893254219662\n",
            "Entropy:                                  0.8365256\n",
            "Time elapsed:                             0.74 mins\n",
            "KL between old and new distribution:      0.00998632\n",
            "Surrogate loss:                           103.04998\n",
            "\n",
            "********** Iteration 2 ************\n",
            "Rollout\n",
            "Made rollout\n",
            "Total number of episodes:                 579\n",
            "Average sum of rewards per episode:       -156.73186119873816\n",
            "Std of rewards per episode:               34.67470319478379\n",
            "Entropy:                                  0.78662544\n",
            "Time elapsed:                             1.45 mins\n",
            "KL between old and new distribution:      0.009897353\n",
            "Surrogate loss:                           81.9969\n",
            "\n",
            "********** Iteration 3 ************\n",
            "Rollout\n",
            "Made rollout\n",
            "Total number of episodes:                 925\n",
            "Average sum of rewards per episode:       -143.51734104046244\n",
            "Std of rewards per episode:               45.878275613592486\n",
            "Entropy:                                  0.70365834\n",
            "Time elapsed:                             2.18 mins\n",
            "KL between old and new distribution:      0.009981362\n",
            "Surrogate loss:                           78.86079\n",
            "\n",
            "********** Iteration 4 ************\n",
            "Rollout\n",
            "Made rollout\n",
            "Total number of episodes:                 1329\n",
            "Average sum of rewards per episode:       -122.76485148514851\n",
            "Std of rewards per episode:               31.067582866646756\n",
            "Entropy:                                  0.67043614\n",
            "Time elapsed:                             2.89 mins\n",
            "KL between old and new distribution:      0.009969007\n",
            "Surrogate loss:                           65.20115\n",
            "\n",
            "********** Iteration 5 ************\n",
            "Rollout\n",
            "Made rollout\n",
            "Total number of episodes:                 1753\n",
            "Average sum of rewards per episode:       -116.92924528301887\n",
            "Std of rewards per episode:               34.737760073184056\n",
            "Entropy:                                  0.5973716\n",
            "Time elapsed:                             3.62 mins\n",
            "KL between old and new distribution:      0.009995546\n",
            "Surrogate loss:                           63.471924\n",
            "\n",
            "********** Iteration 6 ************\n",
            "Rollout\n",
            "Made rollout\n",
            "Total number of episodes:                 2201\n",
            "Average sum of rewards per episode:       -110.609375\n",
            "Std of rewards per episode:               32.40744515377738\n",
            "Entropy:                                  0.54263186\n",
            "Time elapsed:                             4.33 mins\n",
            "KL between old and new distribution:      0.009993057\n",
            "Surrogate loss:                           59.949734\n",
            "\n",
            "********** Iteration 7 ************\n",
            "Rollout\n",
            "Made rollout\n",
            "Total number of episodes:                 2664\n",
            "Average sum of rewards per episode:       -106.99352051835854\n",
            "Std of rewards per episode:               31.965254508814628\n",
            "Entropy:                                  0.53357327\n",
            "Time elapsed:                             5.08 mins\n",
            "KL between old and new distribution:      0.009982625\n",
            "Surrogate loss:                           58.13074\n",
            "\n",
            "********** Iteration 8 ************\n",
            "Rollout\n"
          ],
          "name": "stdout"
        },
        {
          "output_type": "error",
          "ename": "KeyboardInterrupt",
          "evalue": "ignored",
          "traceback": [
            "\u001b[0;31m---------------------------------------------------------------------------\u001b[0m",
            "\u001b[0;31mKeyboardInterrupt\u001b[0m                         Traceback (most recent call last)",
            "\u001b[0;32m<ipython-input-23-2ad62dd63f59>\u001b[0m in \u001b[0;36m<module>\u001b[0;34m()\u001b[0m\n\u001b[1;32m     16\u001b[0m     \u001b[0;31m# Generating paths.\u001b[0m\u001b[0;34m\u001b[0m\u001b[0;34m\u001b[0m\u001b[0;34m\u001b[0m\u001b[0m\n\u001b[1;32m     17\u001b[0m     \u001b[0mprint\u001b[0m\u001b[0;34m(\u001b[0m\u001b[0;34m\"Rollout\"\u001b[0m\u001b[0;34m)\u001b[0m\u001b[0;34m\u001b[0m\u001b[0;34m\u001b[0m\u001b[0m\n\u001b[0;32m---> 18\u001b[0;31m     \u001b[0mpaths\u001b[0m \u001b[0;34m=\u001b[0m \u001b[0mrollout\u001b[0m\u001b[0;34m(\u001b[0m\u001b[0menv\u001b[0m\u001b[0;34m,\u001b[0m \u001b[0mact\u001b[0m\u001b[0;34m)\u001b[0m\u001b[0;34m\u001b[0m\u001b[0;34m\u001b[0m\u001b[0m\n\u001b[0m\u001b[1;32m     19\u001b[0m     \u001b[0mprint\u001b[0m\u001b[0;34m(\u001b[0m\u001b[0;34m\"Made rollout\"\u001b[0m\u001b[0;34m)\u001b[0m\u001b[0;34m\u001b[0m\u001b[0;34m\u001b[0m\u001b[0m\n\u001b[1;32m     20\u001b[0m \u001b[0;34m\u001b[0m\u001b[0m\n",
            "\u001b[0;32m<ipython-input-11-c43c067b6de3>\u001b[0m in \u001b[0;36mrollout\u001b[0;34m(env, act, max_pathlength, n_timesteps)\u001b[0m\n\u001b[1;32m     14\u001b[0m         \u001b[0mobervation\u001b[0m \u001b[0;34m=\u001b[0m \u001b[0menv\u001b[0m\u001b[0;34m.\u001b[0m\u001b[0mreset\u001b[0m\u001b[0;34m(\u001b[0m\u001b[0;34m)\u001b[0m\u001b[0;34m\u001b[0m\u001b[0;34m\u001b[0m\u001b[0m\n\u001b[1;32m     15\u001b[0m         \u001b[0;32mfor\u001b[0m \u001b[0m_\u001b[0m \u001b[0;32min\u001b[0m \u001b[0mrange\u001b[0m\u001b[0;34m(\u001b[0m\u001b[0mmax_pathlength\u001b[0m\u001b[0;34m)\u001b[0m\u001b[0;34m:\u001b[0m\u001b[0;34m\u001b[0m\u001b[0;34m\u001b[0m\u001b[0m\n\u001b[0;32m---> 16\u001b[0;31m             \u001b[0maction\u001b[0m\u001b[0;34m,\u001b[0m \u001b[0mpolicy\u001b[0m \u001b[0;34m=\u001b[0m \u001b[0mact\u001b[0m\u001b[0;34m(\u001b[0m\u001b[0mobervation\u001b[0m\u001b[0;34m)\u001b[0m\u001b[0;34m\u001b[0m\u001b[0;34m\u001b[0m\u001b[0m\n\u001b[0m\u001b[1;32m     17\u001b[0m             \u001b[0mobervations\u001b[0m\u001b[0;34m.\u001b[0m\u001b[0mappend\u001b[0m\u001b[0;34m(\u001b[0m\u001b[0mobervation\u001b[0m\u001b[0;34m)\u001b[0m\u001b[0;34m\u001b[0m\u001b[0;34m\u001b[0m\u001b[0m\n\u001b[1;32m     18\u001b[0m             \u001b[0mactions\u001b[0m\u001b[0;34m.\u001b[0m\u001b[0mappend\u001b[0m\u001b[0;34m(\u001b[0m\u001b[0maction\u001b[0m\u001b[0;34m)\u001b[0m\u001b[0;34m\u001b[0m\u001b[0;34m\u001b[0m\u001b[0m\n",
            "\u001b[0;32m<ipython-input-7-8a92fead55da>\u001b[0m in \u001b[0;36mact\u001b[0;34m(obs, sample)\u001b[0m\n\u001b[1;32m     10\u001b[0m \u001b[0;34m\u001b[0m\u001b[0m\n\u001b[1;32m     11\u001b[0m     probs = sess.run(probs_out, feed_dict={\n\u001b[0;32m---> 12\u001b[0;31m                      observations_ph: obs.reshape((1, -1))})[0]\n\u001b[0m\u001b[1;32m     13\u001b[0m \u001b[0;34m\u001b[0m\u001b[0m\n\u001b[1;32m     14\u001b[0m     \u001b[0;32mif\u001b[0m \u001b[0msample\u001b[0m\u001b[0;34m:\u001b[0m\u001b[0;34m\u001b[0m\u001b[0;34m\u001b[0m\u001b[0m\n",
            "\u001b[0;32m/usr/local/lib/python3.6/dist-packages/tensorflow/python/client/session.py\u001b[0m in \u001b[0;36mrun\u001b[0;34m(self, fetches, feed_dict, options, run_metadata)\u001b[0m\n\u001b[1;32m    927\u001b[0m     \u001b[0;32mtry\u001b[0m\u001b[0;34m:\u001b[0m\u001b[0;34m\u001b[0m\u001b[0;34m\u001b[0m\u001b[0m\n\u001b[1;32m    928\u001b[0m       result = self._run(None, fetches, feed_dict, options_ptr,\n\u001b[0;32m--> 929\u001b[0;31m                          run_metadata_ptr)\n\u001b[0m\u001b[1;32m    930\u001b[0m       \u001b[0;32mif\u001b[0m \u001b[0mrun_metadata\u001b[0m\u001b[0;34m:\u001b[0m\u001b[0;34m\u001b[0m\u001b[0;34m\u001b[0m\u001b[0m\n\u001b[1;32m    931\u001b[0m         \u001b[0mproto_data\u001b[0m \u001b[0;34m=\u001b[0m \u001b[0mtf_session\u001b[0m\u001b[0;34m.\u001b[0m\u001b[0mTF_GetBuffer\u001b[0m\u001b[0;34m(\u001b[0m\u001b[0mrun_metadata_ptr\u001b[0m\u001b[0;34m)\u001b[0m\u001b[0;34m\u001b[0m\u001b[0;34m\u001b[0m\u001b[0m\n",
            "\u001b[0;32m/usr/local/lib/python3.6/dist-packages/tensorflow/python/client/session.py\u001b[0m in \u001b[0;36m_run\u001b[0;34m(self, handle, fetches, feed_dict, options, run_metadata)\u001b[0m\n\u001b[1;32m   1150\u001b[0m     \u001b[0;32mif\u001b[0m \u001b[0mfinal_fetches\u001b[0m \u001b[0;32mor\u001b[0m \u001b[0mfinal_targets\u001b[0m \u001b[0;32mor\u001b[0m \u001b[0;34m(\u001b[0m\u001b[0mhandle\u001b[0m \u001b[0;32mand\u001b[0m \u001b[0mfeed_dict_tensor\u001b[0m\u001b[0;34m)\u001b[0m\u001b[0;34m:\u001b[0m\u001b[0;34m\u001b[0m\u001b[0;34m\u001b[0m\u001b[0m\n\u001b[1;32m   1151\u001b[0m       results = self._do_run(handle, final_targets, final_fetches,\n\u001b[0;32m-> 1152\u001b[0;31m                              feed_dict_tensor, options, run_metadata)\n\u001b[0m\u001b[1;32m   1153\u001b[0m     \u001b[0;32melse\u001b[0m\u001b[0;34m:\u001b[0m\u001b[0;34m\u001b[0m\u001b[0;34m\u001b[0m\u001b[0m\n\u001b[1;32m   1154\u001b[0m       \u001b[0mresults\u001b[0m \u001b[0;34m=\u001b[0m \u001b[0;34m[\u001b[0m\u001b[0;34m]\u001b[0m\u001b[0;34m\u001b[0m\u001b[0;34m\u001b[0m\u001b[0m\n",
            "\u001b[0;32m/usr/local/lib/python3.6/dist-packages/tensorflow/python/client/session.py\u001b[0m in \u001b[0;36m_do_run\u001b[0;34m(self, handle, target_list, fetch_list, feed_dict, options, run_metadata)\u001b[0m\n\u001b[1;32m   1326\u001b[0m     \u001b[0;32mif\u001b[0m \u001b[0mhandle\u001b[0m \u001b[0;32mis\u001b[0m \u001b[0;32mNone\u001b[0m\u001b[0;34m:\u001b[0m\u001b[0;34m\u001b[0m\u001b[0;34m\u001b[0m\u001b[0m\n\u001b[1;32m   1327\u001b[0m       return self._do_call(_run_fn, feeds, fetches, targets, options,\n\u001b[0;32m-> 1328\u001b[0;31m                            run_metadata)\n\u001b[0m\u001b[1;32m   1329\u001b[0m     \u001b[0;32melse\u001b[0m\u001b[0;34m:\u001b[0m\u001b[0;34m\u001b[0m\u001b[0;34m\u001b[0m\u001b[0m\n\u001b[1;32m   1330\u001b[0m       \u001b[0;32mreturn\u001b[0m \u001b[0mself\u001b[0m\u001b[0;34m.\u001b[0m\u001b[0m_do_call\u001b[0m\u001b[0;34m(\u001b[0m\u001b[0m_prun_fn\u001b[0m\u001b[0;34m,\u001b[0m \u001b[0mhandle\u001b[0m\u001b[0;34m,\u001b[0m \u001b[0mfeeds\u001b[0m\u001b[0;34m,\u001b[0m \u001b[0mfetches\u001b[0m\u001b[0;34m)\u001b[0m\u001b[0;34m\u001b[0m\u001b[0;34m\u001b[0m\u001b[0m\n",
            "\u001b[0;32m/usr/local/lib/python3.6/dist-packages/tensorflow/python/client/session.py\u001b[0m in \u001b[0;36m_do_call\u001b[0;34m(self, fn, *args)\u001b[0m\n\u001b[1;32m   1332\u001b[0m   \u001b[0;32mdef\u001b[0m \u001b[0m_do_call\u001b[0m\u001b[0;34m(\u001b[0m\u001b[0mself\u001b[0m\u001b[0;34m,\u001b[0m \u001b[0mfn\u001b[0m\u001b[0;34m,\u001b[0m \u001b[0;34m*\u001b[0m\u001b[0margs\u001b[0m\u001b[0;34m)\u001b[0m\u001b[0;34m:\u001b[0m\u001b[0;34m\u001b[0m\u001b[0;34m\u001b[0m\u001b[0m\n\u001b[1;32m   1333\u001b[0m     \u001b[0;32mtry\u001b[0m\u001b[0;34m:\u001b[0m\u001b[0;34m\u001b[0m\u001b[0;34m\u001b[0m\u001b[0m\n\u001b[0;32m-> 1334\u001b[0;31m       \u001b[0;32mreturn\u001b[0m \u001b[0mfn\u001b[0m\u001b[0;34m(\u001b[0m\u001b[0;34m*\u001b[0m\u001b[0margs\u001b[0m\u001b[0;34m)\u001b[0m\u001b[0;34m\u001b[0m\u001b[0;34m\u001b[0m\u001b[0m\n\u001b[0m\u001b[1;32m   1335\u001b[0m     \u001b[0;32mexcept\u001b[0m \u001b[0merrors\u001b[0m\u001b[0;34m.\u001b[0m\u001b[0mOpError\u001b[0m \u001b[0;32mas\u001b[0m \u001b[0me\u001b[0m\u001b[0;34m:\u001b[0m\u001b[0;34m\u001b[0m\u001b[0;34m\u001b[0m\u001b[0m\n\u001b[1;32m   1336\u001b[0m       \u001b[0mmessage\u001b[0m \u001b[0;34m=\u001b[0m \u001b[0mcompat\u001b[0m\u001b[0;34m.\u001b[0m\u001b[0mas_text\u001b[0m\u001b[0;34m(\u001b[0m\u001b[0me\u001b[0m\u001b[0;34m.\u001b[0m\u001b[0mmessage\u001b[0m\u001b[0;34m)\u001b[0m\u001b[0;34m\u001b[0m\u001b[0;34m\u001b[0m\u001b[0m\n",
            "\u001b[0;32m/usr/local/lib/python3.6/dist-packages/tensorflow/python/client/session.py\u001b[0m in \u001b[0;36m_run_fn\u001b[0;34m(feed_dict, fetch_list, target_list, options, run_metadata)\u001b[0m\n\u001b[1;32m   1317\u001b[0m       \u001b[0mself\u001b[0m\u001b[0;34m.\u001b[0m\u001b[0m_extend_graph\u001b[0m\u001b[0;34m(\u001b[0m\u001b[0;34m)\u001b[0m\u001b[0;34m\u001b[0m\u001b[0;34m\u001b[0m\u001b[0m\n\u001b[1;32m   1318\u001b[0m       return self._call_tf_sessionrun(\n\u001b[0;32m-> 1319\u001b[0;31m           options, feed_dict, fetch_list, target_list, run_metadata)\n\u001b[0m\u001b[1;32m   1320\u001b[0m \u001b[0;34m\u001b[0m\u001b[0m\n\u001b[1;32m   1321\u001b[0m     \u001b[0;32mdef\u001b[0m \u001b[0m_prun_fn\u001b[0m\u001b[0;34m(\u001b[0m\u001b[0mhandle\u001b[0m\u001b[0;34m,\u001b[0m \u001b[0mfeed_dict\u001b[0m\u001b[0;34m,\u001b[0m \u001b[0mfetch_list\u001b[0m\u001b[0;34m)\u001b[0m\u001b[0;34m:\u001b[0m\u001b[0;34m\u001b[0m\u001b[0;34m\u001b[0m\u001b[0m\n",
            "\u001b[0;32m/usr/local/lib/python3.6/dist-packages/tensorflow/python/client/session.py\u001b[0m in \u001b[0;36m_call_tf_sessionrun\u001b[0;34m(self, options, feed_dict, fetch_list, target_list, run_metadata)\u001b[0m\n\u001b[1;32m   1405\u001b[0m     return tf_session.TF_SessionRun_wrapper(\n\u001b[1;32m   1406\u001b[0m         \u001b[0mself\u001b[0m\u001b[0;34m.\u001b[0m\u001b[0m_session\u001b[0m\u001b[0;34m,\u001b[0m \u001b[0moptions\u001b[0m\u001b[0;34m,\u001b[0m \u001b[0mfeed_dict\u001b[0m\u001b[0;34m,\u001b[0m \u001b[0mfetch_list\u001b[0m\u001b[0;34m,\u001b[0m \u001b[0mtarget_list\u001b[0m\u001b[0;34m,\u001b[0m\u001b[0;34m\u001b[0m\u001b[0;34m\u001b[0m\u001b[0m\n\u001b[0;32m-> 1407\u001b[0;31m         run_metadata)\n\u001b[0m\u001b[1;32m   1408\u001b[0m \u001b[0;34m\u001b[0m\u001b[0m\n\u001b[1;32m   1409\u001b[0m   \u001b[0;32mdef\u001b[0m \u001b[0m_call_tf_sessionprun\u001b[0m\u001b[0;34m(\u001b[0m\u001b[0mself\u001b[0m\u001b[0;34m,\u001b[0m \u001b[0mhandle\u001b[0m\u001b[0;34m,\u001b[0m \u001b[0mfeed_dict\u001b[0m\u001b[0;34m,\u001b[0m \u001b[0mfetch_list\u001b[0m\u001b[0;34m)\u001b[0m\u001b[0;34m:\u001b[0m\u001b[0;34m\u001b[0m\u001b[0;34m\u001b[0m\u001b[0m\n",
            "\u001b[0;31mKeyboardInterrupt\u001b[0m: "
          ]
        }
      ]
    },
    {
      "cell_type": "markdown",
      "metadata": {
        "id": "ywodBkTgEGZA",
        "colab_type": "text"
      },
      "source": [
        "# Homework option I: better sampling (10+pts)\n",
        "\n",
        "In this section, you're invited to implement a better rollout strategy called _vine_.\n",
        "\n",
        "![img](https://s17.postimg.org/i90chxgvj/vine.png)\n",
        "\n",
        "In most gym environments, you can actually backtrack by using states. You can find a wrapper that saves/loads states in [the mcts seminar](https://github.com/yandexdataschool/Practical_RL/blob/master/yet_another_week/seminar_MCTS.ipynb).\n",
        "\n",
        "You can read more about in the [TRPO article](https://arxiv.org/abs/1502.05477) in section 5.2.\n",
        "\n",
        "The goal here is to implement such rollout policy (we recommend using tree data structure like in the seminar above).\n",
        "Then you can assign cummulative rewards similar to `get_cummulative_rewards`, but for a tree.\n",
        "\n",
        "__bonus task__ - parallelize samples using multiple cores"
      ]
    },
    {
      "cell_type": "markdown",
      "metadata": {
        "collapsed": true,
        "id": "GbhjBL9LEGZD",
        "colab_type": "text"
      },
      "source": [
        "# Homework option II (10+pts)\n",
        "\n",
        "Let's use TRPO to train evil robots! (pick any of two)\n",
        "* [MuJoCo robots](https://gym.openai.com/envs#mujoco)\n",
        "* [Box2d robot](https://gym.openai.com/envs/BipedalWalker-v2)\n",
        "\n",
        "The catch here is that those environments have continuous action spaces. \n",
        "\n",
        "Luckily, TRPO is a policy gradient method, so it's gonna work for any parametric $\\pi_\\theta(a|s)$. We recommend starting with gaussian policy:\n",
        "\n",
        "$$\\pi_\\theta(a|s) = N(\\mu_\\theta(s),\\sigma^2_\\theta(s)) = {1 \\over \\sqrt { 2 \\pi {\\sigma^2}_\\theta(s) } } e^{ (a - \n",
        "\\mu_\\theta(s))^2 \\over 2 {\\sigma^2}_\\theta(s) } $$\n",
        "\n",
        "In the $\\sqrt { 2 \\pi {\\sigma^2}_\\theta(s) }$ clause, $\\pi$ means ~3.1415926, not agent's policy.\n",
        "\n",
        "This essentially means that you will need two output layers:\n",
        "* $\\mu_\\theta(s)$, a dense layer with linear activation\n",
        "* ${\\sigma^2}_\\theta(s)$, a dense layer with activation tf.exp (to make it positive; like rho from bandits)\n",
        "\n",
        "For multidimensional actions, you can use fully factorized gaussian (basically a vector of gaussians).\n",
        "\n",
        "__bonus task__: compare performance of continuous action space method to action space discretization"
      ]
    },
    {
      "cell_type": "code",
      "metadata": {
        "id": "PsxMfrGOEGZF",
        "colab_type": "code",
        "colab": {}
      },
      "source": [
        ""
      ],
      "execution_count": 0,
      "outputs": []
    }
  ]
}
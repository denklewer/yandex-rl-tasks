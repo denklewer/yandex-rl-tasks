{
  "nbformat": 4,
  "nbformat_minor": 0,
  "metadata": {
    "colab": {
      "name": "7_1_seminar_TRPO_pytorch.ipynb",
      "version": "0.3.2",
      "provenance": []
    },
    "language_info": {
      "codemirror_mode": {
        "name": "ipython",
        "version": 3
      },
      "file_extension": ".py",
      "mimetype": "text/x-python",
      "name": "python",
      "nbconvert_exporter": "python",
      "pygments_lexer": "ipython3",
      "version": "3.6.6"
    },
    "kernelspec": {
      "name": "python3",
      "display_name": "Python 3"
    },
    "accelerator": "GPU"
  },
  "cells": [
    {
      "metadata": {
        "id": "eDpvmV1dqONh",
        "colab_type": "code",
        "colab": {
          "base_uri": "https://localhost:8080/",
          "height": 54
        },
        "outputId": "bf71caaf-18f9-4da6-c4e6-2d48df19b66f"
      },
      "cell_type": "code",
      "source": [
        "# # in google colab uncomment this\n",
        "\n",
        "import os\n",
        "\n",
        "os.system('apt-get install -y xvfb')\n",
        "os.system('wget https://raw.githubusercontent.com/yandexdataschool/Practical_DL/fall18/xvfb -O ../xvfb')\n",
        "os.system('apt-get install -y python-opengl ffmpeg')\n",
        "os.system('pip install pyglet==1.2.4')\n",
        "\n",
        "\n",
        "if type(os.environ.get(\"DISPLAY\")) is not str or len(os.environ.get(\"DISPLAY\")) == 0:\n",
        "    !bash ../xvfb start\n",
        "    %env DISPLAY = : 1"
      ],
      "execution_count": 1,
      "outputs": [
        {
          "output_type": "stream",
          "text": [
            "Starting virtual X frame buffer: Xvfb.\n",
            "env: DISPLAY=: 1\n"
          ],
          "name": "stdout"
        }
      ]
    },
    {
      "metadata": {
        "id": "H69-quaMqs0K",
        "colab_type": "code",
        "colab": {
          "base_uri": "https://localhost:8080/",
          "height": 166
        },
        "outputId": "eed7f02f-5c0f-4fab-c4d7-187b391f278c"
      },
      "cell_type": "code",
      "source": [
        "import sys\n",
        "!rm -r yandex-rl-tasks\n",
        "!git clone https://github.com/denklewer/yandex-rl-tasks.git\n",
        "sys.path.append(os.path.join(\"\", 'yandex-rl-tasks/util')) # To find local version of the library"
      ],
      "execution_count": 2,
      "outputs": [
        {
          "output_type": "stream",
          "text": [
            "rm: cannot remove 'yandex-rl-tasks': No such file or directory\n",
            "Cloning into 'yandex-rl-tasks'...\n",
            "remote: Enumerating objects: 223, done.\u001b[K\n",
            "remote: Counting objects: 100% (223/223), done.\u001b[K\n",
            "remote: Compressing objects: 100% (165/165), done.\u001b[K\n",
            "remote: Total 223 (delta 120), reused 136 (delta 57), pack-reused 0\u001b[K\n",
            "Receiving objects: 100% (223/223), 9.93 MiB | 18.02 MiB/s, done.\n",
            "Resolving deltas: 100% (120/120), done.\n"
          ],
          "name": "stdout"
        }
      ]
    },
    {
      "metadata": {
        "id": "F4CNgqGVqONz",
        "colab_type": "text"
      },
      "cell_type": "markdown",
      "source": [
        "### Let's make a TRPO!\n",
        "\n",
        "In this notebook we will write the code of the one Trust Region Policy Optimization.\n",
        "As usually, it contains a few different parts which we are going to reproduce.\n",
        "\n"
      ]
    },
    {
      "metadata": {
        "id": "awKOMWvLqON2",
        "colab_type": "code",
        "colab": {}
      },
      "cell_type": "code",
      "source": [
        "import numpy as np\n",
        "import torch\n",
        "import torch.nn as nn\n",
        "import torch.nn.functional as F\n",
        "from torch.autograd import Variable"
      ],
      "execution_count": 0,
      "outputs": []
    },
    {
      "metadata": {
        "id": "ILPBA-G-qOOB",
        "colab_type": "code",
        "colab": {
          "base_uri": "https://localhost:8080/",
          "height": 54
        },
        "outputId": "46623b3a-6b7d-43e2-e3ed-a8ad4fd45344"
      },
      "cell_type": "code",
      "source": [
        "import gym\n",
        "\n",
        "env = gym.make(\"Acrobot-v1\")\n",
        "env.reset()\n",
        "observation_shape = env.observation_space.shape\n",
        "n_actions = env.action_space.n\n",
        "print(\"Observation Space\", env.observation_space)\n",
        "print(\"Action Space\", env.action_space)"
      ],
      "execution_count": 4,
      "outputs": [
        {
          "output_type": "stream",
          "text": [
            "Observation Space Box(6,)\n",
            "Action Space Discrete(3)\n"
          ],
          "name": "stdout"
        }
      ]
    },
    {
      "metadata": {
        "id": "Xu3lebR8qOOQ",
        "colab_type": "code",
        "colab": {
          "base_uri": "https://localhost:8080/",
          "height": 288
        },
        "outputId": "66157322-edc9-4f77-80c1-6c1f0884f7b8"
      },
      "cell_type": "code",
      "source": [
        "import matplotlib.pyplot as plt\n",
        "%matplotlib inline\n",
        "plt.imshow(env.render('rgb_array'))"
      ],
      "execution_count": 5,
      "outputs": [
        {
          "output_type": "execute_result",
          "data": {
            "text/plain": [
              "<matplotlib.image.AxesImage at 0x7f65d2ea54a8>"
            ]
          },
          "metadata": {
            "tags": []
          },
          "execution_count": 5
        },
        {
          "output_type": "display_data",
          "data": {
            "image/png": "[encoded data removed]",
            "text/plain": [
              "<Figure size 432x288 with 1 Axes>"
            ]
          },
          "metadata": {
            "tags": []
          }
        }
      ]
    },
    {
      "metadata": {
        "id": "VXBC0xhnqOOZ",
        "colab_type": "text"
      },
      "cell_type": "markdown",
      "source": [
        "### Step 1: Defining a network\n",
        "\n",
        "With all it's complexity, at it's core TRPO is yet another policy gradient method. \n",
        "\n",
        "This essentially means we're actually training a stochastic policy $ \\pi_\\theta(a|s) $. \n",
        "\n",
        "And yes, it's gonna be a neural network. So let's start by defining one."
      ]
    },
    {
      "metadata": {
        "id": "xCiPMBnHqOOe",
        "colab_type": "code",
        "colab": {}
      },
      "cell_type": "code",
      "source": [
        "class TRPOAgent(nn.Module):\n",
        "    def __init__(self, state_shape, n_actions, hidden_size=32):\n",
        "        '''\n",
        "        Here you should define your model\n",
        "        You should have LOG-PROBABILITIES as output because you will need it to compute loss\n",
        "        We recommend that you start simple: \n",
        "        use 1-2 hidden layers with 100-500 units and relu for the first try\n",
        "        '''\n",
        "        nn.Module.__init__(self)\n",
        "\n",
        "        \n",
        "        self.model = nn.Sequential(\n",
        "            nn.Linear(state_shape[0], hidden_size),\n",
        "            nn.ReLU(),\n",
        "            nn.Linear(hidden_size, n_actions),\n",
        "            nn.LogSoftmax()\n",
        "        )\n",
        "\n",
        "    def forward(self, states):\n",
        "        \"\"\"\n",
        "        takes agent's observation (Variable), returns log-probabilities (Variable)\n",
        "        :param state_t: a batch of states, shape = [batch_size, state_shape]\n",
        "        \"\"\"\n",
        "\n",
        "        # Use your network to compute log_probs for given state\n",
        "        log_probs = self.model(states)\n",
        "        return log_probs\n",
        "\n",
        "    def get_log_probs(self, states):\n",
        "        '''\n",
        "        Log-probs for training\n",
        "        '''\n",
        "\n",
        "        return self.forward(states)\n",
        "\n",
        "    def get_probs(self, states):\n",
        "        '''\n",
        "        Probs for interaction\n",
        "        '''\n",
        "\n",
        "        return torch.exp(self.forward(states))\n",
        "\n",
        "    def act(self, obs, sample=True):\n",
        "        '''\n",
        "        Samples action from policy distribution (sample = True) or takes most likely action (sample = False)\n",
        "        :param: obs - single observation vector\n",
        "        :param sample: if True, samples from \\pi, otherwise takes most likely action\n",
        "        :returns: action (single integer) and probabilities for all actions\n",
        "        '''\n",
        "\n",
        "        probs = self.get_probs(Variable(torch.FloatTensor([obs]))).data.numpy()\n",
        "\n",
        "        if sample:\n",
        "            action = int(np.random.choice(n_actions, p=probs[0]))\n",
        "        else:\n",
        "            action = int(np.argmax(probs))\n",
        "\n",
        "        return action, probs[0]\n",
        "\n",
        "\n",
        "agent = TRPOAgent(observation_shape, n_actions)"
      ],
      "execution_count": 0,
      "outputs": []
    },
    {
      "metadata": {
        "id": "EMHoYltdqOOl",
        "colab_type": "code",
        "colab": {
          "base_uri": "https://localhost:8080/",
          "height": 111
        },
        "outputId": "a60eacf0-4e4a-48bc-c56a-28b434e09bff"
      },
      "cell_type": "code",
      "source": [
        "# Check if log-probabilities satisfies all the requirements\n",
        "log_probs = agent.get_log_probs(Variable(torch.FloatTensor([env.reset()])))\n",
        "assert isinstance(\n",
        "    log_probs, Variable) and log_probs.requires_grad, \"qvalues must be a torch variable with grad\"\n",
        "assert len(\n",
        "    log_probs.shape) == 2 and log_probs.shape[0] == 1 and log_probs.shape[1] == n_actions\n",
        "sums = torch.sum(torch.exp(log_probs), dim=1)\n",
        "assert (0.999 < sums).all() and (1.001 > sums).all()\n",
        "\n",
        "# Demo use\n",
        "print(\"sampled:\", [agent.act(env.reset()) for _ in range(5)])\n",
        "print(\"greedy:\", [agent.act(env.reset(), sample=False) for _ in range(5)])"
      ],
      "execution_count": 8,
      "outputs": [
        {
          "output_type": "stream",
          "text": [
            "sampled: [(1, array([0.39642745, 0.3522916 , 0.2512809 ], dtype=float32)), (2, array([0.3947388, 0.3511453, 0.254116 ], dtype=float32)), (1, array([0.39220247, 0.35791346, 0.24988416], dtype=float32)), (1, array([0.3914813 , 0.3545353 , 0.25398338], dtype=float32)), (2, array([0.39130437, 0.3556843 , 0.2530113 ], dtype=float32))]\n",
            "greedy: [(0, array([0.38816693, 0.35658288, 0.25525022], dtype=float32)), (0, array([0.39530274, 0.35408288, 0.25061437], dtype=float32)), (0, array([0.39076445, 0.35204744, 0.25718796], dtype=float32)), (0, array([0.3912982 , 0.3581734 , 0.25052837], dtype=float32)), (0, array([0.39214936, 0.3497655 , 0.25808507], dtype=float32))]\n"
          ],
          "name": "stdout"
        },
        {
          "output_type": "stream",
          "text": [
            "/usr/local/lib/python3.6/dist-packages/torch/nn/modules/container.py:92: UserWarning: Implicit dimension choice for log_softmax has been deprecated. Change the call to include dim=X as an argument.\n",
            "  input = module(input)\n"
          ],
          "name": "stderr"
        }
      ]
    },
    {
      "metadata": {
        "id": "gQnCtFvZqOO0",
        "colab_type": "text"
      },
      "cell_type": "markdown",
      "source": [
        "#### Flat parameters operations\n",
        "\n",
        "We are going to use it"
      ]
    },
    {
      "metadata": {
        "id": "rEWk5KH4qOO3",
        "colab_type": "code",
        "colab": {}
      },
      "cell_type": "code",
      "source": [
        "def get_flat_params_from(model):\n",
        "    params = []\n",
        "    for param in model.parameters():\n",
        "        params.append(param.data.view(-1))\n",
        "\n",
        "    flat_params = torch.cat(params)\n",
        "    return flat_params\n",
        "\n",
        "\n",
        "def set_flat_params_to(model, flat_params):\n",
        "    prev_ind = 0\n",
        "    for param in model.parameters():\n",
        "        flat_size = int(np.prod(list(param.size())))\n",
        "        param.data.copy_(\n",
        "            flat_params[prev_ind:prev_ind + flat_size].view(param.size()))\n",
        "        prev_ind += flat_size"
      ],
      "execution_count": 0,
      "outputs": []
    },
    {
      "metadata": {
        "id": "N3amP-LqqOPC",
        "colab_type": "text"
      },
      "cell_type": "markdown",
      "source": [
        "Compute cummulative reward just like you did in vanilla REINFORCE"
      ]
    },
    {
      "metadata": {
        "id": "pw-2zg2yqOPI",
        "colab_type": "code",
        "colab": {}
      },
      "cell_type": "code",
      "source": [
        "import scipy.signal\n",
        "\n",
        "\n",
        "def get_cummulative_returns(r, gamma=1):\n",
        "    \"\"\"\n",
        "    Computes cummulative discounted rewards given immediate rewards\n",
        "    G_i = r_i + gamma*r_{i+1} + gamma^2*r_{i+2} + ...\n",
        "    Also known as R(s,a).\n",
        "    \"\"\"\n",
        "    r = np.array(r)\n",
        "    assert r.ndim >= 1\n",
        "    return scipy.signal.lfilter([1], [1, -gamma], r[::-1], axis=0)[::-1]"
      ],
      "execution_count": 0,
      "outputs": []
    },
    {
      "metadata": {
        "id": "eDCAO1g2qOPV",
        "colab_type": "code",
        "colab": {
          "base_uri": "https://localhost:8080/",
          "height": 36
        },
        "outputId": "90f8543c-be97-4577-b5a6-d8e062ced278"
      },
      "cell_type": "code",
      "source": [
        "# simple demo on rewards [0,0,1,0,0,1]\n",
        "get_cummulative_returns([0, 0, 1, 0, 0, 1], gamma=0.9)"
      ],
      "execution_count": 11,
      "outputs": [
        {
          "output_type": "execute_result",
          "data": {
            "text/plain": [
              "array([1.40049, 1.5561 , 1.729  , 0.81   , 0.9    , 1.     ])"
            ]
          },
          "metadata": {
            "tags": []
          },
          "execution_count": 11
        }
      ]
    },
    {
      "metadata": {
        "id": "NyIWb9IXqOPh",
        "colab_type": "text"
      },
      "cell_type": "markdown",
      "source": [
        "**Rollout**"
      ]
    },
    {
      "metadata": {
        "id": "vPhTaMIFqOPi",
        "colab_type": "code",
        "colab": {}
      },
      "cell_type": "code",
      "source": [
        "def rollout(env, agent, max_pathlength=2500, n_timesteps=50000):\n",
        "    \"\"\"\n",
        "    Generate rollouts for training.\n",
        "    :param: env - environment in which we will make actions to generate rollouts.\n",
        "    :param: act - the function that can return policy and action given observation.\n",
        "    :param: max_pathlength - maximum size of one path that we generate.\n",
        "    :param: n_timesteps - total sum of sizes of all pathes we generate.\n",
        "    \"\"\"\n",
        "    paths = []\n",
        "\n",
        "    total_timesteps = 0\n",
        "    while total_timesteps < n_timesteps:\n",
        "        obervations, actions, rewards, action_probs = [], [], [], []\n",
        "        obervation = env.reset()\n",
        "        for _ in range(max_pathlength):\n",
        "            action, policy = agent.act(obervation)\n",
        "            obervations.append(obervation)\n",
        "            actions.append(action)\n",
        "            action_probs.append(policy)\n",
        "            obervation, reward, done, _ = env.step(action)\n",
        "            rewards.append(reward)\n",
        "            total_timesteps += 1\n",
        "            if done or total_timesteps == n_timesteps:\n",
        "                path = {\"observations\": np.array(obervations),\n",
        "                        \"policy\": np.array(action_probs),\n",
        "                        \"actions\": np.array(actions),\n",
        "                        \"rewards\": np.array(rewards),\n",
        "                        \"cumulative_returns\": get_cummulative_returns(rewards),\n",
        "                        }\n",
        "                paths.append(path)\n",
        "                break\n",
        "    return paths"
      ],
      "execution_count": 0,
      "outputs": []
    },
    {
      "metadata": {
        "id": "hK_cq5vsqOPo",
        "colab_type": "code",
        "colab": {
          "base_uri": "https://localhost:8080/",
          "height": 353
        },
        "outputId": "60f4a566-75db-42e3-b6a5-aaa038ae9666"
      },
      "cell_type": "code",
      "source": [
        "paths = rollout(env, agent, max_pathlength=5, n_timesteps=100)\n",
        "print(paths[-1])\n",
        "assert (paths[0]['policy'].shape == (5, n_actions))\n",
        "assert (paths[0]['cumulative_returns'].shape == (5,))\n",
        "assert (paths[0]['rewards'].shape == (5,))\n",
        "assert (paths[0]['observations'].shape == (5,)+observation_shape)\n",
        "assert (paths[0]['actions'].shape == (5,))\n",
        "print('It\\'s ok')"
      ],
      "execution_count": 13,
      "outputs": [
        {
          "output_type": "stream",
          "text": [
            "{'observations': array([[ 0.99974395, -0.02262837,  0.99562383, -0.09345149,  0.03490216,\n",
            "        -0.07789405],\n",
            "       [ 0.99960128, -0.02823612,  0.99778049, -0.06658905, -0.08888524,\n",
            "         0.3415908 ],\n",
            "       [ 0.99909041, -0.04264205,  0.99999549,  0.00300223, -0.05020836,\n",
            "         0.34063258],\n",
            "       [ 0.9989142 , -0.04658784,  0.99794124,  0.06413494,  0.01334488,\n",
            "         0.2601069 ],\n",
            "       [ 0.99972097, -0.02362182,  0.99759906,  0.06925394,  0.21163358,\n",
            "        -0.20558233]]), 'policy': array([[0.39574397, 0.34961993, 0.2546361 ],\n",
            "       [0.3781001 , 0.35578692, 0.26611298],\n",
            "       [0.37929213, 0.35845163, 0.26225623],\n",
            "       [0.38387287, 0.36038995, 0.25573722],\n",
            "       [0.4094468 , 0.34833413, 0.24221906]], dtype=float32), 'actions': array([2, 1, 1, 0, 1]), 'rewards': array([-1., -1., -1., -1., -1.]), 'cumulative_returns': array([-5., -4., -3., -2., -1.])}\n",
            "It's ok\n"
          ],
          "name": "stdout"
        },
        {
          "output_type": "stream",
          "text": [
            "/usr/local/lib/python3.6/dist-packages/torch/nn/modules/container.py:92: UserWarning: Implicit dimension choice for log_softmax has been deprecated. Change the call to include dim=X as an argument.\n",
            "  input = module(input)\n"
          ],
          "name": "stderr"
        }
      ]
    },
    {
      "metadata": {
        "id": "pgN6FZaYqOPx",
        "colab_type": "text"
      },
      "cell_type": "markdown",
      "source": [
        "### Step 3: Auxiliary functions\n",
        "\n",
        "Now let's define the loss functions and something else for actual TRPO training."
      ]
    },
    {
      "metadata": {
        "id": "utzL7cfZqOPz",
        "colab_type": "text"
      },
      "cell_type": "markdown",
      "source": [
        "The surrogate reward should be\n",
        "$$J_{surr}= {1 \\over N} \\sum\\limits_{i=0}^N \\frac{\\pi_{\\theta}(s_i, a_i)}{\\pi_{\\theta_{old}}(s_i, a_i)}A_{\\theta_{old}(s_i, a_i)}$$\n",
        "\n",
        "For simplicity, let's use cummulative returns instead of advantage for now:\n",
        "$$J'_{surr}= {1 \\over N} \\sum\\limits_{i=0}^N \\frac{\\pi_{\\theta}(s_i, a_i)}{\\pi_{\\theta_{old}}(s_i, a_i)}G_{\\theta_{old}(s_i, a_i)}$$\n",
        "\n",
        "Or alternatively, minimize the surrogate loss:\n",
        "$$ L_{surr} = - J'_{surr} $$  \n"
      ]
    },
    {
      "metadata": {
        "id": "Bj9yEx7xqOP0",
        "colab_type": "code",
        "colab": {}
      },
      "cell_type": "code",
      "source": [
        "def get_loss(agent, observations, actions, cummulative_returns, old_probs):\n",
        "    \"\"\"\n",
        "    Computes TRPO objective\n",
        "    :param: observations - batch of observations\n",
        "    :param: actions - batch of actions\n",
        "    :param: cummulative_returns - batch of cummulative returns\n",
        "    :param: old_probs - batch of probabilities computed by old network\n",
        "    :returns: scalar value of the objective function\n",
        "    \"\"\"\n",
        "    batch_size = observations.shape[0]\n",
        "    log_probs_all = agent.get_log_probs(observations)\n",
        "    probs_all = torch.exp(log_probs_all)\n",
        "\n",
        "    probs_for_actions = probs_all[torch.arange(\n",
        "        0, batch_size, out=torch.LongTensor()), actions]\n",
        "    old_probs_for_actions = old_probs[torch.arange(\n",
        "        0, batch_size, out=torch.LongTensor()), actions]\n",
        "\n",
        "    # Compute surrogate loss, aka importance-sampled policy gradient\n",
        "    ration = probs_for_actions/old_probs_for_actions\n",
        "    Loss = -torch.mean(ration * cummulative_returns)\n",
        "\n",
        "    assert Loss.shape == torch.Size([])\n",
        "    return Loss"
      ],
      "execution_count": 0,
      "outputs": []
    },
    {
      "metadata": {
        "id": "vsdM-6kJqOP6",
        "colab_type": "text"
      },
      "cell_type": "markdown",
      "source": [
        "We can ascend these gradients as long as our $pi_\\theta(a|s)$ satisfies the constraint\n",
        "$$E_{s,\\pi_{\\Theta_{t}}}\\Big[KL(\\pi(\\Theta_{t}, s) \\:||\\:\\pi(\\Theta_{t+1}, s))\\Big]< \\alpha$$\n",
        "\n",
        "\n",
        "where\n",
        "\n",
        "$$KL(p||q) = E _p log({p \\over q})$$"
      ]
    },
    {
      "metadata": {
        "id": "JoZwpXveqOP-",
        "colab_type": "code",
        "colab": {}
      },
      "cell_type": "code",
      "source": [
        "def get_kl(agent, observations, actions, cummulative_returns, old_probs):\n",
        "    \"\"\"\n",
        "    Computes KL-divergence between network policy and old policy\n",
        "    :param: observations - batch of observations\n",
        "    :param: actions - batch of actions\n",
        "    :param: cummulative_returns - batch of cummulative returns (we don't need it actually)\n",
        "    :param: old_probs - batch of probabilities computed by old network\n",
        "    :returns: scalar value of the KL-divergence\n",
        "    \"\"\"\n",
        "    batch_size = observations.shape[0]\n",
        "    log_probs_all = agent.get_log_probs(observations)\n",
        "    probs_all = torch.exp(log_probs_all)\n",
        "\n",
        "    # Compute Kullback-Leibler divergence (see formula above)\n",
        "    # Note: you need to sum KL and entropy over all actions, not just the ones agent took\n",
        "    old_log_probs = torch.log(old_probs+1e-10)\n",
        "\n",
        "    kl = torch.mean(\n",
        "        torch.sum(probs_all * (log_probs_all - old_log_probs), dim=1))\n",
        "\n",
        "    assert kl.shape == torch.Size([])\n",
        "#     assert (kl > -0.0001).all() and (kl < 10000).all()\n",
        "    return kl"
      ],
      "execution_count": 0,
      "outputs": []
    },
    {
      "metadata": {
        "id": "Y-S2REToqOQF",
        "colab_type": "code",
        "colab": {}
      },
      "cell_type": "code",
      "source": [
        "def get_entropy(agent, observations):\n",
        "    \"\"\"\n",
        "    Computes entropy of the network policy \n",
        "    :param: observations - batch of observations\n",
        "    :returns: scalar value of the entropy\n",
        "    \"\"\"\n",
        "\n",
        "    observations = Variable(torch.FloatTensor(observations))\n",
        "\n",
        "    batch_size = observations.shape[0]\n",
        "    log_probs_all = agent.get_log_probs(observations)\n",
        "    probs_all = torch.exp(log_probs_all)\n",
        "\n",
        "    entropy = torch.sum(-probs_all * log_probs_all) / batch_size\n",
        "\n",
        "    assert entropy.shape == torch.Size([])\n",
        "    return entropy"
      ],
      "execution_count": 0,
      "outputs": []
    },
    {
      "metadata": {
        "id": "vvma8p2MqOQP",
        "colab_type": "text"
      },
      "cell_type": "markdown",
      "source": [
        "**Linear search**\n",
        "\n",
        "TRPO in its core involves ascending surrogate policy gradient constrained by KL divergence. \n",
        "\n",
        "In order to enforce this constraint, we're gonna use linesearch. You can find out more about it [here](https://en.wikipedia.org/wiki/Linear_search)"
      ]
    },
    {
      "metadata": {
        "id": "VsSXu7BoqOQT",
        "colab_type": "code",
        "colab": {}
      },
      "cell_type": "code",
      "source": [
        "def linesearch(f, x, fullstep, max_kl):\n",
        "    \"\"\"\n",
        "    Linesearch finds the best parameters of neural networks in the direction of fullstep contrainted by KL divergence.\n",
        "    :param: f - function that returns loss, kl and arbitrary third component.\n",
        "    :param: x - old parameters of neural network.\n",
        "    :param: fullstep - direction in which we make search.\n",
        "    :param: max_kl - constraint of KL divergence.\n",
        "    :returns:\n",
        "    \"\"\"\n",
        "    max_backtracks = 10\n",
        "    loss, _, = f(x)\n",
        "    for stepfrac in .5**np.arange(max_backtracks):\n",
        "        xnew = x + stepfrac * fullstep\n",
        "        new_loss, kl = f(xnew)\n",
        "        actual_improve = new_loss - loss\n",
        "        if kl.data.numpy() <= max_kl and actual_improve.data.numpy() < 0:\n",
        "            x = xnew\n",
        "            loss = new_loss\n",
        "    return x"
      ],
      "execution_count": 0,
      "outputs": []
    },
    {
      "metadata": {
        "id": "p3ariGEKqOQq",
        "colab_type": "text"
      },
      "cell_type": "markdown",
      "source": [
        "**Conjugate gradients**\n",
        "\n",
        "Since TRPO includes contrainted optimization, we will need to solve Ax=b using conjugate gradients.\n",
        "\n",
        "In general, CG is an algorithm that solves Ax=b where A is positive-defined. A is Hessian matrix so A is positive-defined. You can find out more about them [here](https://en.wikipedia.org/wiki/Conjugate_gradient_method)"
      ]
    },
    {
      "metadata": {
        "id": "sLi1tMaHqOQt",
        "colab_type": "code",
        "colab": {}
      },
      "cell_type": "code",
      "source": [
        "from numpy.linalg import inv\n",
        "\n",
        "\n",
        "def conjugate_gradient(f_Ax, b, cg_iters=10, residual_tol=1e-10):\n",
        "    \"\"\"\n",
        "    This method solves system of equation Ax=b using iterative method called conjugate gradients\n",
        "    :f_Ax: function that returns Ax\n",
        "    :b: targets for Ax\n",
        "    :cg_iters: how many iterations this method should do\n",
        "    :residual_tol: epsilon for stability\n",
        "    \"\"\"\n",
        "    p = b.clone()\n",
        "    r = b.clone()\n",
        "    x = torch.zeros(b.size())\n",
        "    rdotr = torch.sum(r*r)\n",
        "    for i in range(cg_iters):\n",
        "        z = f_Ax(p)\n",
        "        v = rdotr / (torch.sum(p*z) + 1e-8)\n",
        "        x += v * p\n",
        "        r -= v * z\n",
        "        newrdotr = torch.sum(r*r)\n",
        "        mu = newrdotr / (rdotr + 1e-8)\n",
        "        p = r + mu * p\n",
        "        rdotr = newrdotr\n",
        "        if rdotr < residual_tol:\n",
        "            break\n",
        "    return x"
      ],
      "execution_count": 0,
      "outputs": []
    },
    {
      "metadata": {
        "id": "XGL46mRjqOQ2",
        "colab_type": "code",
        "colab": {
          "base_uri": "https://localhost:8080/",
          "height": 91
        },
        "outputId": "1b237104-0983-4ee6-d3bc-2372ef20059e"
      },
      "cell_type": "code",
      "source": [
        "# This code validates conjugate gradients\n",
        "A = np.random.rand(8, 8)\n",
        "A = np.matmul(np.transpose(A), A)\n",
        "\n",
        "\n",
        "def f_Ax(x):\n",
        "    return torch.matmul(torch.FloatTensor(A), x.view((-1, 1))).view(-1)\n",
        "\n",
        "\n",
        "b = np.random.rand(8)\n",
        "\n",
        "w = np.matmul(np.matmul(inv(np.matmul(np.transpose(A), A)),\n",
        "                        np.transpose(A)), b.reshape((-1, 1))).reshape(-1)\n",
        "print(w)\n",
        "print(conjugate_gradient(f_Ax, torch.FloatTensor(b)).numpy())"
      ],
      "execution_count": 28,
      "outputs": [
        {
          "output_type": "stream",
          "text": [
            "[  78.44573324   88.58022641   82.16568689 -136.74715238  164.12371903\n",
            " -100.37567793 -345.99078869  348.77472853]\n",
            "[  78.50013    88.35098    81.799225 -136.38094   163.724     -99.69638\n",
            " -345.10416   347.41837 ]\n"
          ],
          "name": "stdout"
        }
      ]
    },
    {
      "metadata": {
        "id": "FuauKx22qOQ7",
        "colab_type": "text"
      },
      "cell_type": "markdown",
      "source": [
        "### Step 4: training\n",
        "In this section we construct the whole update step function."
      ]
    },
    {
      "metadata": {
        "id": "j2eIlZEkqOQ_",
        "colab_type": "code",
        "colab": {}
      },
      "cell_type": "code",
      "source": [
        "def update_step(agent, observations, actions, cummulative_returns, old_probs, max_kl):\n",
        "    \"\"\"\n",
        "    This function does the TRPO update step\n",
        "    :param: observations - batch of observations\n",
        "    :param: actions - batch of actions\n",
        "    :param: cummulative_returns - batch of cummulative returns\n",
        "    :param: old_probs - batch of probabilities computed by old network\n",
        "    :param: max_kl - controls how big KL divergence may be between old and new policy every step.\n",
        "    :returns: KL between new and old policies and the value of the loss function.\n",
        "    \"\"\"\n",
        "\n",
        "    # Here we prepare the information\n",
        "    observations = Variable(torch.FloatTensor(observations))\n",
        "    actions = torch.LongTensor(actions)\n",
        "    cummulative_returns = Variable(torch.FloatTensor(cummulative_returns))\n",
        "    old_probs = Variable(torch.FloatTensor(old_probs))\n",
        "\n",
        "    # Here we compute gradient of the loss function\n",
        "    loss = get_loss(agent, observations, actions,\n",
        "                    cummulative_returns, old_probs)\n",
        "    grads = torch.autograd.grad(loss, agent.parameters())\n",
        "    loss_grad = torch.cat([grad.view(-1) for grad in grads]).data\n",
        "\n",
        "    def Fvp(v):\n",
        "        # Here we compute Fx to do solve Fx = g using conjugate gradients\n",
        "        # We actually do here a couple of tricks to compute it efficiently\n",
        "\n",
        "        kl = get_kl(agent, observations, actions,\n",
        "                    cummulative_returns, old_probs)\n",
        "\n",
        "        grads = torch.autograd.grad(kl, agent.parameters(), create_graph=True)\n",
        "        flat_grad_kl = torch.cat([grad.view(-1) for grad in grads])\n",
        "\n",
        "        kl_v = (flat_grad_kl * Variable(v)).sum()\n",
        "        grads = torch.autograd.grad(kl_v, agent.parameters())\n",
        "        flat_grad_grad_kl = torch.cat(\n",
        "            [grad.contiguous().view(-1) for grad in grads]).data\n",
        "\n",
        "        return flat_grad_grad_kl + v * 0.1\n",
        "\n",
        "    # Here we solveolve Fx = g system using conjugate gradients\n",
        "    stepdir = conjugate_gradient(Fvp, -loss_grad, 10)\n",
        "\n",
        "    # Here we compute the initial vector to do linear search\n",
        "    shs = 0.5 * (stepdir * Fvp(stepdir)).sum(0, keepdim=True)\n",
        "\n",
        "    lm = torch.sqrt(shs / max_kl)\n",
        "    fullstep = stepdir / lm[0]\n",
        "\n",
        "    neggdotstepdir = (-loss_grad * stepdir).sum(0, keepdim=True)\n",
        "\n",
        "    # Here we get the start point\n",
        "    prev_params = get_flat_params_from(agent)\n",
        "\n",
        "    def get_loss_kl(params):\n",
        "        # Helper for linear search\n",
        "        set_flat_params_to(agent, params)\n",
        "        return [get_loss(agent, observations, actions, cummulative_returns, old_probs),\n",
        "                get_kl(agent, observations, actions, cummulative_returns, old_probs)]\n",
        "\n",
        "    # Here we find our new parameters\n",
        "    new_params = linesearch(get_loss_kl, prev_params, fullstep, max_kl)\n",
        "\n",
        "    # And we set it to our network\n",
        "    set_flat_params_to(agent, new_params)\n",
        "\n",
        "    return get_loss_kl(new_params)"
      ],
      "execution_count": 0,
      "outputs": []
    },
    {
      "metadata": {
        "id": "ri-IHq0uqORJ",
        "colab_type": "text"
      },
      "cell_type": "markdown",
      "source": [
        "##### Step 5: Main TRPO loop\n",
        "\n",
        "Here we will train our network!"
      ]
    },
    {
      "metadata": {
        "id": "gDkPo9L-qORN",
        "colab_type": "code",
        "colab": {
          "base_uri": "https://localhost:8080/",
          "height": 8907
        },
        "outputId": "6ed7b295-a905-40f9-8f5a-65d9b958fd44"
      },
      "cell_type": "code",
      "source": [
        "import time\n",
        "from itertools import count\n",
        "from collections import OrderedDict\n",
        "\n",
        "# this is hyperparameter of TRPO. It controls how big KL divergence may be between old and new policy every step.\n",
        "max_kl = 0.01\n",
        "numeptotal = 0  # this is number of episodes that we played.\n",
        "\n",
        "start_time = time.time()\n",
        "\n",
        "for i in count(1):\n",
        "\n",
        "    print(\"\\n********** Iteration %i ************\" % i)\n",
        "\n",
        "    # Generating paths.\n",
        "    print(\"Rollout\")\n",
        "    paths = rollout(env, agent)\n",
        "    print(\"Made rollout\")\n",
        "\n",
        "    # Updating policy.\n",
        "    observations = np.concatenate([path[\"observations\"] for path in paths])\n",
        "    actions = np.concatenate([path[\"actions\"] for path in paths])\n",
        "    returns = np.concatenate([path[\"cumulative_returns\"] for path in paths])\n",
        "    old_probs = np.concatenate([path[\"policy\"] for path in paths])\n",
        "\n",
        "    loss, kl = update_step(agent, observations, actions,\n",
        "                           returns, old_probs, max_kl)\n",
        "\n",
        "    # Report current progress\n",
        "    episode_rewards = np.array([path[\"rewards\"].sum() for path in paths])\n",
        "\n",
        "    stats = OrderedDict()\n",
        "    numeptotal += len(episode_rewards)\n",
        "    stats[\"Total number of episodes\"] = numeptotal\n",
        "    stats[\"Average sum of rewards per episode\"] = episode_rewards.mean()\n",
        "    stats[\"Std of rewards per episode\"] = episode_rewards.std()\n",
        "    stats[\"Time elapsed\"] = \"%.2f mins\" % ((time.time() - start_time)/60.)\n",
        "    stats[\"KL between old and new distribution\"] = kl.data.numpy()\n",
        "    stats[\"Entropy\"] = get_entropy(agent, observations).data.numpy()\n",
        "    stats[\"Surrogate loss\"] = loss.data.numpy()\n",
        "    for k, v in stats.items():\n",
        "        print(k + \": \" + \" \" * (40 - len(k)) + str(v))\n",
        "    i += 1"
      ],
      "execution_count": 30,
      "outputs": [
        {
          "output_type": "stream",
          "text": [
            "\n",
            "********** Iteration 1 ************\n",
            "Rollout\n"
          ],
          "name": "stdout"
        },
        {
          "output_type": "stream",
          "text": [
            "/usr/local/lib/python3.6/dist-packages/torch/nn/modules/container.py:92: UserWarning: Implicit dimension choice for log_softmax has been deprecated. Change the call to include dim=X as an argument.\n",
            "  input = module(input)\n"
          ],
          "name": "stderr"
        },
        {
          "output_type": "stream",
          "text": [
            "Made rollout\n",
            "Total number of episodes:                 126\n",
            "Average sum of rewards per episode:       -396.04761904761904\n",
            "Std of rewards per episode:               84.23529565457467\n",
            "Time elapsed:                             0.26 mins\n",
            "KL between old and new distribution:      0.009996582\n",
            "Entropy:                                  1.0463927\n",
            "Surrogate loss:                           206.29346\n",
            "\n",
            "********** Iteration 2 ************\n",
            "Rollout\n",
            "Made rollout\n",
            "Total number of episodes:                 318\n",
            "Average sum of rewards per episode:       -259.4322916666667\n",
            "Std of rewards per episode:               70.91269279131156\n",
            "Time elapsed:                             0.51 mins\n",
            "KL between old and new distribution:      0.009974232\n",
            "Entropy:                                  0.98723656\n",
            "Surrogate loss:                           138.80598\n",
            "\n",
            "********** Iteration 3 ************\n",
            "Rollout\n",
            "Made rollout\n",
            "Total number of episodes:                 571\n",
            "Average sum of rewards per episode:       -196.6324110671937\n",
            "Std of rewards per episode:               45.049064785634265\n",
            "Time elapsed:                             0.77 mins\n",
            "KL between old and new distribution:      0.009971944\n",
            "Entropy:                                  0.92749494\n",
            "Surrogate loss:                           103.05636\n",
            "\n",
            "********** Iteration 4 ************\n",
            "Rollout\n",
            "Made rollout\n",
            "Total number of episodes:                 889\n",
            "Average sum of rewards per episode:       -156.23584905660377\n",
            "Std of rewards per episode:               36.430743777798874\n",
            "Time elapsed:                             1.03 mins\n",
            "KL between old and new distribution:      0.00998217\n",
            "Entropy:                                  0.87312704\n",
            "Surrogate loss:                           82.05705\n",
            "\n",
            "********** Iteration 5 ************\n",
            "Rollout\n",
            "Made rollout\n",
            "Total number of episodes:                 1229\n",
            "Average sum of rewards per episode:       -146.0735294117647\n",
            "Std of rewards per episode:               52.43896064402502\n",
            "Time elapsed:                             1.31 mins\n",
            "KL between old and new distribution:      0.0099942805\n",
            "Entropy:                                  0.8064402\n",
            "Surrogate loss:                           82.05114\n",
            "\n",
            "********** Iteration 6 ************\n",
            "Rollout\n",
            "Made rollout\n",
            "Total number of episodes:                 1611\n",
            "Average sum of rewards per episode:       -129.89267015706807\n",
            "Std of rewards per episode:               31.080565781691487\n",
            "Time elapsed:                             1.57 mins\n",
            "KL between old and new distribution:      0.00997873\n",
            "Entropy:                                  0.75787914\n",
            "Surrogate loss:                           68.4015\n",
            "\n",
            "********** Iteration 7 ************\n",
            "Rollout\n",
            "Made rollout\n",
            "Total number of episodes:                 2024\n",
            "Average sum of rewards per episode:       -120.0677966101695\n",
            "Std of rewards per episode:               26.06381169616153\n",
            "Time elapsed:                             1.82 mins\n",
            "KL between old and new distribution:      0.009997576\n",
            "Entropy:                                  0.68218297\n",
            "Surrogate loss:                           62.610443\n",
            "\n",
            "********** Iteration 8 ************\n",
            "Rollout\n",
            "Made rollout\n",
            "Total number of episodes:                 2476\n",
            "Average sum of rewards per episode:       -109.6216814159292\n",
            "Std of rewards per episode:               25.226772700638\n",
            "Time elapsed:                             2.08 mins\n",
            "KL between old and new distribution:      0.009989243\n",
            "Entropy:                                  0.59619373\n",
            "Surrogate loss:                           57.51989\n",
            "\n",
            "********** Iteration 9 ************\n",
            "Rollout\n",
            "Made rollout\n",
            "Total number of episodes:                 2959\n",
            "Average sum of rewards per episode:       -102.52173913043478\n",
            "Std of rewards per episode:               22.330777104372256\n",
            "Time elapsed:                             2.34 mins\n",
            "KL between old and new distribution:      0.009989521\n",
            "Entropy:                                  0.5309133\n",
            "Surrogate loss:                           53.45063\n",
            "\n",
            "********** Iteration 10 ************\n",
            "Rollout\n",
            "Made rollout\n",
            "Total number of episodes:                 3448\n",
            "Average sum of rewards per episode:       -101.25153374233129\n",
            "Std of rewards per episode:               23.659136220210772\n",
            "Time elapsed:                             2.63 mins\n",
            "KL between old and new distribution:      0.009990524\n",
            "Entropy:                                  0.50183165\n",
            "Surrogate loss:                           53.12592\n",
            "\n",
            "********** Iteration 11 ************\n",
            "Rollout\n",
            "Made rollout\n",
            "Total number of episodes:                 3950\n",
            "Average sum of rewards per episode:       -98.60358565737052\n",
            "Std of rewards per episode:               26.893256369191835\n",
            "Time elapsed:                             2.91 mins\n",
            "KL between old and new distribution:      0.00999361\n",
            "Entropy:                                  0.4753463\n",
            "Surrogate loss:                           52.775005\n",
            "\n",
            "********** Iteration 12 ************\n",
            "Rollout\n",
            "Made rollout\n",
            "Total number of episodes:                 4448\n",
            "Average sum of rewards per episode:       -99.40562248995984\n",
            "Std of rewards per episode:               33.01934641182214\n",
            "Time elapsed:                             3.18 mins\n",
            "KL between old and new distribution:      0.009990182\n",
            "Entropy:                                  0.42694128\n",
            "Surrogate loss:                           54.96648\n",
            "\n",
            "********** Iteration 13 ************\n",
            "Rollout\n",
            "Made rollout\n",
            "Total number of episodes:                 4966\n",
            "Average sum of rewards per episode:       -95.52702702702703\n",
            "Std of rewards per episode:               25.502786645436753\n",
            "Time elapsed:                             3.43 mins\n",
            "KL between old and new distribution:      0.009985007\n",
            "Entropy:                                  0.39608032\n",
            "Surrogate loss:                           50.900085\n",
            "\n",
            "********** Iteration 14 ************\n",
            "Rollout\n",
            "Made rollout\n",
            "Total number of episodes:                 5507\n",
            "Average sum of rewards per episode:       -91.42329020332717\n",
            "Std of rewards per episode:               27.275891277777028\n",
            "Time elapsed:                             3.69 mins\n",
            "KL between old and new distribution:      0.009978969\n",
            "Entropy:                                  0.4112925\n",
            "Surrogate loss:                           49.54817\n",
            "\n",
            "********** Iteration 15 ************\n",
            "Rollout\n",
            "Made rollout\n",
            "Total number of episodes:                 6047\n",
            "Average sum of rewards per episode:       -91.59444444444445\n",
            "Std of rewards per episode:               23.619443627739216\n",
            "Time elapsed:                             3.97 mins\n",
            "KL between old and new distribution:      0.009983255\n",
            "Entropy:                                  0.36592242\n",
            "Surrogate loss:                           48.661015\n",
            "\n",
            "********** Iteration 16 ************\n",
            "Rollout\n",
            "Made rollout\n",
            "Total number of episodes:                 6592\n",
            "Average sum of rewards per episode:       -90.74495412844037\n",
            "Std of rewards per episode:               23.452921753149727\n",
            "Time elapsed:                             4.23 mins\n",
            "KL between old and new distribution:      0.009983838\n",
            "Entropy:                                  0.33441386\n",
            "Surrogate loss:                           48.25402\n",
            "\n",
            "********** Iteration 17 ************\n",
            "Rollout\n",
            "Made rollout\n",
            "Total number of episodes:                 7138\n",
            "Average sum of rewards per episode:       -90.57692307692308\n",
            "Std of rewards per episode:               27.282918391436606\n",
            "Time elapsed:                             4.49 mins\n",
            "KL between old and new distribution:      0.009999113\n",
            "Entropy:                                  0.3102135\n",
            "Surrogate loss:                           49.23142\n",
            "\n",
            "********** Iteration 18 ************\n",
            "Rollout\n",
            "Made rollout\n",
            "Total number of episodes:                 7692\n",
            "Average sum of rewards per episode:       -89.25451263537906\n",
            "Std of rewards per episode:               27.511110775434272\n",
            "Time elapsed:                             4.75 mins\n",
            "KL between old and new distribution:      0.009984635\n",
            "Entropy:                                  0.30155277\n",
            "Surrogate loss:                           48.659054\n",
            "\n",
            "********** Iteration 19 ************\n",
            "Rollout\n",
            "Made rollout\n",
            "Total number of episodes:                 8237\n",
            "Average sum of rewards per episode:       -90.74678899082569\n",
            "Std of rewards per episode:               35.81724910885979\n",
            "Time elapsed:                             5.01 mins\n",
            "KL between old and new distribution:      0.009993316\n",
            "Entropy:                                  0.28150594\n",
            "Surrogate loss:                           52.17107\n",
            "\n",
            "********** Iteration 20 ************\n",
            "Rollout\n",
            "Made rollout\n",
            "Total number of episodes:                 8807\n",
            "Average sum of rewards per episode:       -86.72105263157894\n",
            "Std of rewards per episode:               22.978198949485623\n",
            "Time elapsed:                             5.29 mins\n",
            "KL between old and new distribution:      0.009994903\n",
            "Entropy:                                  0.25331923\n",
            "Surrogate loss:                           46.222015\n",
            "\n",
            "********** Iteration 21 ************\n",
            "Rollout\n",
            "Made rollout\n",
            "Total number of episodes:                 9379\n",
            "Average sum of rewards per episode:       -86.41433566433567\n",
            "Std of rewards per episode:               27.583592038265852\n",
            "Time elapsed:                             5.55 mins\n",
            "KL between old and new distribution:      0.009988409\n",
            "Entropy:                                  0.2250742\n",
            "Surrogate loss:                           47.41181\n",
            "\n",
            "********** Iteration 22 ************\n",
            "Rollout\n",
            "Made rollout\n",
            "Total number of episodes:                 9954\n",
            "Average sum of rewards per episode:       -85.95826086956522\n",
            "Std of rewards per episode:               23.69505537341786\n",
            "Time elapsed:                             5.81 mins\n",
            "KL between old and new distribution:      0.009997144\n",
            "Entropy:                                  0.20388742\n",
            "Surrogate loss:                           46.07331\n",
            "\n",
            "********** Iteration 23 ************\n",
            "Rollout\n",
            "Made rollout\n",
            "Total number of episodes:                 10541\n",
            "Average sum of rewards per episode:       -84.18228279386712\n",
            "Std of rewards per episode:               28.46946108042152\n",
            "Time elapsed:                             6.07 mins\n",
            "KL between old and new distribution:      0.009994842\n",
            "Entropy:                                  0.19061281\n",
            "Surrogate loss:                           46.69635\n",
            "\n",
            "********** Iteration 24 ************\n",
            "Rollout\n",
            "Made rollout\n",
            "Total number of episodes:                 11132\n",
            "Average sum of rewards per episode:       -83.60406091370558\n",
            "Std of rewards per episode:               22.891244022178487\n",
            "Time elapsed:                             6.32 mins\n",
            "KL between old and new distribution:      0.009989194\n",
            "Entropy:                                  0.20608887\n",
            "Surrogate loss:                           44.79092\n",
            "\n",
            "********** Iteration 25 ************\n",
            "Rollout\n",
            "Made rollout\n",
            "Total number of episodes:                 11719\n",
            "Average sum of rewards per episode:       -84.17887563884156\n",
            "Std of rewards per episode:               25.01101011585095\n",
            "Time elapsed:                             6.60 mins\n",
            "KL between old and new distribution:      0.009976091\n",
            "Entropy:                                  0.19475375\n",
            "Surrogate loss:                           45.619743\n",
            "\n",
            "********** Iteration 26 ************\n",
            "Rollout\n",
            "Made rollout\n",
            "Total number of episodes:                 12283\n",
            "Average sum of rewards per episode:       -87.65602836879432\n",
            "Std of rewards per episode:               32.186272719935005\n",
            "Time elapsed:                             6.87 mins\n",
            "KL between old and new distribution:      0.009992363\n",
            "Entropy:                                  0.19205858\n",
            "Surrogate loss:                           49.552753\n",
            "\n",
            "********** Iteration 27 ************\n",
            "Rollout\n",
            "Made rollout\n",
            "Total number of episodes:                 12867\n",
            "Average sum of rewards per episode:       -84.6181506849315\n",
            "Std of rewards per episode:               26.89470359590417\n",
            "Time elapsed:                             7.13 mins\n",
            "KL between old and new distribution:      0.009998589\n",
            "Entropy:                                  0.1656173\n",
            "Surrogate loss:                           46.38351\n",
            "\n",
            "********** Iteration 28 ************\n",
            "Rollout\n",
            "Made rollout\n",
            "Total number of episodes:                 13438\n",
            "Average sum of rewards per episode:       -86.56917688266199\n",
            "Std of rewards per episode:               31.17640946337883\n",
            "Time elapsed:                             7.38 mins\n",
            "KL between old and new distribution:      0.009994853\n",
            "Entropy:                                  0.17006387\n",
            "Surrogate loss:                           48.690044\n",
            "\n",
            "********** Iteration 29 ************\n",
            "Rollout\n",
            "Made rollout\n",
            "Total number of episodes:                 14020\n",
            "Average sum of rewards per episode:       -84.91237113402062\n",
            "Std of rewards per episode:               23.174688872633418\n",
            "Time elapsed:                             7.66 mins\n",
            "KL between old and new distribution:      0.0099993115\n",
            "Entropy:                                  0.16069643\n",
            "Surrogate loss:                           45.482914\n",
            "\n",
            "********** Iteration 30 ************\n",
            "Rollout\n",
            "Made rollout\n",
            "Total number of episodes:                 14588\n",
            "Average sum of rewards per episode:       -87.03169014084507\n",
            "Std of rewards per episode:               32.905686545072705\n",
            "Time elapsed:                             7.93 mins\n",
            "KL between old and new distribution:      0.009996484\n",
            "Entropy:                                  0.1491218\n",
            "Surrogate loss:                           49.54384\n",
            "\n",
            "********** Iteration 31 ************\n",
            "Rollout\n",
            "Made rollout\n",
            "Total number of episodes:                 15166\n",
            "Average sum of rewards per episode:       -85.50692041522491\n",
            "Std of rewards per episode:               24.115583567332024\n",
            "Time elapsed:                             8.22 mins\n",
            "KL between old and new distribution:      0.009995533\n",
            "Entropy:                                  0.16414711\n",
            "Surrogate loss:                           46.012325\n",
            "\n",
            "********** Iteration 32 ************\n",
            "Rollout\n",
            "Made rollout\n",
            "Total number of episodes:                 15744\n",
            "Average sum of rewards per episode:       -85.50692041522491\n",
            "Std of rewards per episode:               26.93997147055833\n",
            "Time elapsed:                             8.48 mins\n",
            "KL between old and new distribution:      0.009984018\n",
            "Entropy:                                  0.14866015\n",
            "Surrogate loss:                           46.82597\n",
            "\n",
            "********** Iteration 33 ************\n",
            "Rollout\n",
            "Made rollout\n",
            "Total number of episodes:                 16330\n",
            "Average sum of rewards per episode:       -84.3259385665529\n",
            "Std of rewards per episode:               28.750270683806274\n",
            "Time elapsed:                             8.74 mins\n",
            "KL between old and new distribution:      0.0099878\n",
            "Entropy:                                  0.13072588\n",
            "Surrogate loss:                           46.901405\n",
            "\n",
            "********** Iteration 34 ************\n",
            "Rollout\n",
            "Made rollout\n",
            "Total number of episodes:                 16921\n",
            "Average sum of rewards per episode:       -83.60406091370558\n",
            "Std of rewards per episode:               24.328245658256417\n",
            "Time elapsed:                             9.00 mins\n",
            "KL between old and new distribution:      0.009997051\n",
            "Entropy:                                  0.11926305\n",
            "Surrogate loss:                           45.19048\n",
            "\n",
            "********** Iteration 35 ************\n",
            "Rollout\n",
            "Made rollout\n",
            "Total number of episodes:                 17517\n",
            "Average sum of rewards per episode:       -82.89429530201342\n",
            "Std of rewards per episode:               22.404545492635837\n",
            "Time elapsed:                             9.27 mins\n",
            "KL between old and new distribution:      0.009998082\n",
            "Entropy:                                  0.10064841\n",
            "Surrogate loss:                           44.34982\n",
            "\n",
            "********** Iteration 36 ************\n",
            "Rollout\n",
            "Made rollout\n",
            "Total number of episodes:                 18093\n",
            "Average sum of rewards per episode:       -85.80729166666667\n",
            "Std of rewards per episode:               27.03565063328291\n",
            "Time elapsed:                             9.54 mins\n",
            "KL between old and new distribution:      0.009987146\n",
            "Entropy:                                  0.11160392\n",
            "Surrogate loss:                           47.018734\n",
            "\n",
            "********** Iteration 37 ************\n",
            "Rollout\n",
            "Made rollout\n",
            "Total number of episodes:                 18685\n",
            "Average sum of rewards per episode:       -83.46114864864865\n",
            "Std of rewards per episode:               25.94123772869796\n",
            "Time elapsed:                             9.80 mins\n",
            "KL between old and new distribution:      0.009994108\n",
            "Entropy:                                  0.09073167\n",
            "Surrogate loss:                           45.61917\n",
            "\n",
            "********** Iteration 38 ************\n",
            "Rollout\n",
            "Made rollout\n",
            "Total number of episodes:                 19262\n",
            "Average sum of rewards per episode:       -85.65857885615252\n",
            "Std of rewards per episode:               31.767999443175484\n",
            "Time elapsed:                             10.06 mins\n",
            "KL between old and new distribution:      0.009996182\n",
            "Entropy:                                  0.095232986\n",
            "Surrogate loss:                           48.43971\n",
            "\n",
            "********** Iteration 39 ************\n",
            "Rollout\n",
            "Made rollout\n",
            "Total number of episodes:                 19846\n",
            "Average sum of rewards per episode:       -84.61986301369863\n",
            "Std of rewards per episode:               28.673636213076723\n",
            "Time elapsed:                             10.32 mins\n",
            "KL between old and new distribution:      0.009984229\n",
            "Entropy:                                  0.097938515\n",
            "Surrogate loss:                           47.04591\n",
            "\n",
            "********** Iteration 40 ************\n",
            "Rollout\n",
            "Made rollout\n",
            "Total number of episodes:                 20437\n",
            "Average sum of rewards per episode:       -83.60575296108291\n",
            "Std of rewards per episode:               27.83864374115153\n",
            "Time elapsed:                             10.59 mins\n",
            "KL between old and new distribution:      0.009988227\n",
            "Entropy:                                  0.082001075\n",
            "Surrogate loss:                           46.261364\n",
            "\n",
            "********** Iteration 41 ************\n",
            "Rollout\n",
            "Made rollout\n",
            "Total number of episodes:                 21021\n",
            "Average sum of rewards per episode:       -84.6181506849315\n",
            "Std of rewards per episode:               26.425128387174656\n",
            "Time elapsed:                             10.86 mins\n",
            "KL between old and new distribution:      0.009982005\n",
            "Entropy:                                  0.086129695\n",
            "Surrogate loss:                           46.2507\n",
            "\n",
            "********** Iteration 42 ************\n",
            "Rollout\n",
            "Made rollout\n"
          ],
          "name": "stdout"
        },
        {
          "output_type": "error",
          "ename": "KeyboardInterrupt",
          "evalue": "ignored",
          "traceback": [
            "\u001b[0;31m---------------------------------------------------------------------------\u001b[0m",
            "\u001b[0;31mKeyboardInterrupt\u001b[0m                         Traceback (most recent call last)",
            "\u001b[0;32m<ipython-input-30-4e6dbda4efe8>\u001b[0m in \u001b[0;36m<module>\u001b[0;34m()\u001b[0m\n\u001b[1;32m     25\u001b[0m \u001b[0;34m\u001b[0m\u001b[0m\n\u001b[1;32m     26\u001b[0m     loss, kl = update_step(agent, observations, actions,\n\u001b[0;32m---> 27\u001b[0;31m                            returns, old_probs, max_kl)\n\u001b[0m\u001b[1;32m     28\u001b[0m \u001b[0;34m\u001b[0m\u001b[0m\n\u001b[1;32m     29\u001b[0m     \u001b[0;31m# Report current progress\u001b[0m\u001b[0;34m\u001b[0m\u001b[0;34m\u001b[0m\u001b[0;34m\u001b[0m\u001b[0m\n",
            "\u001b[0;32m<ipython-input-29-65c518b59082>\u001b[0m in \u001b[0;36mupdate_step\u001b[0;34m(agent, observations, actions, cummulative_returns, old_probs, max_kl)\u001b[0m\n\u001b[1;32m     40\u001b[0m \u001b[0;34m\u001b[0m\u001b[0m\n\u001b[1;32m     41\u001b[0m     \u001b[0;31m# Here we solveolve Fx = g system using conjugate gradients\u001b[0m\u001b[0;34m\u001b[0m\u001b[0;34m\u001b[0m\u001b[0;34m\u001b[0m\u001b[0m\n\u001b[0;32m---> 42\u001b[0;31m     \u001b[0mstepdir\u001b[0m \u001b[0;34m=\u001b[0m \u001b[0mconjugate_gradient\u001b[0m\u001b[0;34m(\u001b[0m\u001b[0mFvp\u001b[0m\u001b[0;34m,\u001b[0m \u001b[0;34m-\u001b[0m\u001b[0mloss_grad\u001b[0m\u001b[0;34m,\u001b[0m \u001b[0;36m10\u001b[0m\u001b[0;34m)\u001b[0m\u001b[0;34m\u001b[0m\u001b[0;34m\u001b[0m\u001b[0m\n\u001b[0m\u001b[1;32m     43\u001b[0m \u001b[0;34m\u001b[0m\u001b[0m\n\u001b[1;32m     44\u001b[0m     \u001b[0;31m# Here we compute the initial vector to do linear search\u001b[0m\u001b[0;34m\u001b[0m\u001b[0;34m\u001b[0m\u001b[0;34m\u001b[0m\u001b[0m\n",
            "\u001b[0;32m<ipython-input-27-2e6597e50d98>\u001b[0m in \u001b[0;36mconjugate_gradient\u001b[0;34m(f_Ax, b, cg_iters, residual_tol)\u001b[0m\n\u001b[1;32m     15\u001b[0m     \u001b[0mrdotr\u001b[0m \u001b[0;34m=\u001b[0m \u001b[0mtorch\u001b[0m\u001b[0;34m.\u001b[0m\u001b[0msum\u001b[0m\u001b[0;34m(\u001b[0m\u001b[0mr\u001b[0m\u001b[0;34m*\u001b[0m\u001b[0mr\u001b[0m\u001b[0;34m)\u001b[0m\u001b[0;34m\u001b[0m\u001b[0;34m\u001b[0m\u001b[0m\n\u001b[1;32m     16\u001b[0m     \u001b[0;32mfor\u001b[0m \u001b[0mi\u001b[0m \u001b[0;32min\u001b[0m \u001b[0mrange\u001b[0m\u001b[0;34m(\u001b[0m\u001b[0mcg_iters\u001b[0m\u001b[0;34m)\u001b[0m\u001b[0;34m:\u001b[0m\u001b[0;34m\u001b[0m\u001b[0;34m\u001b[0m\u001b[0m\n\u001b[0;32m---> 17\u001b[0;31m         \u001b[0mz\u001b[0m \u001b[0;34m=\u001b[0m \u001b[0mf_Ax\u001b[0m\u001b[0;34m(\u001b[0m\u001b[0mp\u001b[0m\u001b[0;34m)\u001b[0m\u001b[0;34m\u001b[0m\u001b[0;34m\u001b[0m\u001b[0m\n\u001b[0m\u001b[1;32m     18\u001b[0m         \u001b[0mv\u001b[0m \u001b[0;34m=\u001b[0m \u001b[0mrdotr\u001b[0m \u001b[0;34m/\u001b[0m \u001b[0;34m(\u001b[0m\u001b[0mtorch\u001b[0m\u001b[0;34m.\u001b[0m\u001b[0msum\u001b[0m\u001b[0;34m(\u001b[0m\u001b[0mp\u001b[0m\u001b[0;34m*\u001b[0m\u001b[0mz\u001b[0m\u001b[0;34m)\u001b[0m \u001b[0;34m+\u001b[0m \u001b[0;36m1e-8\u001b[0m\u001b[0;34m)\u001b[0m\u001b[0;34m\u001b[0m\u001b[0;34m\u001b[0m\u001b[0m\n\u001b[1;32m     19\u001b[0m         \u001b[0mx\u001b[0m \u001b[0;34m+=\u001b[0m \u001b[0mv\u001b[0m \u001b[0;34m*\u001b[0m \u001b[0mp\u001b[0m\u001b[0;34m\u001b[0m\u001b[0;34m\u001b[0m\u001b[0m\n",
            "\u001b[0;32m<ipython-input-29-65c518b59082>\u001b[0m in \u001b[0;36mFvp\u001b[0;34m(v)\u001b[0m\n\u001b[1;32m     33\u001b[0m \u001b[0;34m\u001b[0m\u001b[0m\n\u001b[1;32m     34\u001b[0m         \u001b[0mkl_v\u001b[0m \u001b[0;34m=\u001b[0m \u001b[0;34m(\u001b[0m\u001b[0mflat_grad_kl\u001b[0m \u001b[0;34m*\u001b[0m \u001b[0mVariable\u001b[0m\u001b[0;34m(\u001b[0m\u001b[0mv\u001b[0m\u001b[0;34m)\u001b[0m\u001b[0;34m)\u001b[0m\u001b[0;34m.\u001b[0m\u001b[0msum\u001b[0m\u001b[0;34m(\u001b[0m\u001b[0;34m)\u001b[0m\u001b[0;34m\u001b[0m\u001b[0;34m\u001b[0m\u001b[0m\n\u001b[0;32m---> 35\u001b[0;31m         \u001b[0mgrads\u001b[0m \u001b[0;34m=\u001b[0m \u001b[0mtorch\u001b[0m\u001b[0;34m.\u001b[0m\u001b[0mautograd\u001b[0m\u001b[0;34m.\u001b[0m\u001b[0mgrad\u001b[0m\u001b[0;34m(\u001b[0m\u001b[0mkl_v\u001b[0m\u001b[0;34m,\u001b[0m \u001b[0magent\u001b[0m\u001b[0;34m.\u001b[0m\u001b[0mparameters\u001b[0m\u001b[0;34m(\u001b[0m\u001b[0;34m)\u001b[0m\u001b[0;34m)\u001b[0m\u001b[0;34m\u001b[0m\u001b[0;34m\u001b[0m\u001b[0m\n\u001b[0m\u001b[1;32m     36\u001b[0m         flat_grad_grad_kl = torch.cat(\n\u001b[1;32m     37\u001b[0m             [grad.contiguous().view(-1) for grad in grads]).data\n",
            "\u001b[0;32m/usr/local/lib/python3.6/dist-packages/torch/autograd/__init__.py\u001b[0m in \u001b[0;36mgrad\u001b[0;34m(outputs, inputs, grad_outputs, retain_graph, create_graph, only_inputs, allow_unused)\u001b[0m\n\u001b[1;32m    143\u001b[0m     return Variable._execution_engine.run_backward(\n\u001b[1;32m    144\u001b[0m         \u001b[0moutputs\u001b[0m\u001b[0;34m,\u001b[0m \u001b[0mgrad_outputs\u001b[0m\u001b[0;34m,\u001b[0m \u001b[0mretain_graph\u001b[0m\u001b[0;34m,\u001b[0m \u001b[0mcreate_graph\u001b[0m\u001b[0;34m,\u001b[0m\u001b[0;34m\u001b[0m\u001b[0;34m\u001b[0m\u001b[0m\n\u001b[0;32m--> 145\u001b[0;31m         inputs, allow_unused)\n\u001b[0m\u001b[1;32m    146\u001b[0m \u001b[0;34m\u001b[0m\u001b[0m\n\u001b[1;32m    147\u001b[0m \u001b[0;34m\u001b[0m\u001b[0m\n",
            "\u001b[0;31mKeyboardInterrupt\u001b[0m: "
          ]
        }
      ]
    },
    {
      "metadata": {
        "id": "MroW8xdPqORY",
        "colab_type": "text"
      },
      "cell_type": "markdown",
      "source": [
        "# Homework option I: better sampling (10+pts)\n",
        "\n",
        "In this section, you're invited to implement a better rollout strategy called _vine_.\n",
        "\n",
        "![img](https://s17.postimg.org/i90chxgvj/vine.png)\n",
        "\n",
        "In most gym environments, you can actually backtrack by using states. You can find a wrapper that saves/loads states in [the mcts seminar](https://github.com/yandexdataschool/Practical_RL/blob/master/yet_another_week/seminar_MCTS.ipynb).\n",
        "\n",
        "You can read more about in the [TRPO article](https://arxiv.org/abs/1502.05477) in section 5.2.\n",
        "\n",
        "The goal here is to implement such rollout policy (we recommend using tree data structure like in the seminar above).\n",
        "Then you can assign cummulative rewards similar to `get_cummulative_rewards`, but for a tree.\n",
        "\n",
        "__bonus task__ - parallelize samples using multiple cores"
      ]
    },
    {
      "metadata": {
        "collapsed": true,
        "id": "nLGcLegbqORY",
        "colab_type": "text"
      },
      "cell_type": "markdown",
      "source": [
        "# Homework option II (10+pts)\n",
        "\n",
        "Let's use TRPO to train evil robots! (pick any of two)\n",
        "* [MuJoCo robots](https://gym.openai.com/envs#mujoco)\n",
        "* [Box2d robot](https://gym.openai.com/envs/BipedalWalker-v2)\n",
        "\n",
        "The catch here is that those environments have continuous action spaces. \n",
        "\n",
        "Luckily, TRPO is a policy gradient method, so it's gonna work for any parametric $\\pi_\\theta(a|s)$. We recommend starting with gaussian policy:\n",
        "\n",
        "$$\\pi_\\theta(a|s) = N(\\mu_\\theta(s),\\sigma^2_\\theta(s)) = {1 \\over \\sqrt { 2 \\pi {\\sigma^2}_\\theta(s) } } e^{ (a - \n",
        "\\mu_\\theta(s))^2 \\over 2 {\\sigma^2}_\\theta(s) } $$\n",
        "\n",
        "In the $\\sqrt { 2 \\pi {\\sigma^2}_\\theta(s) }$ clause, $\\pi$ means ~3.1415926, not agent's policy.\n",
        "\n",
        "This essentially means that you will need two output layers:\n",
        "* $\\mu_\\theta(s)$, a dense layer with linear activation\n",
        "* ${\\sigma^2}_\\theta(s)$, a dense layer with activation tf.exp (to make it positive; like rho from bandits)\n",
        "\n",
        "For multidimensional actions, you can use fully factorized gaussian (basically a vector of gaussians).\n",
        "\n",
        "__bonus task__: compare performance of continuous action space method to action space discretization"
      ]
    },
    {
      "metadata": {
        "id": "2AjHzmjyqORY",
        "colab_type": "code",
        "colab": {}
      },
      "cell_type": "code",
      "source": [
        ""
      ],
      "execution_count": 0,
      "outputs": []
    }
  ]
}